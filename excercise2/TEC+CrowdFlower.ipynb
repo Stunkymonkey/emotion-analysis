{
 "cells": [
  {
   "cell_type": "code",
   "execution_count": 1,
   "metadata": {},
   "outputs": [
    {
     "name": "stderr",
     "output_type": "stream",
     "text": [
      "WARNING:root:Limited tf.compat.v2.summary API due to missing TensorBoard installation.\n",
      "WARNING:root:Limited tf.compat.v2.summary API due to missing TensorBoard installation.\n",
      "WARNING:root:Limited tf.compat.v2.summary API due to missing TensorBoard installation.\n",
      "WARNING:root:Limited tf.summary API due to missing TensorBoard installation.\n"
     ]
    }
   ],
   "source": [
    "import pandas as pd\n",
    "from collections import Counter\n",
    "import numpy as np\n",
    "from sklearn.model_selection import train_test_split\n",
    "from sklearn.utils import class_weight\n",
    "import keras as ks\n",
    "from keras.preprocessing.text import Tokenizer\n",
    "from keras.preprocessing import sequence\n",
    "from keras.models import Sequential\n",
    "from keras.layers import *\n",
    "from keras.optimizers import *\n",
    "from keras.regularizers import l2\n",
    "from keras.callbacks import ReduceLROnPlateau, Callback"
   ]
  },
  {
   "cell_type": "markdown",
   "metadata": {},
   "source": [
    "# read data"
   ]
  },
  {
   "cell_type": "code",
   "execution_count": 2,
   "metadata": {},
   "outputs": [],
   "source": [
    "df = pd.read_json (r'./corpora-DO_NOT_SHARE/unified-dataset.json', lines=True)"
   ]
  },
  {
   "cell_type": "code",
   "execution_count": 3,
   "metadata": {},
   "outputs": [
    {
     "data": {
      "text/plain": [
       "array(['tec', 'ssec', 'dailydialogues', 'fb-valence-arousal-anon',\n",
       "       'affectivetext', 'emotiondata-aman', 'electoraltweets',\n",
       "       'grounded_emotions', 'emotion-cause', 'isear', 'emoint',\n",
       "       'crowdflower', 'tales-emotion'], dtype=object)"
      ]
     },
     "execution_count": 3,
     "metadata": {},
     "output_type": "execute_result"
    }
   ],
   "source": [
    "df['source'].unique()"
   ]
  },
  {
   "cell_type": "code",
   "execution_count": 4,
   "metadata": {},
   "outputs": [],
   "source": [
    "# select only needed sources\n",
    "df = df.loc[(df['source'] == \"tec\") | (df['source'] == \"crowdflower\")]"
   ]
  },
  {
   "cell_type": "code",
   "execution_count": 5,
   "metadata": {},
   "outputs": [],
   "source": [
    "# remove not needed columns\n",
    "df = df.drop(columns=['id', 'VAD', 'split', 'domain', 'labeled', 'optional', 'annotation_procedure', 'emotion_model'])"
   ]
  },
  {
   "cell_type": "code",
   "execution_count": 6,
   "metadata": {},
   "outputs": [],
   "source": [
    "# convert emotions dict to columns\n",
    "df = df.join(df['emotions'].apply(pd.Series))"
   ]
  },
  {
   "cell_type": "code",
   "execution_count": 7,
   "metadata": {},
   "outputs": [],
   "source": [
    "# remove not needed columns\n",
    "df = df.drop(columns=['emotions', 'trust', 'love', 'noemo', 'confusion', 'anticipation', 'shame', 'guilt', 'anticipation'])"
   ]
  },
  {
   "cell_type": "code",
   "execution_count": 8,
   "metadata": {},
   "outputs": [],
   "source": [
    "# remove not annotated texts\n",
    "df = df.loc[(df['joy'] != 0) | (df['anger'] != 0) | (df['sadness'] != 0) | (df['disgust'] != 0) | (df['fear'] != 0) | (df['surprise'] != 0)]"
   ]
  },
  {
   "cell_type": "markdown",
   "metadata": {},
   "source": [
    "# preprocessing"
   ]
  },
  {
   "cell_type": "code",
   "execution_count": 9,
   "metadata": {},
   "outputs": [],
   "source": [
    "embeddings_index = {}\n",
    "\n",
    "num_words = 10000\n",
    "maxlen = df.text.str.split().apply(len).max()\n",
    "embedding_dim = 100"
   ]
  },
  {
   "cell_type": "code",
   "execution_count": 10,
   "metadata": {},
   "outputs": [
    {
     "data": {
      "text/plain": [
       "Index(['source', 'text', 'joy', 'anger', 'sadness', 'disgust', 'fear',\n",
       "       'surprise'],\n",
       "      dtype='object')"
      ]
     },
     "execution_count": 10,
     "metadata": {},
     "output_type": "execute_result"
    }
   ],
   "source": [
    "df.columns"
   ]
  },
  {
   "cell_type": "code",
   "execution_count": 11,
   "metadata": {},
   "outputs": [],
   "source": [
    "#data_source = df\n",
    "data_source = df.loc[(df['source'] == \"tec\")]\n",
    "#data_source = df.loc[(df['source'] == \"crowdflower\")]"
   ]
  },
  {
   "cell_type": "code",
   "execution_count": 12,
   "metadata": {},
   "outputs": [],
   "source": [
    "# select x and y\n",
    "samples = data_source['text']\n",
    "labels = data_source.loc[:, (data_source.columns != 'text') & (data_source.columns != 'source')].values\n",
    "\n",
    "tokenizer = Tokenizer(num_words)\n",
    "tokenizer.fit_on_texts(samples)\n",
    "\n",
    "sequences = tokenizer.texts_to_sequences(samples)\n",
    "word_index = tokenizer.word_index\n",
    "\n",
    "padded_sequences = sequence.pad_sequences(sequences, maxlen, padding='post')"
   ]
  },
  {
   "cell_type": "code",
   "execution_count": 13,
   "metadata": {},
   "outputs": [],
   "source": [
    "f = open(\"glove.6B.100d.txt\")\n",
    "for line in f:\n",
    "    values = line.split()\n",
    "    word = values[0]\n",
    "    coefs = np.asarray(values[1:], dtype='float32')\n",
    "    embeddings_index[word] = coefs\n",
    "f.close()"
   ]
  },
  {
   "cell_type": "code",
   "execution_count": 14,
   "metadata": {},
   "outputs": [
    {
     "name": "stdout",
     "output_type": "stream",
     "text": [
      "Found 400000 word vectors.\n"
     ]
    }
   ],
   "source": [
    "print(\"Found %s word vectors.\" % len(embeddings_index))"
   ]
  },
  {
   "cell_type": "code",
   "execution_count": 15,
   "metadata": {},
   "outputs": [],
   "source": [
    "embedding_matrix = np.zeros((num_words, embedding_dim))\n",
    "for word, i in word_index.items():\n",
    "    if i < num_words:\n",
    "        embedding_vector = embeddings_index.get(word)\n",
    "        if embedding_vector is not None:\n",
    "            embedding_matrix[i] = embedding_vector"
   ]
  },
  {
   "cell_type": "code",
   "execution_count": 16,
   "metadata": {},
   "outputs": [
    {
     "data": {
      "text/plain": [
       "array([1595,   14,   92,    4,  125, 5594,  196,  234,    0,    0,    0,\n",
       "          0,    0,    0,    0,    0,    0,    0,    0,    0,    0,    0,\n",
       "          0,    0,    0,    0,    0,    0,    0,    0,    0,    0,    0,\n",
       "          0], dtype=int32)"
      ]
     },
     "execution_count": 16,
     "metadata": {},
     "output_type": "execute_result"
    }
   ],
   "source": [
    "padded_sequences[0]"
   ]
  },
  {
   "cell_type": "markdown",
   "metadata": {},
   "source": [
    "# data split"
   ]
  },
  {
   "cell_type": "code",
   "execution_count": 17,
   "metadata": {},
   "outputs": [],
   "source": [
    "x_train, x_test, y_train, y_test = train_test_split(padded_sequences, labels, test_size=0.33, random_state=42)"
   ]
  },
  {
   "cell_type": "code",
   "execution_count": 18,
   "metadata": {},
   "outputs": [
    {
     "name": "stderr",
     "output_type": "stream",
     "text": [
      "/nix/store/zznsnbalkzq412d5x0skwcgafghv216h-python3-3.8.5-env/lib/python3.8/site-packages/sklearn/utils/validation.py:67: FutureWarning: Pass classes=[0 1 2 3 4 5], y=[5 4 2 ... 5 0 2] as keyword args. From version 0.25 passing these as positional arguments will result in an error\n",
      "  warnings.warn(\"Pass {} as keyword args. From version 0.25 \"\n"
     ]
    }
   ],
   "source": [
    "y_integers = np.argmax(y_train, axis=1)\n",
    "class_weights = class_weight.compute_class_weight('balanced', np.unique(y_integers), y_integers)\n",
    "class_weights = dict(enumerate(class_weights))"
   ]
  },
  {
   "cell_type": "code",
   "execution_count": 19,
   "metadata": {},
   "outputs": [
    {
     "name": "stdout",
     "output_type": "stream",
     "text": [
      "Distribution of train-classes: \n",
      "{(1.0, 0.0, 0.0, 0.0, 0.0, 0.0): 5505, (0.0, 1.0, 0.0, 0.0, 0.0, 0.0): 1033, (0.0, 0.0, 1.0, 0.0, 0.0, 0.0): 2625, (0.0, 0.0, 0.0, 1.0, 0.0, 0.0): 502, (0.0, 0.0, 0.0, 0.0, 1.0, 0.0): 1871, (0.0, 0.0, 0.0, 0.0, 0.0, 1.0): 2566}\n"
     ]
    }
   ],
   "source": [
    "print(\"Distribution of train-classes: \")\n",
    "_, idx, count = np.unique(y_train.argmax(axis=1), return_counts=1, return_index=1)\n",
    "print({tuple(i):j for i,j in zip(y_train[idx],count)})"
   ]
  },
  {
   "cell_type": "code",
   "execution_count": 20,
   "metadata": {},
   "outputs": [
    {
     "data": {
      "text/plain": [
       "{0: 0.4269452013321223,\n",
       " 1: 2.275250080671184,\n",
       " 2: 0.8953650793650794,\n",
       " 3: 4.681938911022576,\n",
       " 4: 1.2561909852128987,\n",
       " 5: 0.9159521953754222}"
      ]
     },
     "execution_count": 20,
     "metadata": {},
     "output_type": "execute_result"
    }
   ],
   "source": [
    "class_weights"
   ]
  },
  {
   "cell_type": "markdown",
   "metadata": {},
   "source": [
    "# model training"
   ]
  },
  {
   "cell_type": "code",
   "execution_count": 21,
   "metadata": {},
   "outputs": [],
   "source": [
    "# [\"conv\", \"lstm\", \"simple\"]\n",
    "method = \"lstm\""
   ]
  },
  {
   "cell_type": "code",
   "execution_count": 22,
   "metadata": {},
   "outputs": [
    {
     "name": "stdout",
     "output_type": "stream",
     "text": [
      "Model: \"sequential\"\n",
      "_________________________________________________________________\n",
      "Layer (type)                 Output Shape              Param #   \n",
      "=================================================================\n",
      "embedding (Embedding)        (None, 34, 100)           1000000   \n",
      "_________________________________________________________________\n",
      "bidirectional (Bidirectional (None, 64)                34048     \n",
      "_________________________________________________________________\n",
      "dense (Dense)                (None, 6)                 390       \n",
      "=================================================================\n",
      "Total params: 1,034,438\n",
      "Trainable params: 34,438\n",
      "Non-trainable params: 1,000,000\n",
      "_________________________________________________________________\n",
      "None\n",
      "Epoch 1/100\n",
      "142/142 [==============================] - 8s 58ms/step - loss: 1.7959 - accuracy: 0.1949 - val_loss: 1.7806 - val_accuracy: 0.1895\n",
      "Epoch 2/100\n",
      "142/142 [==============================] - 6s 40ms/step - loss: 1.7686 - accuracy: 0.2180 - val_loss: 1.7516 - val_accuracy: 0.2793\n",
      "Epoch 3/100\n",
      "142/142 [==============================] - 6s 41ms/step - loss: 1.7486 - accuracy: 0.2884 - val_loss: 1.7364 - val_accuracy: 0.2931\n",
      "Epoch 4/100\n",
      "142/142 [==============================] - 6s 42ms/step - loss: 1.7266 - accuracy: 0.3130 - val_loss: 1.6974 - val_accuracy: 0.3405\n",
      "Epoch 5/100\n",
      "142/142 [==============================] - 6s 42ms/step - loss: 1.7011 - accuracy: 0.3495 - val_loss: 1.6626 - val_accuracy: 0.3671\n",
      "Epoch 6/100\n",
      "142/142 [==============================] - 5s 35ms/step - loss: 1.6721 - accuracy: 0.3667 - val_loss: 1.6466 - val_accuracy: 0.3658\n",
      "Epoch 7/100\n",
      "142/142 [==============================] - 5s 33ms/step - loss: 1.6483 - accuracy: 0.3740 - val_loss: 1.6100 - val_accuracy: 0.3853\n",
      "Epoch 8/100\n",
      "142/142 [==============================] - 6s 39ms/step - loss: 1.6288 - accuracy: 0.3841 - val_loss: 1.5899 - val_accuracy: 0.3972\n",
      "Epoch 9/100\n",
      "142/142 [==============================] - 6s 41ms/step - loss: 1.6118 - accuracy: 0.3921 - val_loss: 1.6038 - val_accuracy: 0.3812\n",
      "Epoch 10/100\n",
      "142/142 [==============================] - 6s 40ms/step - loss: 1.5952 - accuracy: 0.3961 - val_loss: 1.5699 - val_accuracy: 0.3971\n",
      "Epoch 11/100\n",
      "142/142 [==============================] - 5s 38ms/step - loss: 1.5795 - accuracy: 0.3994 - val_loss: 1.5927 - val_accuracy: 0.3812\n",
      "Epoch 12/100\n",
      "142/142 [==============================] - 5s 35ms/step - loss: 1.5652 - accuracy: 0.4014 - val_loss: 1.5426 - val_accuracy: 0.4089\n",
      "Epoch 13/100\n",
      "142/142 [==============================] - 6s 39ms/step - loss: 1.5529 - accuracy: 0.4078 - val_loss: 1.5117 - val_accuracy: 0.4214\n",
      "Epoch 14/100\n",
      "142/142 [==============================] - 5s 37ms/step - loss: 1.5399 - accuracy: 0.4125 - val_loss: 1.5067 - val_accuracy: 0.4200\n",
      "Epoch 15/100\n",
      "142/142 [==============================] - 6s 39ms/step - loss: 1.5281 - accuracy: 0.4120 - val_loss: 1.5143 - val_accuracy: 0.4146\n",
      "Epoch 16/100\n",
      "142/142 [==============================] - 5s 38ms/step - loss: 1.5168 - accuracy: 0.4143 - val_loss: 1.5069 - val_accuracy: 0.4187\n",
      "Epoch 17/100\n",
      "142/142 [==============================] - 5s 39ms/step - loss: 1.5069 - accuracy: 0.4189 - val_loss: 1.5123 - val_accuracy: 0.4117\n",
      "Epoch 18/100\n",
      "142/142 [==============================] - 5s 36ms/step - loss: 1.4973 - accuracy: 0.4211 - val_loss: 1.4789 - val_accuracy: 0.4197\n",
      "Epoch 19/100\n",
      "142/142 [==============================] - 6s 40ms/step - loss: 1.4887 - accuracy: 0.4217 - val_loss: 1.4787 - val_accuracy: 0.4248\n",
      "Epoch 20/100\n",
      "142/142 [==============================] - 6s 39ms/step - loss: 1.4802 - accuracy: 0.4265 - val_loss: 1.4833 - val_accuracy: 0.4204\n",
      "Epoch 21/100\n",
      "142/142 [==============================] - 5s 38ms/step - loss: 1.4719 - accuracy: 0.4267 - val_loss: 1.4510 - val_accuracy: 0.4349\n",
      "Epoch 22/100\n",
      "142/142 [==============================] - 5s 38ms/step - loss: 1.4658 - accuracy: 0.4309 - val_loss: 1.4709 - val_accuracy: 0.4260\n",
      "Epoch 23/100\n",
      "142/142 [==============================] - 5s 39ms/step - loss: 1.4581 - accuracy: 0.4332 - val_loss: 1.4806 - val_accuracy: 0.4240\n",
      "Epoch 24/100\n",
      "142/142 [==============================] - 5s 38ms/step - loss: 1.4522 - accuracy: 0.4355 - val_loss: 1.4352 - val_accuracy: 0.4453\n",
      "Epoch 25/100\n",
      "142/142 [==============================] - 6s 39ms/step - loss: 1.4458 - accuracy: 0.4366 - val_loss: 1.4116 - val_accuracy: 0.4541\n",
      "Epoch 26/100\n",
      "142/142 [==============================] - 5s 33ms/step - loss: 1.4395 - accuracy: 0.4426 - val_loss: 1.4373 - val_accuracy: 0.4378\n",
      "Epoch 27/100\n",
      "142/142 [==============================] - 5s 36ms/step - loss: 1.4334 - accuracy: 0.4440 - val_loss: 1.4184 - val_accuracy: 0.4545\n",
      "Epoch 28/100\n",
      "142/142 [==============================] - 5s 33ms/step - loss: 1.4283 - accuracy: 0.4491 - val_loss: 1.4620 - val_accuracy: 0.4299\n",
      "Epoch 29/100\n",
      "142/142 [==============================] - 5s 33ms/step - loss: 1.4222 - accuracy: 0.4470 - val_loss: 1.4205 - val_accuracy: 0.4557\n",
      "Epoch 30/100\n",
      "142/142 [==============================] - 5s 34ms/step - loss: 1.4162 - accuracy: 0.4492 - val_loss: 1.4024 - val_accuracy: 0.4580\n",
      "Epoch 31/100\n",
      "142/142 [==============================] - 5s 39ms/step - loss: 1.4113 - accuracy: 0.4516 - val_loss: 1.4146 - val_accuracy: 0.4521\n",
      "Epoch 32/100\n",
      "142/142 [==============================] - 6s 39ms/step - loss: 1.4061 - accuracy: 0.4534 - val_loss: 1.4246 - val_accuracy: 0.4545\n",
      "Epoch 33/100\n",
      "142/142 [==============================] - 5s 38ms/step - loss: 1.4018 - accuracy: 0.4552 - val_loss: 1.4684 - val_accuracy: 0.4355\n",
      "Epoch 34/100\n",
      "142/142 [==============================] - 5s 38ms/step - loss: 1.3957 - accuracy: 0.4584 - val_loss: 1.5155 - val_accuracy: 0.4165\n",
      "Epoch 35/100\n",
      "142/142 [==============================] - 5s 38ms/step - loss: 1.3914 - accuracy: 0.4579 - val_loss: 1.4789 - val_accuracy: 0.4344\n",
      "Epoch 36/100\n",
      "142/142 [==============================] - 6s 39ms/step - loss: 1.3869 - accuracy: 0.4586 - val_loss: 1.4155 - val_accuracy: 0.4529\n",
      "Epoch 37/100\n",
      "142/142 [==============================] - 5s 38ms/step - loss: 1.3815 - accuracy: 0.4631 - val_loss: 1.4642 - val_accuracy: 0.4374\n",
      "Epoch 38/100\n",
      "142/142 [==============================] - 6s 39ms/step - loss: 1.3775 - accuracy: 0.4648 - val_loss: 1.4286 - val_accuracy: 0.4529\n",
      "Epoch 39/100\n",
      "142/142 [==============================] - 6s 39ms/step - loss: 1.3723 - accuracy: 0.4661 - val_loss: 1.4909 - val_accuracy: 0.4254\n",
      "Epoch 40/100\n",
      "142/142 [==============================] - 5s 38ms/step - loss: 1.3679 - accuracy: 0.4646 - val_loss: 1.3773 - val_accuracy: 0.4654\n",
      "Epoch 41/100\n",
      "142/142 [==============================] - 6s 40ms/step - loss: 1.3633 - accuracy: 0.4661 - val_loss: 1.3967 - val_accuracy: 0.4585\n",
      "Epoch 42/100\n",
      "142/142 [==============================] - 5s 37ms/step - loss: 1.3584 - accuracy: 0.4697 - val_loss: 1.4194 - val_accuracy: 0.4440\n",
      "Epoch 43/100\n",
      "142/142 [==============================] - 5s 37ms/step - loss: 1.3540 - accuracy: 0.4686 - val_loss: 1.3774 - val_accuracy: 0.4604\n",
      "Epoch 44/100\n",
      "142/142 [==============================] - 5s 34ms/step - loss: 1.3496 - accuracy: 0.4715 - val_loss: 1.3893 - val_accuracy: 0.4601\n",
      "Epoch 45/100\n",
      "142/142 [==============================] - 5s 35ms/step - loss: 1.3469 - accuracy: 0.4741 - val_loss: 1.4032 - val_accuracy: 0.4604\n",
      "Epoch 46/100\n",
      "142/142 [==============================] - 5s 38ms/step - loss: 1.3418 - accuracy: 0.4757 - val_loss: 1.3940 - val_accuracy: 0.4618\n",
      "Epoch 47/100\n",
      "142/142 [==============================] - 5s 39ms/step - loss: 1.3376 - accuracy: 0.4760 - val_loss: 1.4875 - val_accuracy: 0.4289\n",
      "Epoch 48/100\n",
      "142/142 [==============================] - 5s 38ms/step - loss: 1.3323 - accuracy: 0.4770 - val_loss: 1.3749 - val_accuracy: 0.4699\n",
      "Epoch 49/100\n",
      "142/142 [==============================] - 6s 39ms/step - loss: 1.3293 - accuracy: 0.4797 - val_loss: 1.3847 - val_accuracy: 0.4660\n",
      "Epoch 50/100\n",
      "142/142 [==============================] - 6s 39ms/step - loss: 1.3257 - accuracy: 0.4797 - val_loss: 1.3889 - val_accuracy: 0.4644\n",
      "Epoch 51/100\n",
      "142/142 [==============================] - 6s 39ms/step - loss: 1.3201 - accuracy: 0.4837 - val_loss: 1.4233 - val_accuracy: 0.4476\n",
      "Epoch 52/100\n"
     ]
    },
    {
     "name": "stdout",
     "output_type": "stream",
     "text": [
      "142/142 [==============================] - 6s 39ms/step - loss: 1.3158 - accuracy: 0.4824 - val_loss: 1.3515 - val_accuracy: 0.4762\n",
      "Epoch 53/100\n",
      "142/142 [==============================] - 5s 39ms/step - loss: 1.3124 - accuracy: 0.4845 - val_loss: 1.3975 - val_accuracy: 0.4616\n",
      "Epoch 54/100\n",
      "142/142 [==============================] - 5s 39ms/step - loss: 1.3083 - accuracy: 0.4863 - val_loss: 1.5884 - val_accuracy: 0.3955\n",
      "Epoch 55/100\n",
      "142/142 [==============================] - 5s 37ms/step - loss: 1.3059 - accuracy: 0.4827 - val_loss: 1.4574 - val_accuracy: 0.4477\n",
      "Epoch 56/100\n",
      "142/142 [==============================] - 5s 38ms/step - loss: 1.2997 - accuracy: 0.4895 - val_loss: 1.3777 - val_accuracy: 0.4672\n",
      "Epoch 57/100\n",
      "142/142 [==============================] - 6s 39ms/step - loss: 1.2982 - accuracy: 0.4891 - val_loss: 1.3446 - val_accuracy: 0.4798\n",
      "Epoch 58/100\n",
      "142/142 [==============================] - 6s 39ms/step - loss: 1.2932 - accuracy: 0.4902 - val_loss: 1.5306 - val_accuracy: 0.4179\n",
      "Epoch 59/100\n",
      "142/142 [==============================] - 6s 44ms/step - loss: 1.2879 - accuracy: 0.4894 - val_loss: 1.4631 - val_accuracy: 0.4354\n",
      "Epoch 60/100\n",
      "142/142 [==============================] - 6s 44ms/step - loss: 1.2845 - accuracy: 0.4899 - val_loss: 1.5148 - val_accuracy: 0.4289\n",
      "Epoch 61/100\n",
      "142/142 [==============================] - 5s 37ms/step - loss: 1.2805 - accuracy: 0.4928 - val_loss: 1.4265 - val_accuracy: 0.4571\n",
      "Epoch 62/100\n",
      "142/142 [==============================] - 5s 38ms/step - loss: 1.2773 - accuracy: 0.4937 - val_loss: 1.4088 - val_accuracy: 0.4680\n",
      "Epoch 63/100\n",
      "142/142 [==============================] - 5s 37ms/step - loss: 1.2717 - accuracy: 0.4987 - val_loss: 1.3722 - val_accuracy: 0.4738\n",
      "Epoch 64/100\n",
      "142/142 [==============================] - 5s 34ms/step - loss: 1.2696 - accuracy: 0.4988 - val_loss: 1.4398 - val_accuracy: 0.4544\n",
      "Epoch 65/100\n",
      "142/142 [==============================] - 6s 39ms/step - loss: 1.2665 - accuracy: 0.4979 - val_loss: 1.5184 - val_accuracy: 0.4266\n",
      "Epoch 66/100\n",
      "142/142 [==============================] - 6s 39ms/step - loss: 1.2619 - accuracy: 0.5018 - val_loss: 1.3591 - val_accuracy: 0.4752\n",
      "Epoch 67/100\n",
      "142/142 [==============================] - 6s 39ms/step - loss: 1.2563 - accuracy: 0.5041 - val_loss: 1.3765 - val_accuracy: 0.4611\n",
      "Epoch 68/100\n",
      "142/142 [==============================] - 5s 36ms/step - loss: 1.2546 - accuracy: 0.4993 - val_loss: 1.3595 - val_accuracy: 0.4754\n",
      "Epoch 69/100\n",
      "142/142 [==============================] - 5s 37ms/step - loss: 1.2491 - accuracy: 0.5043 - val_loss: 1.4669 - val_accuracy: 0.4512\n",
      "Epoch 70/100\n",
      "142/142 [==============================] - 5s 38ms/step - loss: 1.2467 - accuracy: 0.5038 - val_loss: 1.4649 - val_accuracy: 0.4508\n",
      "Epoch 71/100\n",
      "142/142 [==============================] - 5s 37ms/step - loss: 1.2419 - accuracy: 0.5071 - val_loss: 1.3496 - val_accuracy: 0.4853\n",
      "Epoch 72/100\n",
      "142/142 [==============================] - 6s 42ms/step - loss: 1.2375 - accuracy: 0.5059 - val_loss: 1.3837 - val_accuracy: 0.4624\n",
      "Epoch 73/100\n",
      "142/142 [==============================] - 6s 39ms/step - loss: 1.2348 - accuracy: 0.5066 - val_loss: 1.3408 - val_accuracy: 0.4919\n",
      "Epoch 74/100\n",
      "142/142 [==============================] - 5s 39ms/step - loss: 1.2320 - accuracy: 0.5079 - val_loss: 1.4903 - val_accuracy: 0.4361\n",
      "Epoch 75/100\n",
      "142/142 [==============================] - 5s 39ms/step - loss: 1.2276 - accuracy: 0.5100 - val_loss: 1.3823 - val_accuracy: 0.4565\n",
      "Epoch 76/100\n",
      "142/142 [==============================] - 5s 38ms/step - loss: 1.2230 - accuracy: 0.5123 - val_loss: 1.3366 - val_accuracy: 0.4873\n",
      "Epoch 77/100\n",
      "142/142 [==============================] - 5s 38ms/step - loss: 1.2202 - accuracy: 0.5134 - val_loss: 1.3595 - val_accuracy: 0.4859\n",
      "Epoch 78/100\n",
      "142/142 [==============================] - 5s 35ms/step - loss: 1.2157 - accuracy: 0.5165 - val_loss: 1.5257 - val_accuracy: 0.4277\n",
      "Epoch 79/100\n",
      "142/142 [==============================] - 6s 40ms/step - loss: 1.2108 - accuracy: 0.5158 - val_loss: 1.3789 - val_accuracy: 0.4698\n",
      "Epoch 80/100\n",
      "142/142 [==============================] - 5s 37ms/step - loss: 1.2081 - accuracy: 0.5192 - val_loss: 1.4420 - val_accuracy: 0.4608\n",
      "Epoch 81/100\n",
      "142/142 [==============================] - 5s 38ms/step - loss: 1.2043 - accuracy: 0.5159 - val_loss: 1.3505 - val_accuracy: 0.4898\n",
      "Epoch 82/100\n",
      "142/142 [==============================] - 5s 37ms/step - loss: 1.2015 - accuracy: 0.5185 - val_loss: 1.3966 - val_accuracy: 0.4667\n",
      "Epoch 83/100\n",
      "142/142 [==============================] - 5s 37ms/step - loss: 1.1976 - accuracy: 0.5196 - val_loss: 1.3721 - val_accuracy: 0.4801\n",
      "Epoch 84/100\n",
      "142/142 [==============================] - 5s 37ms/step - loss: 1.1910 - accuracy: 0.5223 - val_loss: 1.4442 - val_accuracy: 0.4525\n",
      "Epoch 85/100\n",
      "142/142 [==============================] - 5s 38ms/step - loss: 1.1884 - accuracy: 0.5194 - val_loss: 1.3727 - val_accuracy: 0.4780\n",
      "Epoch 86/100\n",
      "142/142 [==============================] - 5s 34ms/step - loss: 1.1856 - accuracy: 0.5221 - val_loss: 1.3703 - val_accuracy: 0.4804\n",
      "Epoch 87/100\n",
      "142/142 [==============================] - 4s 31ms/step - loss: 1.1804 - accuracy: 0.5228 - val_loss: 1.3740 - val_accuracy: 0.4739\n",
      "Epoch 88/100\n",
      "142/142 [==============================] - 5s 34ms/step - loss: 1.1770 - accuracy: 0.5255 - val_loss: 1.4120 - val_accuracy: 0.4643\n",
      "Epoch 89/100\n",
      "142/142 [==============================] - 5s 35ms/step - loss: 1.1747 - accuracy: 0.5284 - val_loss: 1.4186 - val_accuracy: 0.4742\n",
      "Epoch 90/100\n",
      "142/142 [==============================] - 5s 34ms/step - loss: 1.1683 - accuracy: 0.5269 - val_loss: 1.4144 - val_accuracy: 0.4683\n",
      "Epoch 91/100\n",
      "142/142 [==============================] - 4s 31ms/step - loss: 1.1660 - accuracy: 0.5254 - val_loss: 1.4580 - val_accuracy: 0.4508\n",
      "Epoch 92/100\n",
      "142/142 [==============================] - 5s 34ms/step - loss: 1.1609 - accuracy: 0.5295 - val_loss: 1.3593 - val_accuracy: 0.4814\n",
      "Epoch 93/100\n",
      "142/142 [==============================] - 5s 35ms/step - loss: 1.1580 - accuracy: 0.5284 - val_loss: 1.3379 - val_accuracy: 0.4983\n",
      "Epoch 94/100\n",
      "142/142 [==============================] - 5s 37ms/step - loss: 1.1552 - accuracy: 0.5313 - val_loss: 1.3633 - val_accuracy: 0.4791\n",
      "Epoch 95/100\n",
      "142/142 [==============================] - 6s 40ms/step - loss: 1.1506 - accuracy: 0.5314 - val_loss: 1.3785 - val_accuracy: 0.4846\n",
      "Epoch 96/100\n",
      "142/142 [==============================] - 5s 38ms/step - loss: 1.1470 - accuracy: 0.5333 - val_loss: 1.3677 - val_accuracy: 0.4790\n",
      "Epoch 97/100\n",
      "142/142 [==============================] - 5s 38ms/step - loss: 1.1420 - accuracy: 0.5345 - val_loss: 1.4317 - val_accuracy: 0.4623\n",
      "Epoch 98/100\n",
      "142/142 [==============================] - 5s 37ms/step - loss: 1.1396 - accuracy: 0.5332 - val_loss: 1.4620 - val_accuracy: 0.4591\n",
      "Epoch 99/100\n",
      "142/142 [==============================] - 5s 33ms/step - loss: 1.1349 - accuracy: 0.5336 - val_loss: 1.5003 - val_accuracy: 0.4420\n",
      "Epoch 100/100\n",
      "142/142 [==============================] - 5s 34ms/step - loss: 1.1323 - accuracy: 0.5357 - val_loss: 1.4240 - val_accuracy: 0.4662\n"
     ]
    }
   ],
   "source": [
    "model = Sequential()\n",
    "model.add(Embedding(num_words, embedding_dim, weights=[embedding_matrix], input_length=maxlen, trainable=False))\n",
    "\n",
    "if method == \"conv\":\n",
    "    pass\n",
    "    model.add(Conv1D(64, (3)))\n",
    "    model.add(Conv1D(32, (3)))\n",
    "    model.add(BatchNormalization())\n",
    "    model.add(Dense(50))\n",
    "    model.add(Dropout(0.5))\n",
    "    model.add(Flatten())\n",
    "if method == \"lstm\":\n",
    "    pass\n",
    "    model.add(Bidirectional(LSTM(32)))\n",
    "\n",
    "    #model.add(Bidirectional(LSTM(64, return_sequences = True, kernel_regularizer=l2(0.01), recurrent_regularizer=l2(0.01), bias_regularizer=l2(0.01))))\n",
    "    #model.add(Bidirectional(LSTM(32)))#, kernel_regularizer=l2(0.01), recurrent_regularizer=l2(0.01), bias_regularizer=l2(0.01))))\n",
    "    #model.add(Dropout(0.5))\n",
    "if method == \"simple\":\n",
    "    pass\n",
    "    model.add(Dense(32))\n",
    "    model.add(LeakyReLU(alpha=0.2))\n",
    "    model.add(Dense(14))\n",
    "    model.add(LeakyReLU(alpha=0.2))\n",
    "    model.add(Flatten())\n",
    "\n",
    "model.add(Dense(6, activation='softmax'))\n",
    "\n",
    "#regularizer backup\n",
    "# model.add(Dense(6, activation='softmax', kernel_regularizer=l2(0.01), bias_regularizer=l2(0.01)))\n",
    "# model.add(Conv1D(32, (3), kernel_regularizer=l2(0.01), bias_regularizer=l2(0.01)))\n",
    "# model.add(Bidirectional(LSTM(32)))#, kernel_regularizer=l2(0.01), recurrent_regularizer=l2(0.01), bias_regularizer=l2(0.01))))\n",
    "\n",
    "#optimizer = Adam(learning_rate=0.0005)\n",
    "optimizer = RMSprop(learning_rate=0.0001)\n",
    "model.compile(optimizer=optimizer, loss='categorical_crossentropy', metrics=['accuracy'])\n",
    "\n",
    "print(model.summary())\n",
    "\n",
    "history = model.fit(x_train,\n",
    "                    y_train,\n",
    "                    epochs=100,\n",
    "                    batch_size=100,\n",
    "                    validation_data=(x_test,y_test),\n",
    "                    class_weight=class_weights,\n",
    "                    callbacks=[\n",
    "                        ReduceLROnPlateau(monitor='accuracy',\n",
    "                                          patience=10,\n",
    "                                          verbose=1,\n",
    "                                          factor=0.9,\n",
    "                                          min_lr=0.00001)\n",
    "                    ])"
   ]
  },
  {
   "cell_type": "code",
   "execution_count": 23,
   "metadata": {},
   "outputs": [],
   "source": [
    "def nn_predict_single(text):\n",
    "    seq = tokenizer.texts_to_sequences([text])\n",
    "    padded_seq = sequence.pad_sequences(seq, maxlen, padding=\"post\")\n",
    "    model_output = model.predict(padded_seq)\n",
    "    return np.argmax(model_output)\n",
    "def nn_predict_many(texts):\n",
    "    lst = []\n",
    "    for row in texts:\n",
    "        seq = tokenizer.texts_to_sequences([row])\n",
    "        padded_seq = sequence.pad_sequences(seq, maxlen, padding=\"post\")\n",
    "        lst.append(padded_seq)\n",
    "    model_output = model.predict(np.vstack(lst))\n",
    "    return np.argmax(model_output, axis=1)"
   ]
  },
  {
   "cell_type": "markdown",
   "metadata": {},
   "source": [
    "# history plot"
   ]
  },
  {
   "cell_type": "code",
   "execution_count": 24,
   "metadata": {},
   "outputs": [
    {
     "data": {
      "image/png": "[encoded data removed]",
      "text/plain": [
       "<Figure size 432x288 with 1 Axes>"
      ]
     },
     "metadata": {
      "needs_background": "light"
     },
     "output_type": "display_data"
    },
    {
     "data": {
      "image/png": "[encoded data removed]",
      "text/plain": [
       "<Figure size 432x288 with 1 Axes>"
      ]
     },
     "metadata": {
      "needs_background": "light"
     },
     "output_type": "display_data"
    }
   ],
   "source": [
    "import matplotlib.pyplot as plt\n",
    "\n",
    "# summarize history for accuracy\n",
    "plt.plot(history.history['accuracy'])\n",
    "plt.plot(history.history['val_accuracy'])\n",
    "plt.title('model accuracy')\n",
    "plt.ylabel('accuracy')\n",
    "plt.xlabel('epoch')\n",
    "plt.legend(['train', 'val'], loc='upper left')\n",
    "plt.show()\n",
    "# summarize history for loss\n",
    "plt.plot(history.history['loss'])\n",
    "plt.plot(history.history['val_loss'])\n",
    "plt.title('model loss')\n",
    "plt.ylabel('loss')\n",
    "plt.xlabel('epoch')\n",
    "plt.legend(['train', 'val'], loc='upper left')\n",
    "plt.show()"
   ]
  },
  {
   "cell_type": "markdown",
   "metadata": {},
   "source": [
    "# scores"
   ]
  },
  {
   "cell_type": "code",
   "execution_count": 25,
   "metadata": {},
   "outputs": [
    {
     "name": "stdout",
     "output_type": "stream",
     "text": [
      "Distribution of test-classes: \n",
      "{(1.0, 0.0, 0.0, 0.0, 0.0, 0.0): 9220, (0.0, 1.0, 0.0, 0.0, 0.0, 0.0): 1421, (0.0, 0.0, 1.0, 0.0, 0.0, 0.0): 5123, (0.0, 0.0, 0.0, 1.0, 0.0, 0.0): 179, (0.0, 0.0, 0.0, 0.0, 1.0, 0.0): 8430, (0.0, 0.0, 0.0, 0.0, 0.0, 1.0): 2177}\n",
      "[1 0 5 ... 0 0 2]\n"
     ]
    }
   ],
   "source": [
    "from collections import Counter\n",
    "\n",
    "correct = 0\n",
    "\n",
    "#data_source = df\n",
    "#data_source = df.loc[(df['source'] == \"tec\")]\n",
    "data_source = df.loc[(df['source'] == \"crowdflower\")]\n",
    "\n",
    "val_texts = data_source['text']\n",
    "y_true = data_source.loc[:, (data_source.columns != 'text') & (data_source.columns != 'source')].values\n",
    "\n",
    "print(\"Distribution of test-classes: \")\n",
    "_, idx, count = np.unique(y_true.argmax(axis=1), return_counts=1, return_index=1)\n",
    "print({tuple(i):j for i,j in zip(y_true[idx],count)})\n",
    "\n",
    "y_pred = []\n",
    "# convert one-hot to sequence array\n",
    "y_true = y_true.argmax(axis=1)\n",
    "\n",
    "predictions = nn_predict_many(val_texts)\n",
    "print(predictions)\n",
    "for i in range(0,len(val_texts)):\n",
    "    y_pred.append(predictions[i])\n",
    "    if predictions[i] == y_true[i]:\n",
    "        correct += 1\n",
    "y_pred = np.array(y_pred)"
   ]
  },
  {
   "cell_type": "code",
   "execution_count": 26,
   "metadata": {},
   "outputs": [],
   "source": [
    "# convert to strings\n",
    "emotions = ['joy', 'anger', 'sadness', 'disgust', 'fear', 'surprise']\n",
    "y_true = [emotions[x] for x in y_true]\n",
    "y_pred = [emotions[x] for x in y_pred]"
   ]
  },
  {
   "cell_type": "code",
   "execution_count": 27,
   "metadata": {},
   "outputs": [
    {
     "name": "stdout",
     "output_type": "stream",
     "text": [
      "Accuracy:\n",
      "0.25322033898305085\n",
      "F1 score micro\n",
      "0.25322033898305085\n",
      "F1 score macro\n",
      "0.19494780469628928\n",
      "              precision    recall  f1-score   support\n",
      "\n",
      "       anger      0.125     0.290     0.174      1421\n",
      "     disgust      0.009     0.112     0.017       179\n",
      "        fear      0.380     0.062     0.107      8430\n",
      "         joy      0.504     0.316     0.388      9220\n",
      "     sadness      0.259     0.448     0.329      5123\n",
      "    surprise      0.111     0.257     0.155      2177\n",
      "\n",
      "    accuracy                          0.253     26550\n",
      "   macro avg      0.231     0.247     0.195     26550\n",
      "weighted avg      0.361     0.253     0.254     26550\n",
      "\n"
     ]
    }
   ],
   "source": [
    "from sklearn.metrics import classification_report\n",
    "from sklearn.metrics import f1_score\n",
    "print(\"Accuracy:\")\n",
    "print(correct/len(val_texts))\n",
    "print(\"F1 score micro\")\n",
    "print(f1_score(y_true, y_pred, average=\"micro\"))\n",
    "print(\"F1 score macro\")\n",
    "print(f1_score(y_true, y_pred, average=\"macro\"))\n",
    "\n",
    "# Look at class wise score\n",
    "print(classification_report(y_true, y_pred, digits=3))"
   ]
  },
  {
   "cell_type": "markdown",
   "metadata": {},
   "source": [
    "# confusion matrix"
   ]
  },
  {
   "cell_type": "code",
   "execution_count": 28,
   "metadata": {},
   "outputs": [
    {
     "name": "stderr",
     "output_type": "stream",
     "text": [
      "<ipython-input-28-6c14ff1db953>:13: UserWarning: FixedFormatter should only be used together with FixedLocator\n",
      "  ax.set_xticklabels([\"\"]+tags)\n",
      "<ipython-input-28-6c14ff1db953>:14: UserWarning: FixedFormatter should only be used together with FixedLocator\n",
      "  ax.set_yticklabels([\"\"]+tags)\n"
     ]
    },
    {
     "data": {
      "text/plain": [
       "<Figure size 432x288 with 0 Axes>"
      ]
     },
     "metadata": {},
     "output_type": "display_data"
    },
    {
     "data": {
      "image/png": "[encoded data removed]",
      "text/plain": [
       "<Figure size 432x288 with 2 Axes>"
      ]
     },
     "metadata": {
      "needs_background": "light"
     },
     "output_type": "display_data"
    }
   ],
   "source": [
    "import matplotlib.pyplot as plt\n",
    "from sklearn.metrics import confusion_matrix\n",
    "\n",
    "tags = ['joy', 'anger', 'sadness', 'disgust', 'fear', 'surprise']\n",
    "\n",
    "cm = confusion_matrix(y_true,y_pred, labels = tags)\n",
    "\n",
    "def plot_confusion_matrix(cm, title='Confusion matrix', cmap=plt.cm.Blues):\n",
    "    fig, ax = plt.subplots()\n",
    "    im = ax.matshow(cm, cmap=cmap)\n",
    "    fig.colorbar(im)\n",
    "    plt.title(title)\n",
    "    ax.set_xticklabels([\"\"]+tags)\n",
    "    ax.set_yticklabels([\"\"]+tags)\n",
    "    ax.set_xlabel(\"Predicted\")\n",
    "    ax.set_ylabel(\"Actual\")\n",
    "    for (i, j), z in np.ndenumerate(cm):\n",
    "        ax.text(j, i, z, ha='center', va='center')\n",
    "    plt.savefig(method + \"_conf.png\", bbox_inches='tight', transparent=False, pad_inches=0.1,  dpi=500)\n",
    "    plt.show()\n",
    "\n",
    "# Compute confusion matrix\n",
    "np.set_printoptions(precision=2)\n",
    "plt.figure()\n",
    "plot_confusion_matrix(cm)"
   ]
  },
  {
   "cell_type": "code",
   "execution_count": null,
   "metadata": {},
   "outputs": [],
   "source": []
  }
 ],
 "metadata": {
  "kernelspec": {
   "display_name": "Python 3",
   "language": "python",
   "name": "python3"
  },
  "language_info": {
   "codemirror_mode": {
    "name": "ipython",
    "version": 3
   },
   "file_extension": ".py",
   "mimetype": "text/x-python",
   "name": "python",
   "nbconvert_exporter": "python",
   "pygments_lexer": "ipython3",
   "version": "3.8.5"
  }
 },
 "nbformat": 4,
 "nbformat_minor": 4
}
