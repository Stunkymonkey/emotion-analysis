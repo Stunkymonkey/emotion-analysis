{
 "cells": [
  {
   "cell_type": "code",
   "execution_count": 1,
   "metadata": {},
   "outputs": [
    {
     "name": "stderr",
     "output_type": "stream",
     "text": [
      "WARNING:root:Limited tf.compat.v2.summary API due to missing TensorBoard installation.\n",
      "WARNING:root:Limited tf.compat.v2.summary API due to missing TensorBoard installation.\n",
      "WARNING:root:Limited tf.compat.v2.summary API due to missing TensorBoard installation.\n",
      "WARNING:root:Limited tf.summary API due to missing TensorBoard installation.\n",
      "[nltk_data] Downloading package stopwords to /home/felix/nltk_data...\n",
      "[nltk_data]   Package stopwords is already up-to-date!\n"
     ]
    },
    {
     "data": {
      "text/plain": [
       "True"
      ]
     },
     "execution_count": 1,
     "metadata": {},
     "output_type": "execute_result"
    }
   ],
   "source": [
    "import pandas as pd\n",
    "import nltk\n",
    "from nltk.corpus import stopwords\n",
    "from nltk.tokenize import word_tokenize\n",
    "import numpy as np\n",
    "from sklearn.model_selection import train_test_split\n",
    "from sklearn.utils import class_weight\n",
    "import keras as ks\n",
    "from keras.preprocessing.text import Tokenizer\n",
    "from keras.preprocessing import sequence\n",
    "from keras.models import Sequential\n",
    "from keras.layers import *\n",
    "from keras.optimizers import *\n",
    "from keras.regularizers import l2\n",
    "from keras.callbacks import ReduceLROnPlateau, Callback\n",
    "nltk.download('stopwords')"
   ]
  },
  {
   "cell_type": "markdown",
   "metadata": {},
   "source": [
    "# read data"
   ]
  },
  {
   "cell_type": "code",
   "execution_count": 2,
   "metadata": {},
   "outputs": [],
   "source": [
    "df = pd.read_json (r'./corpora-DO_NOT_SHARE/unified-dataset.json', lines=True)"
   ]
  },
  {
   "cell_type": "code",
   "execution_count": 3,
   "metadata": {},
   "outputs": [
    {
     "data": {
      "text/plain": [
       "array(['tec', 'ssec', 'dailydialogues', 'fb-valence-arousal-anon',\n",
       "       'affectivetext', 'emotiondata-aman', 'electoraltweets',\n",
       "       'grounded_emotions', 'emotion-cause', 'isear', 'emoint',\n",
       "       'crowdflower', 'tales-emotion'], dtype=object)"
      ]
     },
     "execution_count": 3,
     "metadata": {},
     "output_type": "execute_result"
    }
   ],
   "source": [
    "df['source'].unique()"
   ]
  },
  {
   "cell_type": "code",
   "execution_count": 4,
   "metadata": {},
   "outputs": [],
   "source": [
    "# select only needed sources\n",
    "df = df.loc[(df['source'] == \"tec\") | (df['source'] == \"crowdflower\")]"
   ]
  },
  {
   "cell_type": "code",
   "execution_count": 5,
   "metadata": {},
   "outputs": [],
   "source": [
    "# remove not needed columns\n",
    "df = df.drop(columns=['id', 'VAD', 'split', 'domain', 'labeled', 'optional', 'annotation_procedure', 'emotion_model'])"
   ]
  },
  {
   "cell_type": "code",
   "execution_count": 6,
   "metadata": {},
   "outputs": [],
   "source": [
    "# convert emotions dict to columns\n",
    "df = df.join(df['emotions'].apply(pd.Series))"
   ]
  },
  {
   "cell_type": "code",
   "execution_count": 7,
   "metadata": {},
   "outputs": [],
   "source": [
    "# remove not needed columns\n",
    "df = df.drop(columns=['emotions', 'trust', 'love', 'noemo', 'confusion', 'anticipation', 'shame', 'guilt', 'anticipation'])"
   ]
  },
  {
   "cell_type": "code",
   "execution_count": 8,
   "metadata": {},
   "outputs": [],
   "source": [
    "# remove not annotated texts\n",
    "df = df.loc[(df['joy'] != 0) | (df['anger'] != 0) | (df['sadness'] != 0) | (df['disgust'] != 0) | (df['fear'] != 0) | (df['surprise'] != 0)]"
   ]
  },
  {
   "cell_type": "code",
   "execution_count": 9,
   "metadata": {},
   "outputs": [],
   "source": [
    "# remove stop words except not and but\n",
    "stop_words = set(stopwords.words('english')) - {\"not\", \"but\"}\n",
    "df['text'] = df['text'].apply(lambda x: ' '.join([item for item in x.split() if item not in stop_words]))"
   ]
  },
  {
   "cell_type": "markdown",
   "metadata": {},
   "source": [
    "# preprocessing"
   ]
  },
  {
   "cell_type": "code",
   "execution_count": 10,
   "metadata": {},
   "outputs": [],
   "source": [
    "embeddings_index = {}\n",
    "\n",
    "num_words = 10000\n",
    "maxlen = df.text.str.split().apply(len).max()\n",
    "embedding_dim = 100"
   ]
  },
  {
   "cell_type": "code",
   "execution_count": 11,
   "metadata": {},
   "outputs": [
    {
     "data": {
      "text/plain": [
       "Index(['source', 'text', 'joy', 'anger', 'sadness', 'disgust', 'fear',\n",
       "       'surprise'],\n",
       "      dtype='object')"
      ]
     },
     "execution_count": 11,
     "metadata": {},
     "output_type": "execute_result"
    }
   ],
   "source": [
    "df.columns"
   ]
  },
  {
   "cell_type": "code",
   "execution_count": 12,
   "metadata": {},
   "outputs": [],
   "source": [
    "#data_source = df\n",
    "data_source = df.loc[(df['source'] == \"tec\")]\n",
    "#data_source = df.loc[(df['source'] == \"crowdflower\")]"
   ]
  },
  {
   "cell_type": "code",
   "execution_count": 13,
   "metadata": {},
   "outputs": [],
   "source": [
    "# select x and y\n",
    "samples = data_source['text']\n",
    "labels = data_source.loc[:, (data_source.columns != 'text') & (data_source.columns != 'source')].values\n",
    "\n",
    "tokenizer = Tokenizer(num_words)\n",
    "tokenizer.fit_on_texts(samples)\n",
    "\n",
    "sequences = tokenizer.texts_to_sequences(samples)\n",
    "word_index = tokenizer.word_index\n",
    "\n",
    "padded_sequences = sequence.pad_sequences(sequences, maxlen, padding='post')"
   ]
  },
  {
   "cell_type": "code",
   "execution_count": 14,
   "metadata": {},
   "outputs": [],
   "source": [
    "f = open(\"glove.6B.100d.txt\")\n",
    "for line in f:\n",
    "    values = line.split()\n",
    "    word = values[0]\n",
    "    coefs = np.asarray(values[1:], dtype='float32')\n",
    "    embeddings_index[word] = coefs\n",
    "f.close()"
   ]
  },
  {
   "cell_type": "code",
   "execution_count": 15,
   "metadata": {},
   "outputs": [
    {
     "name": "stdout",
     "output_type": "stream",
     "text": [
      "Found 400000 word vectors.\n"
     ]
    }
   ],
   "source": [
    "print(\"Found %s word vectors.\" % len(embeddings_index))"
   ]
  },
  {
   "cell_type": "code",
   "execution_count": 16,
   "metadata": {},
   "outputs": [],
   "source": [
    "embedding_matrix = np.zeros((num_words, embedding_dim))\n",
    "for word, i in word_index.items():\n",
    "    if i < num_words:\n",
    "        embedding_vector = embeddings_index.get(word)\n",
    "        if embedding_vector is not None:\n",
    "            embedding_matrix[i] = embedding_vector"
   ]
  },
  {
   "cell_type": "markdown",
   "metadata": {},
   "source": [
    "# data split"
   ]
  },
  {
   "cell_type": "code",
   "execution_count": 18,
   "metadata": {},
   "outputs": [],
   "source": [
    "x_train, x_test, y_train, y_test = train_test_split(padded_sequences, labels, test_size=0.33, random_state=42)"
   ]
  },
  {
   "cell_type": "code",
   "execution_count": 19,
   "metadata": {},
   "outputs": [
    {
     "name": "stderr",
     "output_type": "stream",
     "text": [
      "/nix/store/nyfh4nf0yyi2xh1gjivyyqxd9mrbv56c-python3-3.8.5-env/lib/python3.8/site-packages/sklearn/utils/validation.py:67: FutureWarning: Pass classes=[0 1 2 3 4 5], y=[5 4 2 ... 5 0 2] as keyword args. From version 0.25 passing these as positional arguments will result in an error\n",
      "  warnings.warn(\"Pass {} as keyword args. From version 0.25 \"\n"
     ]
    }
   ],
   "source": [
    "y_integers = np.argmax(y_train, axis=1)\n",
    "class_weights = class_weight.compute_class_weight('balanced', np.unique(y_integers), y_integers)\n",
    "class_weights = dict(enumerate(class_weights))"
   ]
  },
  {
   "cell_type": "code",
   "execution_count": 20,
   "metadata": {},
   "outputs": [
    {
     "name": "stdout",
     "output_type": "stream",
     "text": [
      "Distribution of train-classes: \n",
      "{(1.0, 0.0, 0.0, 0.0, 0.0, 0.0): 5505, (0.0, 1.0, 0.0, 0.0, 0.0, 0.0): 1033, (0.0, 0.0, 1.0, 0.0, 0.0, 0.0): 2625, (0.0, 0.0, 0.0, 1.0, 0.0, 0.0): 502, (0.0, 0.0, 0.0, 0.0, 1.0, 0.0): 1871, (0.0, 0.0, 0.0, 0.0, 0.0, 1.0): 2566}\n"
     ]
    }
   ],
   "source": [
    "print(\"Distribution of train-classes: \")\n",
    "_, idx, count = np.unique(y_train.argmax(axis=1), return_counts=1, return_index=1)\n",
    "print({tuple(i):j for i,j in zip(y_train[idx],count)})"
   ]
  },
  {
   "cell_type": "code",
   "execution_count": 21,
   "metadata": {},
   "outputs": [
    {
     "data": {
      "text/plain": [
       "{0: 0.4269452013321223,\n",
       " 1: 2.275250080671184,\n",
       " 2: 0.8953650793650794,\n",
       " 3: 4.681938911022576,\n",
       " 4: 1.2561909852128987,\n",
       " 5: 0.9159521953754222}"
      ]
     },
     "execution_count": 21,
     "metadata": {},
     "output_type": "execute_result"
    }
   ],
   "source": [
    "class_weights"
   ]
  },
  {
   "cell_type": "markdown",
   "metadata": {},
   "source": [
    "# model training"
   ]
  },
  {
   "cell_type": "code",
   "execution_count": 22,
   "metadata": {},
   "outputs": [],
   "source": [
    "# [\"conv\", \"lstm\", \"simple\"]\n",
    "method = \"lstm\""
   ]
  },
  {
   "cell_type": "code",
   "execution_count": 23,
   "metadata": {},
   "outputs": [
    {
     "name": "stdout",
     "output_type": "stream",
     "text": [
      "Model: \"sequential\"\n",
      "_________________________________________________________________\n",
      "Layer (type)                 Output Shape              Param #   \n",
      "=================================================================\n",
      "embedding (Embedding)        (None, 33, 100)           1000000   \n",
      "_________________________________________________________________\n",
      "bidirectional (Bidirectional (None, 64)                34048     \n",
      "_________________________________________________________________\n",
      "dense (Dense)                (None, 6)                 390       \n",
      "=================================================================\n",
      "Total params: 1,034,438\n",
      "Trainable params: 34,438\n",
      "Non-trainable params: 1,000,000\n",
      "_________________________________________________________________\n",
      "None\n",
      "Epoch 1/100\n",
      "142/142 [==============================] - 5s 36ms/step - loss: 1.7881 - accuracy: 0.2116 - val_loss: 1.7566 - val_accuracy: 0.2672\n",
      "Epoch 2/100\n",
      "142/142 [==============================] - 4s 31ms/step - loss: 1.7601 - accuracy: 0.3056 - val_loss: 1.7300 - val_accuracy: 0.3425\n",
      "Epoch 3/100\n",
      "142/142 [==============================] - 4s 29ms/step - loss: 1.7320 - accuracy: 0.3621 - val_loss: 1.7036 - val_accuracy: 0.3580\n",
      "Epoch 4/100\n",
      "142/142 [==============================] - 4s 30ms/step - loss: 1.7008 - accuracy: 0.3734 - val_loss: 1.6610 - val_accuracy: 0.3799\n",
      "Epoch 5/100\n",
      "142/142 [==============================] - 5s 34ms/step - loss: 1.6696 - accuracy: 0.3827 - val_loss: 1.6462 - val_accuracy: 0.3769\n",
      "Epoch 6/100\n",
      "142/142 [==============================] - 4s 30ms/step - loss: 1.6452 - accuracy: 0.3843 - val_loss: 1.6193 - val_accuracy: 0.3870\n",
      "Epoch 7/100\n",
      "142/142 [==============================] - 4s 31ms/step - loss: 1.6256 - accuracy: 0.3929 - val_loss: 1.5936 - val_accuracy: 0.3935\n",
      "Epoch 8/100\n",
      "142/142 [==============================] - 4s 30ms/step - loss: 1.6086 - accuracy: 0.4000 - val_loss: 1.6075 - val_accuracy: 0.3844\n",
      "Epoch 9/100\n",
      "142/142 [==============================] - 4s 31ms/step - loss: 1.5921 - accuracy: 0.3977 - val_loss: 1.5522 - val_accuracy: 0.4044\n",
      "Epoch 10/100\n",
      "142/142 [==============================] - 4s 30ms/step - loss: 1.5755 - accuracy: 0.4060 - val_loss: 1.5339 - val_accuracy: 0.4142\n",
      "Epoch 11/100\n",
      "142/142 [==============================] - 4s 31ms/step - loss: 1.5594 - accuracy: 0.4135 - val_loss: 1.5244 - val_accuracy: 0.4116\n",
      "Epoch 12/100\n",
      "142/142 [==============================] - 4s 31ms/step - loss: 1.5454 - accuracy: 0.4138 - val_loss: 1.5224 - val_accuracy: 0.4110\n",
      "Epoch 13/100\n",
      "142/142 [==============================] - 4s 30ms/step - loss: 1.5324 - accuracy: 0.4148 - val_loss: 1.5191 - val_accuracy: 0.4107\n",
      "Epoch 14/100\n",
      "142/142 [==============================] - 5s 32ms/step - loss: 1.5208 - accuracy: 0.4182 - val_loss: 1.5002 - val_accuracy: 0.4184\n",
      "Epoch 15/100\n",
      "142/142 [==============================] - 4s 30ms/step - loss: 1.5094 - accuracy: 0.4215 - val_loss: 1.5355 - val_accuracy: 0.4001\n",
      "Epoch 16/100\n",
      "142/142 [==============================] - 5s 34ms/step - loss: 1.4996 - accuracy: 0.4194 - val_loss: 1.5190 - val_accuracy: 0.4122\n",
      "Epoch 17/100\n",
      "142/142 [==============================] - 4s 31ms/step - loss: 1.4913 - accuracy: 0.4232 - val_loss: 1.4703 - val_accuracy: 0.4323\n",
      "Epoch 18/100\n",
      "142/142 [==============================] - 5s 33ms/step - loss: 1.4827 - accuracy: 0.4268 - val_loss: 1.4878 - val_accuracy: 0.4253\n",
      "Epoch 19/100\n",
      "142/142 [==============================] - 5s 35ms/step - loss: 1.4742 - accuracy: 0.4287 - val_loss: 1.4712 - val_accuracy: 0.4274\n",
      "Epoch 20/100\n",
      "142/142 [==============================] - 5s 33ms/step - loss: 1.4665 - accuracy: 0.4313 - val_loss: 1.4700 - val_accuracy: 0.4305\n",
      "Epoch 21/100\n",
      "142/142 [==============================] - 5s 34ms/step - loss: 1.4596 - accuracy: 0.4370 - val_loss: 1.5089 - val_accuracy: 0.4130\n",
      "Epoch 22/100\n",
      "142/142 [==============================] - 5s 33ms/step - loss: 1.4511 - accuracy: 0.4352 - val_loss: 1.4744 - val_accuracy: 0.4244\n",
      "Epoch 23/100\n",
      "142/142 [==============================] - 4s 31ms/step - loss: 1.4449 - accuracy: 0.4382 - val_loss: 1.4816 - val_accuracy: 0.4189\n",
      "Epoch 24/100\n",
      "142/142 [==============================] - 5s 34ms/step - loss: 1.4393 - accuracy: 0.4394 - val_loss: 1.4624 - val_accuracy: 0.4332\n",
      "Epoch 25/100\n",
      "142/142 [==============================] - 5s 34ms/step - loss: 1.4324 - accuracy: 0.4423 - val_loss: 1.4569 - val_accuracy: 0.4313\n",
      "Epoch 26/100\n",
      "142/142 [==============================] - 5s 37ms/step - loss: 1.4267 - accuracy: 0.4449 - val_loss: 1.4536 - val_accuracy: 0.4351\n",
      "Epoch 27/100\n",
      "142/142 [==============================] - 5s 33ms/step - loss: 1.4207 - accuracy: 0.4455 - val_loss: 1.4927 - val_accuracy: 0.4185\n",
      "Epoch 28/100\n",
      "142/142 [==============================] - 5s 35ms/step - loss: 1.4129 - accuracy: 0.4459 - val_loss: 1.4810 - val_accuracy: 0.4205\n",
      "Epoch 29/100\n",
      "142/142 [==============================] - 6s 39ms/step - loss: 1.4074 - accuracy: 0.4477 - val_loss: 1.4598 - val_accuracy: 0.4264\n",
      "Epoch 30/100\n",
      "142/142 [==============================] - 5s 38ms/step - loss: 1.4030 - accuracy: 0.4501 - val_loss: 1.4895 - val_accuracy: 0.4184\n",
      "Epoch 31/100\n",
      "142/142 [==============================] - 5s 37ms/step - loss: 1.3977 - accuracy: 0.4523 - val_loss: 1.4447 - val_accuracy: 0.4287\n",
      "Epoch 32/100\n",
      "142/142 [==============================] - 5s 33ms/step - loss: 1.3921 - accuracy: 0.4516 - val_loss: 1.4566 - val_accuracy: 0.4303\n",
      "Epoch 33/100\n",
      "142/142 [==============================] - 5s 33ms/step - loss: 1.3874 - accuracy: 0.4541 - val_loss: 1.4621 - val_accuracy: 0.4316\n",
      "Epoch 34/100\n",
      "142/142 [==============================] - 4s 31ms/step - loss: 1.3816 - accuracy: 0.4540 - val_loss: 1.4560 - val_accuracy: 0.4359\n",
      "Epoch 35/100\n",
      "142/142 [==============================] - 5s 33ms/step - loss: 1.3774 - accuracy: 0.4579 - val_loss: 1.4381 - val_accuracy: 0.4349\n",
      "Epoch 36/100\n",
      "142/142 [==============================] - 5s 33ms/step - loss: 1.3719 - accuracy: 0.4580 - val_loss: 1.4343 - val_accuracy: 0.4434\n",
      "Epoch 37/100\n",
      "142/142 [==============================] - 5s 33ms/step - loss: 1.3669 - accuracy: 0.4601 - val_loss: 1.4248 - val_accuracy: 0.4427\n",
      "Epoch 38/100\n",
      "142/142 [==============================] - 4s 32ms/step - loss: 1.3610 - accuracy: 0.4631 - val_loss: 1.4377 - val_accuracy: 0.4356\n",
      "Epoch 39/100\n",
      "142/142 [==============================] - 5s 33ms/step - loss: 1.3559 - accuracy: 0.4619 - val_loss: 1.4003 - val_accuracy: 0.4531\n",
      "Epoch 40/100\n",
      "142/142 [==============================] - 5s 32ms/step - loss: 1.3522 - accuracy: 0.4668 - val_loss: 1.3995 - val_accuracy: 0.4545\n",
      "Epoch 41/100\n",
      "142/142 [==============================] - 5s 33ms/step - loss: 1.3469 - accuracy: 0.4662 - val_loss: 1.4122 - val_accuracy: 0.4476\n",
      "Epoch 42/100\n",
      "142/142 [==============================] - 5s 33ms/step - loss: 1.3431 - accuracy: 0.4705 - val_loss: 1.4351 - val_accuracy: 0.4431\n",
      "Epoch 43/100\n",
      "142/142 [==============================] - 5s 34ms/step - loss: 1.3376 - accuracy: 0.4713 - val_loss: 1.4087 - val_accuracy: 0.4539\n",
      "Epoch 44/100\n",
      "142/142 [==============================] - 5s 33ms/step - loss: 1.3321 - accuracy: 0.4718 - val_loss: 1.4096 - val_accuracy: 0.4534\n",
      "Epoch 45/100\n",
      "142/142 [==============================] - 5s 33ms/step - loss: 1.3278 - accuracy: 0.4731 - val_loss: 1.4008 - val_accuracy: 0.4588\n",
      "Epoch 46/100\n",
      "142/142 [==============================] - 4s 30ms/step - loss: 1.3236 - accuracy: 0.4729 - val_loss: 1.4147 - val_accuracy: 0.4558\n",
      "Epoch 47/100\n",
      "142/142 [==============================] - 4s 28ms/step - loss: 1.3177 - accuracy: 0.4775 - val_loss: 1.4013 - val_accuracy: 0.4551\n",
      "Epoch 48/100\n",
      "142/142 [==============================] - 4s 29ms/step - loss: 1.3128 - accuracy: 0.4777 - val_loss: 1.4216 - val_accuracy: 0.4509\n",
      "Epoch 49/100\n",
      "142/142 [==============================] - 4s 29ms/step - loss: 1.3087 - accuracy: 0.4789 - val_loss: 1.4270 - val_accuracy: 0.4423\n",
      "Epoch 50/100\n",
      "142/142 [==============================] - 6s 40ms/step - loss: 1.3028 - accuracy: 0.4806 - val_loss: 1.4023 - val_accuracy: 0.4526\n",
      "Epoch 51/100\n",
      "142/142 [==============================] - 5s 37ms/step - loss: 1.2990 - accuracy: 0.4829 - val_loss: 1.4225 - val_accuracy: 0.4470\n",
      "Epoch 52/100\n"
     ]
    },
    {
     "name": "stdout",
     "output_type": "stream",
     "text": [
      "142/142 [==============================] - 4s 29ms/step - loss: 1.2948 - accuracy: 0.4848 - val_loss: 1.4239 - val_accuracy: 0.4437\n",
      "Epoch 53/100\n",
      "142/142 [==============================] - 4s 28ms/step - loss: 1.2887 - accuracy: 0.4835 - val_loss: 1.4366 - val_accuracy: 0.4456\n",
      "Epoch 54/100\n",
      "142/142 [==============================] - 4s 28ms/step - loss: 1.2854 - accuracy: 0.4828 - val_loss: 1.4091 - val_accuracy: 0.4522\n",
      "Epoch 55/100\n",
      "142/142 [==============================] - 4s 30ms/step - loss: 1.2811 - accuracy: 0.4874 - val_loss: 1.4009 - val_accuracy: 0.4565\n",
      "Epoch 56/100\n",
      "142/142 [==============================] - 4s 30ms/step - loss: 1.2768 - accuracy: 0.4879 - val_loss: 1.4657 - val_accuracy: 0.4336\n",
      "Epoch 57/100\n",
      "142/142 [==============================] - 6s 40ms/step - loss: 1.2705 - accuracy: 0.4901 - val_loss: 1.4044 - val_accuracy: 0.4498\n",
      "Epoch 58/100\n",
      "142/142 [==============================] - 6s 40ms/step - loss: 1.2677 - accuracy: 0.4892 - val_loss: 1.4022 - val_accuracy: 0.4590\n",
      "Epoch 59/100\n",
      "142/142 [==============================] - 5s 38ms/step - loss: 1.2622 - accuracy: 0.4916 - val_loss: 1.4063 - val_accuracy: 0.4571\n",
      "Epoch 60/100\n",
      "142/142 [==============================] - 5s 32ms/step - loss: 1.2580 - accuracy: 0.4937 - val_loss: 1.3970 - val_accuracy: 0.4551\n",
      "Epoch 61/100\n",
      "142/142 [==============================] - 4s 29ms/step - loss: 1.2531 - accuracy: 0.4954 - val_loss: 1.4473 - val_accuracy: 0.4394\n",
      "Epoch 62/100\n",
      "142/142 [==============================] - 5s 38ms/step - loss: 1.2485 - accuracy: 0.4944 - val_loss: 1.4004 - val_accuracy: 0.4582\n",
      "Epoch 63/100\n",
      "142/142 [==============================] - 5s 35ms/step - loss: 1.2444 - accuracy: 0.4928 - val_loss: 1.3850 - val_accuracy: 0.4649\n",
      "Epoch 64/100\n",
      "142/142 [==============================] - 5s 37ms/step - loss: 1.2415 - accuracy: 0.4987 - val_loss: 1.4143 - val_accuracy: 0.4544\n",
      "Epoch 65/100\n",
      "142/142 [==============================] - 4s 30ms/step - loss: 1.2359 - accuracy: 0.4977 - val_loss: 1.3984 - val_accuracy: 0.4585\n",
      "Epoch 66/100\n",
      "142/142 [==============================] - 4s 31ms/step - loss: 1.2334 - accuracy: 0.4996 - val_loss: 1.4067 - val_accuracy: 0.4588\n",
      "Epoch 67/100\n",
      "142/142 [==============================] - 4s 29ms/step - loss: 1.2255 - accuracy: 0.4995 - val_loss: 1.4431 - val_accuracy: 0.4414\n",
      "Epoch 68/100\n",
      "142/142 [==============================] - 5s 32ms/step - loss: 1.2225 - accuracy: 0.4979 - val_loss: 1.4345 - val_accuracy: 0.4426\n",
      "Epoch 69/100\n",
      "142/142 [==============================] - 4s 30ms/step - loss: 1.2199 - accuracy: 0.5001 - val_loss: 1.3938 - val_accuracy: 0.4618\n",
      "Epoch 70/100\n",
      "142/142 [==============================] - 4s 31ms/step - loss: 1.2143 - accuracy: 0.5043 - val_loss: 1.3951 - val_accuracy: 0.4582\n",
      "Epoch 71/100\n",
      "142/142 [==============================] - 4s 29ms/step - loss: 1.2101 - accuracy: 0.5060 - val_loss: 1.4351 - val_accuracy: 0.4443\n",
      "Epoch 72/100\n",
      "142/142 [==============================] - 4s 30ms/step - loss: 1.2056 - accuracy: 0.5055 - val_loss: 1.4251 - val_accuracy: 0.4483\n",
      "Epoch 73/100\n",
      "142/142 [==============================] - 4s 29ms/step - loss: 1.2033 - accuracy: 0.5044 - val_loss: 1.3919 - val_accuracy: 0.4626\n",
      "Epoch 74/100\n",
      "142/142 [==============================] - 5s 32ms/step - loss: 1.1966 - accuracy: 0.5092 - val_loss: 1.4163 - val_accuracy: 0.4567\n",
      "Epoch 75/100\n",
      "142/142 [==============================] - 4s 30ms/step - loss: 1.1928 - accuracy: 0.5077 - val_loss: 1.4113 - val_accuracy: 0.4544\n",
      "Epoch 76/100\n",
      "142/142 [==============================] - 4s 31ms/step - loss: 1.1871 - accuracy: 0.5108 - val_loss: 1.4693 - val_accuracy: 0.4339\n",
      "Epoch 77/100\n",
      "142/142 [==============================] - 5s 32ms/step - loss: 1.1838 - accuracy: 0.5100 - val_loss: 1.4182 - val_accuracy: 0.4551\n",
      "Epoch 78/100\n",
      "142/142 [==============================] - 4s 30ms/step - loss: 1.1796 - accuracy: 0.5133 - val_loss: 1.4240 - val_accuracy: 0.4535\n",
      "Epoch 79/100\n",
      "142/142 [==============================] - 4s 31ms/step - loss: 1.1757 - accuracy: 0.5154 - val_loss: 1.3882 - val_accuracy: 0.4690\n",
      "Epoch 80/100\n",
      "142/142 [==============================] - 5s 33ms/step - loss: 1.1721 - accuracy: 0.5153 - val_loss: 1.4009 - val_accuracy: 0.4639\n",
      "Epoch 81/100\n",
      "142/142 [==============================] - 4s 32ms/step - loss: 1.1671 - accuracy: 0.5174 - val_loss: 1.4243 - val_accuracy: 0.4532\n",
      "Epoch 82/100\n",
      "142/142 [==============================] - 4s 29ms/step - loss: 1.1637 - accuracy: 0.5155 - val_loss: 1.4053 - val_accuracy: 0.4597\n",
      "Epoch 83/100\n",
      "142/142 [==============================] - 4s 30ms/step - loss: 1.1599 - accuracy: 0.5184 - val_loss: 1.4453 - val_accuracy: 0.4473\n",
      "Epoch 84/100\n",
      "142/142 [==============================] - 4s 29ms/step - loss: 1.1546 - accuracy: 0.5182 - val_loss: 1.4394 - val_accuracy: 0.4454\n",
      "Epoch 85/100\n",
      "142/142 [==============================] - 4s 29ms/step - loss: 1.1518 - accuracy: 0.5196 - val_loss: 1.4819 - val_accuracy: 0.4302\n",
      "Epoch 86/100\n",
      "142/142 [==============================] - 4s 28ms/step - loss: 1.1479 - accuracy: 0.5204 - val_loss: 1.4334 - val_accuracy: 0.4511\n",
      "Epoch 87/100\n",
      "142/142 [==============================] - 4s 29ms/step - loss: 1.1442 - accuracy: 0.5222 - val_loss: 1.4352 - val_accuracy: 0.4508\n",
      "Epoch 88/100\n",
      "142/142 [==============================] - 5s 32ms/step - loss: 1.1405 - accuracy: 0.5228 - val_loss: 1.4119 - val_accuracy: 0.4591\n",
      "Epoch 89/100\n",
      "142/142 [==============================] - 4s 29ms/step - loss: 1.1360 - accuracy: 0.5246 - val_loss: 1.4279 - val_accuracy: 0.4528\n",
      "Epoch 90/100\n",
      "142/142 [==============================] - 4s 29ms/step - loss: 1.1326 - accuracy: 0.5294 - val_loss: 1.4505 - val_accuracy: 0.4482\n",
      "Epoch 91/100\n",
      "142/142 [==============================] - 4s 29ms/step - loss: 1.1310 - accuracy: 0.5273 - val_loss: 1.4375 - val_accuracy: 0.4528\n",
      "Epoch 92/100\n",
      "142/142 [==============================] - 4s 29ms/step - loss: 1.1243 - accuracy: 0.5263 - val_loss: 1.4133 - val_accuracy: 0.4616\n",
      "Epoch 93/100\n",
      "142/142 [==============================] - 4s 30ms/step - loss: 1.1212 - accuracy: 0.5313 - val_loss: 1.4391 - val_accuracy: 0.4500\n",
      "Epoch 94/100\n",
      "142/142 [==============================] - 4s 29ms/step - loss: 1.1165 - accuracy: 0.5303 - val_loss: 1.4222 - val_accuracy: 0.4614\n",
      "Epoch 95/100\n",
      "142/142 [==============================] - 4s 29ms/step - loss: 1.1134 - accuracy: 0.5316 - val_loss: 1.4124 - val_accuracy: 0.4639\n",
      "Epoch 96/100\n",
      "142/142 [==============================] - 4s 29ms/step - loss: 1.1097 - accuracy: 0.5329 - val_loss: 1.4289 - val_accuracy: 0.4544\n",
      "Epoch 97/100\n",
      "142/142 [==============================] - 4s 30ms/step - loss: 1.1054 - accuracy: 0.5339 - val_loss: 1.4514 - val_accuracy: 0.4499\n",
      "Epoch 98/100\n",
      "142/142 [==============================] - 4s 31ms/step - loss: 1.1018 - accuracy: 0.5346 - val_loss: 1.4241 - val_accuracy: 0.4618\n",
      "Epoch 99/100\n",
      "142/142 [==============================] - 5s 32ms/step - loss: 1.0987 - accuracy: 0.5372 - val_loss: 1.4044 - val_accuracy: 0.4650\n",
      "Epoch 100/100\n",
      "142/142 [==============================] - 5s 33ms/step - loss: 1.0949 - accuracy: 0.5367 - val_loss: 1.4237 - val_accuracy: 0.4601\n"
     ]
    }
   ],
   "source": [
    "model = Sequential()\n",
    "model.add(Embedding(num_words, embedding_dim, weights=[embedding_matrix], input_length=maxlen, trainable=False))\n",
    "\n",
    "if method == \"conv\":\n",
    "    pass\n",
    "    model.add(Conv1D(64, (3)))\n",
    "    model.add(Conv1D(32, (3)))\n",
    "    model.add(BatchNormalization())\n",
    "    model.add(Dense(50))\n",
    "    model.add(Dropout(0.5))\n",
    "    model.add(Flatten())\n",
    "if method == \"lstm\":\n",
    "    pass\n",
    "    model.add(Bidirectional(LSTM(32)))\n",
    "\n",
    "    #model.add(Bidirectional(LSTM(64, return_sequences = True, kernel_regularizer=l2(0.01), recurrent_regularizer=l2(0.01), bias_regularizer=l2(0.01))))\n",
    "    #model.add(Bidirectional(LSTM(32)))#, kernel_regularizer=l2(0.01), recurrent_regularizer=l2(0.01), bias_regularizer=l2(0.01))))\n",
    "    #model.add(Dropout(0.5))\n",
    "if method == \"simple\":\n",
    "    pass\n",
    "    model.add(Dense(32))\n",
    "    model.add(LeakyReLU(alpha=0.2))\n",
    "    model.add(Dense(14))\n",
    "    model.add(LeakyReLU(alpha=0.2))\n",
    "    model.add(Flatten())\n",
    "\n",
    "model.add(Dense(6, activation='softmax'))\n",
    "\n",
    "#regularizer backup\n",
    "# model.add(Dense(6, activation='softmax', kernel_regularizer=l2(0.01), bias_regularizer=l2(0.01)))\n",
    "# model.add(Conv1D(32, (3), kernel_regularizer=l2(0.01), bias_regularizer=l2(0.01)))\n",
    "# model.add(Bidirectional(LSTM(32)))#, kernel_regularizer=l2(0.01), recurrent_regularizer=l2(0.01), bias_regularizer=l2(0.01))))\n",
    "\n",
    "#optimizer = Adam(learning_rate=0.0005)\n",
    "optimizer = RMSprop(learning_rate=0.0001)\n",
    "model.compile(optimizer=optimizer, loss='categorical_crossentropy', metrics=['accuracy'])\n",
    "\n",
    "print(model.summary())\n",
    "\n",
    "history = model.fit(x_train,\n",
    "                    y_train,\n",
    "                    epochs=100,\n",
    "                    batch_size=100,\n",
    "                    validation_data=(x_test,y_test),\n",
    "                    class_weight=class_weights,\n",
    "                    callbacks=[\n",
    "                        ReduceLROnPlateau(monitor='accuracy',\n",
    "                                          patience=10,\n",
    "                                          verbose=1,\n",
    "                                          factor=0.9,\n",
    "                                          min_lr=0.00001)\n",
    "                    ])"
   ]
  },
  {
   "cell_type": "code",
   "execution_count": 24,
   "metadata": {},
   "outputs": [],
   "source": [
    "def nn_predict_single(text):\n",
    "    seq = tokenizer.texts_to_sequences([text])\n",
    "    padded_seq = sequence.pad_sequences(seq, maxlen, padding=\"post\")\n",
    "    model_output = model.predict(padded_seq)\n",
    "    return np.argmax(model_output)\n",
    "def nn_predict_many(texts):\n",
    "    lst = []\n",
    "    for row in texts:\n",
    "        seq = tokenizer.texts_to_sequences([row])\n",
    "        padded_seq = sequence.pad_sequences(seq, maxlen, padding=\"post\")\n",
    "        lst.append(padded_seq)\n",
    "    model_output = model.predict(np.vstack(lst))\n",
    "    return np.argmax(model_output, axis=1)"
   ]
  },
  {
   "cell_type": "markdown",
   "metadata": {},
   "source": [
    "# history plot"
   ]
  },
  {
   "cell_type": "code",
   "execution_count": 25,
   "metadata": {},
   "outputs": [
    {
     "data": {
      "image/png": "[encoded data removed]",
      "text/plain": [
       "<Figure size 432x288 with 1 Axes>"
      ]
     },
     "metadata": {
      "needs_background": "light"
     },
     "output_type": "display_data"
    },
    {
     "data": {
      "image/png": "[encoded data removed]",
      "text/plain": [
       "<Figure size 432x288 with 1 Axes>"
      ]
     },
     "metadata": {
      "needs_background": "light"
     },
     "output_type": "display_data"
    }
   ],
   "source": [
    "import matplotlib.pyplot as plt\n",
    "\n",
    "# summarize history for accuracy\n",
    "plt.plot(history.history['accuracy'])\n",
    "plt.plot(history.history['val_accuracy'])\n",
    "plt.title('model accuracy')\n",
    "plt.ylabel('accuracy')\n",
    "plt.xlabel('epoch')\n",
    "plt.legend(['train', 'val'], loc='upper left')\n",
    "plt.show()\n",
    "# summarize history for loss\n",
    "plt.plot(history.history['loss'])\n",
    "plt.plot(history.history['val_loss'])\n",
    "plt.title('model loss')\n",
    "plt.ylabel('loss')\n",
    "plt.xlabel('epoch')\n",
    "plt.legend(['train', 'val'], loc='upper left')\n",
    "plt.show()"
   ]
  },
  {
   "cell_type": "markdown",
   "metadata": {},
   "source": [
    "# scores"
   ]
  },
  {
   "cell_type": "code",
   "execution_count": 26,
   "metadata": {},
   "outputs": [
    {
     "name": "stdout",
     "output_type": "stream",
     "text": [
      "Distribution of test-classes: \n",
      "{(1.0, 0.0, 0.0, 0.0, 0.0, 0.0): 9220, (0.0, 1.0, 0.0, 0.0, 0.0, 0.0): 1421, (0.0, 0.0, 1.0, 0.0, 0.0, 0.0): 5123, (0.0, 0.0, 0.0, 1.0, 0.0, 0.0): 179, (0.0, 0.0, 0.0, 0.0, 1.0, 0.0): 8430, (0.0, 0.0, 0.0, 0.0, 0.0, 1.0): 2177}\n",
      "[0 5 5 ... 0 2 4]\n"
     ]
    }
   ],
   "source": [
    "from collections import Counter\n",
    "\n",
    "correct = 0\n",
    "\n",
    "#data_source = df\n",
    "#data_source = df.loc[(df['source'] == \"tec\")]\n",
    "data_source = df.loc[(df['source'] == \"crowdflower\")]\n",
    "\n",
    "val_texts = data_source['text']\n",
    "y_true = data_source.loc[:, (data_source.columns != 'text') & (data_source.columns != 'source')].values\n",
    "\n",
    "print(\"Distribution of test-classes: \")\n",
    "_, idx, count = np.unique(y_true.argmax(axis=1), return_counts=1, return_index=1)\n",
    "print({tuple(i):j for i,j in zip(y_true[idx],count)})\n",
    "\n",
    "y_pred = []\n",
    "# convert one-hot to sequence array\n",
    "y_true = y_true.argmax(axis=1)\n",
    "\n",
    "predictions = nn_predict_many(val_texts)\n",
    "print(predictions)\n",
    "for i in range(0,len(val_texts)):\n",
    "    y_pred.append(predictions[i])\n",
    "    if predictions[i] == y_true[i]:\n",
    "        correct += 1\n",
    "y_pred = np.array(y_pred)"
   ]
  },
  {
   "cell_type": "code",
   "execution_count": 27,
   "metadata": {},
   "outputs": [],
   "source": [
    "# convert to strings\n",
    "emotions = ['joy', 'anger', 'sadness', 'disgust', 'fear', 'surprise']\n",
    "y_true = [emotions[x] for x in y_true]\n",
    "y_pred = [emotions[x] for x in y_pred]"
   ]
  },
  {
   "cell_type": "code",
   "execution_count": 28,
   "metadata": {},
   "outputs": [
    {
     "name": "stdout",
     "output_type": "stream",
     "text": [
      "Accuracy:\n",
      "0.2383804143126177\n",
      "F1 score micro\n",
      "0.2383804143126177\n",
      "F1 score macro\n",
      "0.19029027348879748\n",
      "              precision    recall  f1-score   support\n",
      "\n",
      "       anger      0.132     0.238     0.170      1421\n",
      "     disgust      0.005     0.101     0.010       179\n",
      "        fear      0.365     0.077     0.127      8430\n",
      "         joy      0.490     0.284     0.360      9220\n",
      "     sadness      0.267     0.413     0.324      5123\n",
      "    surprise      0.104     0.269     0.150      2177\n",
      "\n",
      "    accuracy                          0.238     26550\n",
      "   macro avg      0.227     0.230     0.190     26550\n",
      "weighted avg      0.353     0.238     0.249     26550\n",
      "\n"
     ]
    }
   ],
   "source": [
    "from sklearn.metrics import classification_report\n",
    "from sklearn.metrics import f1_score\n",
    "print(\"Accuracy:\")\n",
    "print(correct/len(val_texts))\n",
    "print(\"F1 score micro\")\n",
    "print(f1_score(y_true, y_pred, average=\"micro\"))\n",
    "print(\"F1 score macro\")\n",
    "print(f1_score(y_true, y_pred, average=\"macro\"))\n",
    "\n",
    "# Look at class wise score\n",
    "print(classification_report(y_true, y_pred, digits=3))"
   ]
  },
  {
   "cell_type": "markdown",
   "metadata": {},
   "source": [
    "# confusion matrix"
   ]
  },
  {
   "cell_type": "code",
   "execution_count": 29,
   "metadata": {},
   "outputs": [
    {
     "name": "stderr",
     "output_type": "stream",
     "text": [
      "<ipython-input-29-f472bd7ae910>:13: UserWarning: FixedFormatter should only be used together with FixedLocator\n",
      "  ax.set_xticklabels([\"\"]+tags)\n",
      "<ipython-input-29-f472bd7ae910>:14: UserWarning: FixedFormatter should only be used together with FixedLocator\n",
      "  ax.set_yticklabels([\"\"]+tags)\n"
     ]
    },
    {
     "data": {
      "text/plain": [
       "<Figure size 432x288 with 0 Axes>"
      ]
     },
     "metadata": {},
     "output_type": "display_data"
    },
    {
     "data": {
      "image/png": "[encoded data removed]",
      "text/plain": [
       "<Figure size 432x288 with 2 Axes>"
      ]
     },
     "metadata": {
      "needs_background": "light"
     },
     "output_type": "display_data"
    }
   ],
   "source": [
    "import matplotlib.pyplot as plt\n",
    "from sklearn.metrics import confusion_matrix\n",
    "\n",
    "tags = ['joy', 'anger', 'sadness', 'disgust', 'fear', 'surprise']\n",
    "\n",
    "cm = confusion_matrix(y_true,y_pred, labels = tags)\n",
    "\n",
    "def plot_confusion_matrix(cm, title='Confusion matrix', cmap=plt.cm.Blues):\n",
    "    fig, ax = plt.subplots()\n",
    "    im = ax.matshow(cm, cmap=cmap)\n",
    "    fig.colorbar(im)\n",
    "    plt.title(title)\n",
    "    ax.set_xticklabels([\"\"]+tags)\n",
    "    ax.set_yticklabels([\"\"]+tags)\n",
    "    ax.set_xlabel(\"Predicted\")\n",
    "    ax.set_ylabel(\"Actual\")\n",
    "    for (i, j), z in np.ndenumerate(cm):\n",
    "        ax.text(j, i, z, ha='center', va='center')\n",
    "    plt.savefig(method + \"_conf.png\", bbox_inches='tight', transparent=False, pad_inches=0.1,  dpi=500)\n",
    "    plt.show()\n",
    "\n",
    "# Compute confusion matrix\n",
    "np.set_printoptions(precision=2)\n",
    "plt.figure()\n",
    "plot_confusion_matrix(cm)"
   ]
  },
  {
   "cell_type": "code",
   "execution_count": null,
   "metadata": {},
   "outputs": [],
   "source": []
  }
 ],
 "metadata": {
  "kernelspec": {
   "display_name": "Python 3",
   "language": "python",
   "name": "python3"
  },
  "language_info": {
   "codemirror_mode": {
    "name": "ipython",
    "version": 3
   },
   "file_extension": ".py",
   "mimetype": "text/x-python",
   "name": "python",
   "nbconvert_exporter": "python",
   "pygments_lexer": "ipython3",
   "version": "3.8.5"
  }
 },
 "nbformat": 4,
 "nbformat_minor": 4
}
