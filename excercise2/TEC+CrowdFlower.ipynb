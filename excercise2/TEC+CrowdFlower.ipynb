{
 "cells": [
  {
   "cell_type": "code",
   "execution_count": 1,
   "metadata": {},
   "outputs": [
    {
     "name": "stderr",
     "output_type": "stream",
     "text": [
      "WARNING:root:Limited tf.compat.v2.summary API due to missing TensorBoard installation.\n",
      "WARNING:root:Limited tf.compat.v2.summary API due to missing TensorBoard installation.\n",
      "WARNING:root:Limited tf.compat.v2.summary API due to missing TensorBoard installation.\n",
      "WARNING:root:Limited tf.summary API due to missing TensorBoard installation.\n",
      "[nltk_data] Downloading package stopwords to /home/felix/nltk_data...\n",
      "[nltk_data]   Package stopwords is already up-to-date!\n",
      "[nltk_data] Downloading package punkt to /home/felix/nltk_data...\n",
      "[nltk_data]   Package punkt is already up-to-date!\n",
      "[nltk_data] Downloading package wordnet to /home/felix/nltk_data...\n",
      "[nltk_data]   Package wordnet is already up-to-date!\n"
     ]
    },
    {
     "data": {
      "text/plain": [
       "True"
      ]
     },
     "execution_count": 1,
     "metadata": {},
     "output_type": "execute_result"
    }
   ],
   "source": [
    "import pandas as pd\n",
    "import nltk\n",
    "from nltk.corpus import stopwords\n",
    "from nltk.tokenize import word_tokenize\n",
    "from nltk.stem import WordNetLemmatizer\n",
    "from nltk.stem import PorterStemmer\n",
    "import numpy as np\n",
    "from sklearn.model_selection import train_test_split\n",
    "from sklearn.utils import class_weight\n",
    "import keras as ks\n",
    "from keras.preprocessing.text import Tokenizer\n",
    "from keras.preprocessing import sequence\n",
    "from keras.models import Sequential\n",
    "from keras.layers import *\n",
    "from keras.optimizers import *\n",
    "from keras.regularizers import l2\n",
    "from keras.callbacks import ReduceLROnPlateau, Callback\n",
    "nltk.download('stopwords')\n",
    "nltk.download('punkt')\n",
    "nltk.download('wordnet')"
   ]
  },
  {
   "cell_type": "markdown",
   "metadata": {},
   "source": [
    "# read data"
   ]
  },
  {
   "cell_type": "code",
   "execution_count": 2,
   "metadata": {},
   "outputs": [],
   "source": [
    "df = pd.read_json (r'./corpora-DO_NOT_SHARE/unified-dataset.json', lines=True)"
   ]
  },
  {
   "cell_type": "code",
   "execution_count": 3,
   "metadata": {},
   "outputs": [
    {
     "data": {
      "text/plain": [
       "array(['tec', 'ssec', 'dailydialogues', 'fb-valence-arousal-anon',\n",
       "       'affectivetext', 'emotiondata-aman', 'electoraltweets',\n",
       "       'grounded_emotions', 'emotion-cause', 'isear', 'emoint',\n",
       "       'crowdflower', 'tales-emotion'], dtype=object)"
      ]
     },
     "execution_count": 3,
     "metadata": {},
     "output_type": "execute_result"
    }
   ],
   "source": [
    "df['source'].unique()"
   ]
  },
  {
   "cell_type": "code",
   "execution_count": 4,
   "metadata": {},
   "outputs": [],
   "source": [
    "# select only needed sources\n",
    "df = df.loc[(df['source'] == \"tec\") | (df['source'] == \"crowdflower\")]"
   ]
  },
  {
   "cell_type": "code",
   "execution_count": 5,
   "metadata": {},
   "outputs": [],
   "source": [
    "# remove not needed columns\n",
    "df = df.drop(columns=['id', 'VAD', 'split', 'domain', 'labeled', 'optional', 'annotation_procedure', 'emotion_model'])"
   ]
  },
  {
   "cell_type": "code",
   "execution_count": 6,
   "metadata": {},
   "outputs": [],
   "source": [
    "# convert emotions dict to columns\n",
    "df = df.join(df['emotions'].apply(pd.Series))"
   ]
  },
  {
   "cell_type": "code",
   "execution_count": 7,
   "metadata": {},
   "outputs": [],
   "source": [
    "# remove not needed columns\n",
    "df = df.drop(columns=['emotions', 'trust', 'love', 'noemo', 'confusion', 'anticipation', 'shame', 'guilt', 'anticipation'])"
   ]
  },
  {
   "cell_type": "code",
   "execution_count": 8,
   "metadata": {},
   "outputs": [],
   "source": [
    "# remove not annotated texts\n",
    "df = df.loc[(df['joy'] != 0) | (df['anger'] != 0) | (df['sadness'] != 0) | (df['disgust'] != 0) | (df['fear'] != 0) | (df['surprise'] != 0)]"
   ]
  },
  {
   "cell_type": "code",
   "execution_count": 9,
   "metadata": {},
   "outputs": [],
   "source": [
    "# remove stop words except not and but\n",
    "stop_words = set(stopwords.words('english')) - {\"not\", \"but\"}\n",
    "df['text'] = df['text'].apply(lambda x: ' '.join([item for item in x.split() if item not in stop_words]))"
   ]
  },
  {
   "cell_type": "markdown",
   "metadata": {},
   "source": [
    "# preprocessing"
   ]
  },
  {
   "cell_type": "code",
   "execution_count": 10,
   "metadata": {},
   "outputs": [],
   "source": [
    "embeddings_index = {}\n",
    "\n",
    "num_words = 10000\n",
    "maxlen = df.text.str.split().apply(len).max()\n",
    "embedding_dim = 100"
   ]
  },
  {
   "cell_type": "code",
   "execution_count": 11,
   "metadata": {},
   "outputs": [
    {
     "data": {
      "text/plain": [
       "Index(['source', 'text', 'joy', 'anger', 'sadness', 'disgust', 'fear',\n",
       "       'surprise'],\n",
       "      dtype='object')"
      ]
     },
     "execution_count": 11,
     "metadata": {},
     "output_type": "execute_result"
    }
   ],
   "source": [
    "df.columns"
   ]
  },
  {
   "cell_type": "code",
   "execution_count": 12,
   "metadata": {},
   "outputs": [],
   "source": [
    "#data_source = df\n",
    "#data_source = df.loc[(df['source'] == \"tec\")]\n",
    "data_source = df.loc[(df['source'] == \"crowdflower\")]"
   ]
  },
  {
   "cell_type": "markdown",
   "metadata": {},
   "source": [
    "## lemmatize"
   ]
  },
  {
   "cell_type": "code",
   "execution_count": 13,
   "metadata": {},
   "outputs": [
    {
     "name": "stderr",
     "output_type": "stream",
     "text": [
      "<ipython-input-13-cb4ac0dcb796>:6: SettingWithCopyWarning: \n",
      "A value is trying to be set on a copy of a slice from a DataFrame.\n",
      "Try using .loc[row_indexer,col_indexer] = value instead\n",
      "\n",
      "See the caveats in the documentation: https://pandas.pydata.org/pandas-docs/stable/user_guide/indexing.html#returning-a-view-versus-a-copy\n",
      "  data_source['text'] = data_source['text'].apply(getLemmText)\n"
     ]
    }
   ],
   "source": [
    "def getLemmText(text):\n",
    "    tokens = word_tokenize(text)\n",
    "    lemmatizer = WordNetLemmatizer()\n",
    "    tokens=[lemmatizer.lemmatize(word) for word in tokens]\n",
    "    return ' '.join(tokens)\n",
    "data_source['text'] = data_source['text'].apply(getLemmText)"
   ]
  },
  {
   "cell_type": "markdown",
   "metadata": {},
   "source": [
    "## stemming"
   ]
  },
  {
   "cell_type": "code",
   "execution_count": 14,
   "metadata": {},
   "outputs": [
    {
     "name": "stderr",
     "output_type": "stream",
     "text": [
      "<ipython-input-14-0088c70619d3>:6: SettingWithCopyWarning: \n",
      "A value is trying to be set on a copy of a slice from a DataFrame.\n",
      "Try using .loc[row_indexer,col_indexer] = value instead\n",
      "\n",
      "See the caveats in the documentation: https://pandas.pydata.org/pandas-docs/stable/user_guide/indexing.html#returning-a-view-versus-a-copy\n",
      "  data_source['text'] = data_source['text'].apply(getStemmText)\n"
     ]
    }
   ],
   "source": [
    "def getStemmText(text):\n",
    "    tokens = word_tokenize(text)\n",
    "    ps = PorterStemmer()\n",
    "    tokens=[ps.stem(word) for word in tokens]\n",
    "    return ' '.join(tokens)\n",
    "data_source['text'] = data_source['text'].apply(getStemmText)"
   ]
  },
  {
   "cell_type": "markdown",
   "metadata": {},
   "source": [
    "## pading"
   ]
  },
  {
   "cell_type": "code",
   "execution_count": 15,
   "metadata": {},
   "outputs": [],
   "source": [
    "# select x and y\n",
    "samples = data_source['text']\n",
    "labels = data_source.loc[:, (data_source.columns != 'text') & (data_source.columns != 'source')].values\n",
    "\n",
    "tokenizer = Tokenizer(num_words)\n",
    "tokenizer.fit_on_texts(samples)\n",
    "\n",
    "sequences = tokenizer.texts_to_sequences(samples)\n",
    "word_index = tokenizer.word_index\n",
    "\n",
    "padded_sequences = sequence.pad_sequences(sequences, maxlen, padding='post')"
   ]
  },
  {
   "cell_type": "markdown",
   "metadata": {},
   "source": [
    "## embedding"
   ]
  },
  {
   "cell_type": "code",
   "execution_count": 16,
   "metadata": {},
   "outputs": [],
   "source": [
    "f = open(\"glove.6B.100d.txt\")\n",
    "for line in f:\n",
    "    values = line.split()\n",
    "    word = values[0]\n",
    "    coefs = np.asarray(values[1:], dtype='float32')\n",
    "    embeddings_index[word] = coefs\n",
    "f.close()"
   ]
  },
  {
   "cell_type": "code",
   "execution_count": 17,
   "metadata": {},
   "outputs": [
    {
     "name": "stdout",
     "output_type": "stream",
     "text": [
      "Found 400000 word vectors.\n"
     ]
    }
   ],
   "source": [
    "print(\"Found %s word vectors.\" % len(embeddings_index))"
   ]
  },
  {
   "cell_type": "code",
   "execution_count": 18,
   "metadata": {},
   "outputs": [],
   "source": [
    "embedding_matrix = np.zeros((num_words, embedding_dim))\n",
    "for word, i in word_index.items():\n",
    "    if i < num_words:\n",
    "        embedding_vector = embeddings_index.get(word)\n",
    "        if embedding_vector is not None:\n",
    "            embedding_matrix[i] = embedding_vector"
   ]
  },
  {
   "cell_type": "markdown",
   "metadata": {},
   "source": [
    "# data split"
   ]
  },
  {
   "cell_type": "code",
   "execution_count": 19,
   "metadata": {},
   "outputs": [],
   "source": [
    "x_train, x_test, y_train, y_test = train_test_split(padded_sequences, labels, test_size=0.33, random_state=42)"
   ]
  },
  {
   "cell_type": "code",
   "execution_count": 20,
   "metadata": {},
   "outputs": [
    {
     "name": "stderr",
     "output_type": "stream",
     "text": [
      "/nix/store/5kig4h8sfvswwqkmzzq2fvkq31agvhww-python3-3.8.5-env/lib/python3.8/site-packages/sklearn/utils/validation.py:67: FutureWarning: Pass classes=[0 1 2 3 4 5], y=[5 2 4 ... 4 0 1] as keyword args. From version 0.25 passing these as positional arguments will result in an error\n",
      "  warnings.warn(\"Pass {} as keyword args. From version 0.25 \"\n"
     ]
    }
   ],
   "source": [
    "y_integers = np.argmax(y_train, axis=1)\n",
    "class_weights = class_weight.compute_class_weight('balanced', np.unique(y_integers), y_integers)\n",
    "class_weights = dict(enumerate(class_weights))"
   ]
  },
  {
   "cell_type": "code",
   "execution_count": 21,
   "metadata": {},
   "outputs": [
    {
     "name": "stdout",
     "output_type": "stream",
     "text": [
      "Distribution of train-classes: \n",
      "{(1.0, 0.0, 0.0, 0.0, 0.0, 0.0): 6156, (0.0, 1.0, 0.0, 0.0, 0.0, 0.0): 958, (0.0, 0.0, 1.0, 0.0, 0.0, 0.0): 3428, (0.0, 0.0, 0.0, 1.0, 0.0, 0.0): 124, (0.0, 0.0, 0.0, 0.0, 1.0, 0.0): 5650, (0.0, 0.0, 0.0, 0.0, 0.0, 1.0): 1472}\n"
     ]
    }
   ],
   "source": [
    "print(\"Distribution of train-classes: \")\n",
    "_, idx, count = np.unique(y_train.argmax(axis=1), return_counts=1, return_index=1)\n",
    "print({tuple(i):j for i,j in zip(y_train[idx],count)})"
   ]
  },
  {
   "cell_type": "code",
   "execution_count": 22,
   "metadata": {},
   "outputs": [
    {
     "data": {
      "text/plain": [
       "{0: 0.48158977691141436,\n",
       " 1: 3.0946416144746,\n",
       " 2: 0.8648385842084791,\n",
       " 3: 23.908602150537636,\n",
       " 4: 0.5247197640117994,\n",
       " 5: 2.014039855072464}"
      ]
     },
     "execution_count": 22,
     "metadata": {},
     "output_type": "execute_result"
    }
   ],
   "source": [
    "class_weights"
   ]
  },
  {
   "cell_type": "markdown",
   "metadata": {},
   "source": [
    "# model training"
   ]
  },
  {
   "cell_type": "code",
   "execution_count": 23,
   "metadata": {},
   "outputs": [],
   "source": [
    "# [\"conv\", \"lstm\", \"simple\"]\n",
    "method = \"lstm\""
   ]
  },
  {
   "cell_type": "code",
   "execution_count": 24,
   "metadata": {},
   "outputs": [
    {
     "name": "stdout",
     "output_type": "stream",
     "text": [
      "Model: \"sequential\"\n",
      "_________________________________________________________________\n",
      "Layer (type)                 Output Shape              Param #   \n",
      "=================================================================\n",
      "embedding (Embedding)        (None, 33, 100)           1000000   \n",
      "_________________________________________________________________\n",
      "bidirectional (Bidirectional (None, 32)                14976     \n",
      "_________________________________________________________________\n",
      "dropout (Dropout)            (None, 32)                0         \n",
      "_________________________________________________________________\n",
      "dense (Dense)                (None, 6)                 198       \n",
      "=================================================================\n",
      "Total params: 1,015,174\n",
      "Trainable params: 15,174\n",
      "Non-trainable params: 1,000,000\n",
      "_________________________________________________________________\n",
      "None\n",
      "Epoch 1/250\n",
      "178/178 [==============================] - 5s 26ms/step - loss: 1.8222 - accuracy: 0.2433 - val_loss: 1.7572 - val_accuracy: 0.2616\n",
      "Epoch 2/250\n",
      "178/178 [==============================] - 4s 20ms/step - loss: 1.8128 - accuracy: 0.2352 - val_loss: 1.7574 - val_accuracy: 0.2530\n",
      "Epoch 3/250\n",
      "178/178 [==============================] - 4s 22ms/step - loss: 1.8051 - accuracy: 0.2357 - val_loss: 1.7548 - val_accuracy: 0.2569\n",
      "Epoch 4/250\n",
      "178/178 [==============================] - 4s 21ms/step - loss: 1.8023 - accuracy: 0.2221 - val_loss: 1.7573 - val_accuracy: 0.2580\n",
      "Epoch 5/250\n",
      "178/178 [==============================] - 4s 22ms/step - loss: 1.7950 - accuracy: 0.2340 - val_loss: 1.7533 - val_accuracy: 0.2737\n",
      "Epoch 6/250\n",
      "178/178 [==============================] - 4s 21ms/step - loss: 1.7932 - accuracy: 0.2368 - val_loss: 1.7507 - val_accuracy: 0.2822\n",
      "Epoch 7/250\n",
      "178/178 [==============================] - 4s 22ms/step - loss: 1.7872 - accuracy: 0.2440 - val_loss: 1.7521 - val_accuracy: 0.2886\n",
      "Epoch 8/250\n",
      "178/178 [==============================] - 4s 21ms/step - loss: 1.7857 - accuracy: 0.2434 - val_loss: 1.7510 - val_accuracy: 0.2903\n",
      "Epoch 9/250\n",
      "178/178 [==============================] - 4s 21ms/step - loss: 1.7790 - accuracy: 0.2482 - val_loss: 1.7473 - val_accuracy: 0.2914\n",
      "Epoch 10/250\n",
      "178/178 [==============================] - 3s 20ms/step - loss: 1.7800 - accuracy: 0.2538 - val_loss: 1.7458 - val_accuracy: 0.2981\n",
      "Epoch 11/250\n",
      "178/178 [==============================] - 3s 20ms/step - loss: 1.7736 - accuracy: 0.2651 - val_loss: 1.7427 - val_accuracy: 0.3060\n",
      "Epoch 12/250\n",
      "178/178 [==============================] - 4s 20ms/step - loss: 1.7692 - accuracy: 0.2637 - val_loss: 1.7424 - val_accuracy: 0.3059\n",
      "Epoch 13/250\n",
      "178/178 [==============================] - 4s 20ms/step - loss: 1.7670 - accuracy: 0.2608 - val_loss: 1.7394 - val_accuracy: 0.3099\n",
      "Epoch 14/250\n",
      "178/178 [==============================] - 4s 20ms/step - loss: 1.7644 - accuracy: 0.2659 - val_loss: 1.7310 - val_accuracy: 0.3173\n",
      "Epoch 15/250\n",
      "178/178 [==============================] - 4s 23ms/step - loss: 1.7462 - accuracy: 0.2748 - val_loss: 1.7199 - val_accuracy: 0.3225\n",
      "Epoch 16/250\n",
      "178/178 [==============================] - 4s 21ms/step - loss: 1.7431 - accuracy: 0.2788 - val_loss: 1.6993 - val_accuracy: 0.3460\n",
      "Epoch 17/250\n",
      "178/178 [==============================] - 4s 21ms/step - loss: 1.7322 - accuracy: 0.3033 - val_loss: 1.6950 - val_accuracy: 0.3433\n",
      "Epoch 18/250\n",
      "178/178 [==============================] - 4s 21ms/step - loss: 1.7269 - accuracy: 0.3073 - val_loss: 1.6971 - val_accuracy: 0.3351\n",
      "Epoch 19/250\n",
      "178/178 [==============================] - 4s 21ms/step - loss: 1.7202 - accuracy: 0.3111 - val_loss: 1.6857 - val_accuracy: 0.3457\n",
      "Epoch 20/250\n",
      "178/178 [==============================] - 4s 21ms/step - loss: 1.7058 - accuracy: 0.3117 - val_loss: 1.6753 - val_accuracy: 0.3529\n",
      "Epoch 21/250\n",
      "178/178 [==============================] - 4s 21ms/step - loss: 1.7003 - accuracy: 0.3213 - val_loss: 1.6872 - val_accuracy: 0.3432\n",
      "Epoch 22/250\n",
      "178/178 [==============================] - 4s 20ms/step - loss: 1.7036 - accuracy: 0.3167 - val_loss: 1.6781 - val_accuracy: 0.3479\n",
      "Epoch 23/250\n",
      "178/178 [==============================] - 4s 20ms/step - loss: 1.6927 - accuracy: 0.3283 - val_loss: 1.7025 - val_accuracy: 0.3257\n",
      "Epoch 24/250\n",
      "178/178 [==============================] - 4s 20ms/step - loss: 1.6937 - accuracy: 0.3260 - val_loss: 1.6546 - val_accuracy: 0.3636\n",
      "Epoch 25/250\n",
      "178/178 [==============================] - 3s 20ms/step - loss: 1.6851 - accuracy: 0.3309 - val_loss: 1.6693 - val_accuracy: 0.3451\n",
      "Epoch 26/250\n",
      "178/178 [==============================] - 4s 20ms/step - loss: 1.6769 - accuracy: 0.3344 - val_loss: 1.6900 - val_accuracy: 0.3345\n",
      "Epoch 27/250\n",
      "178/178 [==============================] - 4s 20ms/step - loss: 1.6756 - accuracy: 0.3283 - val_loss: 1.6642 - val_accuracy: 0.3482\n",
      "Epoch 28/250\n",
      "178/178 [==============================] - 4s 20ms/step - loss: 1.6771 - accuracy: 0.3284 - val_loss: 1.6671 - val_accuracy: 0.3465\n",
      "Epoch 29/250\n",
      "178/178 [==============================] - 3s 20ms/step - loss: 1.6576 - accuracy: 0.3262 - val_loss: 1.6226 - val_accuracy: 0.3685\n",
      "Epoch 30/250\n",
      "178/178 [==============================] - 4s 20ms/step - loss: 1.6617 - accuracy: 0.3306 - val_loss: 1.6365 - val_accuracy: 0.3619\n",
      "Epoch 31/250\n",
      "178/178 [==============================] - 4s 22ms/step - loss: 1.6561 - accuracy: 0.3374 - val_loss: 1.6556 - val_accuracy: 0.3468\n",
      "Epoch 32/250\n",
      "178/178 [==============================] - 4s 21ms/step - loss: 1.6500 - accuracy: 0.3312 - val_loss: 1.6466 - val_accuracy: 0.3520\n",
      "Epoch 33/250\n",
      "178/178 [==============================] - 4s 20ms/step - loss: 1.6441 - accuracy: 0.3294 - val_loss: 1.6444 - val_accuracy: 0.3527\n",
      "Epoch 34/250\n",
      "178/178 [==============================] - 4s 20ms/step - loss: 1.6465 - accuracy: 0.3287 - val_loss: 1.6566 - val_accuracy: 0.3433\n",
      "Epoch 35/250\n",
      "178/178 [==============================] - 4s 20ms/step - loss: 1.6306 - accuracy: 0.3388 - val_loss: 1.6256 - val_accuracy: 0.3603\n",
      "Epoch 36/250\n",
      "178/178 [==============================] - 3s 20ms/step - loss: 1.6303 - accuracy: 0.3358 - val_loss: 1.6337 - val_accuracy: 0.3561\n",
      "Epoch 37/250\n",
      "178/178 [==============================] - 4s 20ms/step - loss: 1.6236 - accuracy: 0.3366 - val_loss: 1.6730 - val_accuracy: 0.3339\n",
      "Epoch 38/250\n",
      "178/178 [==============================] - 3s 19ms/step - loss: 1.6243 - accuracy: 0.3382 - val_loss: 1.6130 - val_accuracy: 0.3641\n",
      "Epoch 39/250\n",
      "178/178 [==============================] - 3s 19ms/step - loss: 1.6196 - accuracy: 0.3392 - val_loss: 1.6164 - val_accuracy: 0.3575\n",
      "Epoch 40/250\n",
      "178/178 [==============================] - 4s 20ms/step - loss: 1.6084 - accuracy: 0.3381 - val_loss: 1.6453 - val_accuracy: 0.3442\n",
      "Epoch 41/250\n",
      "178/178 [==============================] - 4s 21ms/step - loss: 1.6073 - accuracy: 0.3340 - val_loss: 1.6276 - val_accuracy: 0.3516\n",
      "Epoch 42/250\n",
      "178/178 [==============================] - 4s 24ms/step - loss: 1.6004 - accuracy: 0.3412 - val_loss: 1.6281 - val_accuracy: 0.3492\n",
      "Epoch 43/250\n",
      "178/178 [==============================] - 4s 20ms/step - loss: 1.6113 - accuracy: 0.3392 - val_loss: 1.6184 - val_accuracy: 0.3533\n",
      "Epoch 44/250\n",
      "178/178 [==============================] - 4s 22ms/step - loss: 1.6001 - accuracy: 0.3405 - val_loss: 1.6074 - val_accuracy: 0.3540\n",
      "Epoch 45/250\n",
      "178/178 [==============================] - 3s 20ms/step - loss: 1.5968 - accuracy: 0.3380 - val_loss: 1.6178 - val_accuracy: 0.3497\n",
      "Epoch 46/250\n",
      "178/178 [==============================] - 3s 20ms/step - loss: 1.5999 - accuracy: 0.3400 - val_loss: 1.6267 - val_accuracy: 0.3430\n",
      "Epoch 47/250\n",
      "178/178 [==============================] - 4s 21ms/step - loss: 1.5894 - accuracy: 0.3358 - val_loss: 1.5852 - val_accuracy: 0.3567\n",
      "Epoch 48/250\n",
      "178/178 [==============================] - 4s 23ms/step - loss: 1.5848 - accuracy: 0.3414 - val_loss: 1.6335 - val_accuracy: 0.3381\n",
      "Epoch 49/250\n",
      "178/178 [==============================] - 4s 22ms/step - loss: 1.5763 - accuracy: 0.3373 - val_loss: 1.6007 - val_accuracy: 0.3516\n",
      "Epoch 50/250\n",
      "178/178 [==============================] - 4s 21ms/step - loss: 1.5802 - accuracy: 0.3432 - val_loss: 1.6057 - val_accuracy: 0.3498\n",
      "Epoch 51/250\n"
     ]
    },
    {
     "name": "stdout",
     "output_type": "stream",
     "text": [
      "178/178 [==============================] - 4s 20ms/step - loss: 1.5746 - accuracy: 0.3470 - val_loss: 1.5898 - val_accuracy: 0.3578\n",
      "Epoch 52/250\n",
      "178/178 [==============================] - 4s 24ms/step - loss: 1.5695 - accuracy: 0.3438 - val_loss: 1.6031 - val_accuracy: 0.3528\n",
      "Epoch 53/250\n",
      "178/178 [==============================] - 4s 21ms/step - loss: 1.5577 - accuracy: 0.3429 - val_loss: 1.6024 - val_accuracy: 0.3524\n",
      "Epoch 54/250\n",
      "178/178 [==============================] - 4s 20ms/step - loss: 1.5542 - accuracy: 0.3450 - val_loss: 1.6012 - val_accuracy: 0.3504\n",
      "Epoch 55/250\n",
      "178/178 [==============================] - 4s 20ms/step - loss: 1.5598 - accuracy: 0.3452 - val_loss: 1.6172 - val_accuracy: 0.3363\n",
      "Epoch 56/250\n",
      "178/178 [==============================] - 4s 20ms/step - loss: 1.5533 - accuracy: 0.3424 - val_loss: 1.6353 - val_accuracy: 0.3304\n",
      "Epoch 57/250\n",
      "178/178 [==============================] - 4s 20ms/step - loss: 1.5504 - accuracy: 0.3370 - val_loss: 1.5806 - val_accuracy: 0.3523\n",
      "Epoch 58/250\n",
      "178/178 [==============================] - 4s 21ms/step - loss: 1.5388 - accuracy: 0.3356 - val_loss: 1.6068 - val_accuracy: 0.3455\n",
      "Epoch 59/250\n",
      "178/178 [==============================] - 3s 19ms/step - loss: 1.5392 - accuracy: 0.3433 - val_loss: 1.6027 - val_accuracy: 0.3442\n",
      "Epoch 60/250\n",
      "178/178 [==============================] - 4s 20ms/step - loss: 1.5378 - accuracy: 0.3405 - val_loss: 1.6064 - val_accuracy: 0.3434\n",
      "Epoch 61/250\n",
      "178/178 [==============================] - ETA: 0s - loss: 1.5371 - accuracy: 0.3392\n",
      "Epoch 00061: ReduceLROnPlateau reducing learning rate to 8.999999772640876e-05.\n",
      "178/178 [==============================] - 4s 20ms/step - loss: 1.5371 - accuracy: 0.3392 - val_loss: 1.6189 - val_accuracy: 0.3390\n",
      "Epoch 62/250\n",
      "178/178 [==============================] - 4s 20ms/step - loss: 1.5250 - accuracy: 0.3466 - val_loss: 1.6385 - val_accuracy: 0.3310\n",
      "Epoch 63/250\n",
      "178/178 [==============================] - 3s 19ms/step - loss: 1.5316 - accuracy: 0.3428 - val_loss: 1.5594 - val_accuracy: 0.3600\n",
      "Epoch 64/250\n",
      "178/178 [==============================] - 3s 20ms/step - loss: 1.5258 - accuracy: 0.3443 - val_loss: 1.6218 - val_accuracy: 0.3361\n",
      "Epoch 65/250\n",
      "178/178 [==============================] - 3s 19ms/step - loss: 1.5219 - accuracy: 0.3442 - val_loss: 1.5839 - val_accuracy: 0.3473\n",
      "Epoch 66/250\n",
      "178/178 [==============================] - 3s 19ms/step - loss: 1.5177 - accuracy: 0.3448 - val_loss: 1.5913 - val_accuracy: 0.3455\n",
      "Epoch 67/250\n",
      "178/178 [==============================] - 4s 20ms/step - loss: 1.5140 - accuracy: 0.3464 - val_loss: 1.5804 - val_accuracy: 0.3499\n",
      "Epoch 68/250\n",
      "178/178 [==============================] - 4s 20ms/step - loss: 1.5109 - accuracy: 0.3461 - val_loss: 1.5832 - val_accuracy: 0.3480\n",
      "Epoch 69/250\n",
      "178/178 [==============================] - 3s 20ms/step - loss: 1.5192 - accuracy: 0.3461 - val_loss: 1.6039 - val_accuracy: 0.3435\n",
      "Epoch 70/250\n",
      "178/178 [==============================] - 3s 20ms/step - loss: 1.5009 - accuracy: 0.3513 - val_loss: 1.5853 - val_accuracy: 0.3495\n",
      "Epoch 71/250\n",
      "178/178 [==============================] - 3s 20ms/step - loss: 1.5009 - accuracy: 0.3452 - val_loss: 1.5683 - val_accuracy: 0.3497\n",
      "Epoch 72/250\n",
      "178/178 [==============================] - 3s 19ms/step - loss: 1.4939 - accuracy: 0.3485 - val_loss: 1.5903 - val_accuracy: 0.3422\n",
      "Epoch 73/250\n",
      "178/178 [==============================] - 4s 20ms/step - loss: 1.4938 - accuracy: 0.3460 - val_loss: 1.5791 - val_accuracy: 0.3495\n",
      "Epoch 74/250\n",
      "178/178 [==============================] - 3s 19ms/step - loss: 1.4835 - accuracy: 0.3448 - val_loss: 1.5722 - val_accuracy: 0.3497\n",
      "Epoch 75/250\n",
      "178/178 [==============================] - 3s 20ms/step - loss: 1.4891 - accuracy: 0.3398 - val_loss: 1.6111 - val_accuracy: 0.3341\n",
      "Epoch 76/250\n",
      "178/178 [==============================] - 3s 19ms/step - loss: 1.4846 - accuracy: 0.3443 - val_loss: 1.5790 - val_accuracy: 0.3513\n",
      "Epoch 77/250\n",
      "178/178 [==============================] - 3s 19ms/step - loss: 1.4755 - accuracy: 0.3488 - val_loss: 1.5750 - val_accuracy: 0.3505\n",
      "Epoch 78/250\n",
      "178/178 [==============================] - 3s 19ms/step - loss: 1.4746 - accuracy: 0.3505 - val_loss: 1.5733 - val_accuracy: 0.3521\n",
      "Epoch 79/250\n",
      "178/178 [==============================] - 4s 20ms/step - loss: 1.4776 - accuracy: 0.3547 - val_loss: 1.5846 - val_accuracy: 0.3457\n",
      "Epoch 80/250\n",
      "178/178 [==============================] - 3s 20ms/step - loss: 1.4763 - accuracy: 0.3449 - val_loss: 1.5561 - val_accuracy: 0.3571\n",
      "Epoch 81/250\n",
      "178/178 [==============================] - 4s 20ms/step - loss: 1.4740 - accuracy: 0.3525 - val_loss: 1.5774 - val_accuracy: 0.3480\n",
      "Epoch 82/250\n",
      "178/178 [==============================] - 4s 20ms/step - loss: 1.4667 - accuracy: 0.3455 - val_loss: 1.5576 - val_accuracy: 0.3546\n",
      "Epoch 83/250\n",
      "178/178 [==============================] - 3s 20ms/step - loss: 1.4591 - accuracy: 0.3552 - val_loss: 1.5504 - val_accuracy: 0.3577\n",
      "Epoch 84/250\n",
      "178/178 [==============================] - 4s 20ms/step - loss: 1.4675 - accuracy: 0.3550 - val_loss: 1.5535 - val_accuracy: 0.3606\n",
      "Epoch 85/250\n",
      "178/178 [==============================] - 3s 19ms/step - loss: 1.4668 - accuracy: 0.3565 - val_loss: 1.5685 - val_accuracy: 0.3533\n",
      "Epoch 86/250\n",
      "178/178 [==============================] - 4s 20ms/step - loss: 1.4609 - accuracy: 0.3500 - val_loss: 1.6097 - val_accuracy: 0.3375\n",
      "Epoch 87/250\n",
      "178/178 [==============================] - 4s 20ms/step - loss: 1.4618 - accuracy: 0.3495 - val_loss: 1.5539 - val_accuracy: 0.3545\n",
      "Epoch 88/250\n",
      "178/178 [==============================] - 4s 20ms/step - loss: 1.4585 - accuracy: 0.3500 - val_loss: 1.5690 - val_accuracy: 0.3515\n",
      "Epoch 89/250\n",
      "178/178 [==============================] - 4s 23ms/step - loss: 1.4459 - accuracy: 0.3566 - val_loss: 1.5454 - val_accuracy: 0.3634\n",
      "Epoch 90/250\n",
      "178/178 [==============================] - 4s 21ms/step - loss: 1.4449 - accuracy: 0.3543 - val_loss: 1.5772 - val_accuracy: 0.3487\n",
      "Epoch 91/250\n",
      "178/178 [==============================] - 3s 20ms/step - loss: 1.4473 - accuracy: 0.3538 - val_loss: 1.5293 - val_accuracy: 0.3670\n",
      "Epoch 92/250\n",
      "178/178 [==============================] - 4s 20ms/step - loss: 1.4485 - accuracy: 0.3602 - val_loss: 1.5669 - val_accuracy: 0.3602\n",
      "Epoch 93/250\n",
      "178/178 [==============================] - 4s 21ms/step - loss: 1.4365 - accuracy: 0.3606 - val_loss: 1.5496 - val_accuracy: 0.3614\n",
      "Epoch 94/250\n",
      "178/178 [==============================] - 4s 21ms/step - loss: 1.4326 - accuracy: 0.3554 - val_loss: 1.5580 - val_accuracy: 0.3591\n",
      "Epoch 95/250\n",
      "178/178 [==============================] - 4s 21ms/step - loss: 1.4399 - accuracy: 0.3573 - val_loss: 1.5776 - val_accuracy: 0.3482\n",
      "Epoch 96/250\n",
      "178/178 [==============================] - 4s 21ms/step - loss: 1.4233 - accuracy: 0.3552 - val_loss: 1.5551 - val_accuracy: 0.3539\n",
      "Epoch 97/250\n",
      "178/178 [==============================] - 4s 21ms/step - loss: 1.4238 - accuracy: 0.3532 - val_loss: 1.5754 - val_accuracy: 0.3523\n",
      "Epoch 98/250\n",
      "178/178 [==============================] - 4s 21ms/step - loss: 1.4237 - accuracy: 0.3565 - val_loss: 1.5596 - val_accuracy: 0.3537\n",
      "Epoch 99/250\n",
      "178/178 [==============================] - 4s 20ms/step - loss: 1.4330 - accuracy: 0.3575 - val_loss: 1.5345 - val_accuracy: 0.3614\n",
      "Epoch 100/250\n",
      "178/178 [==============================] - 4s 20ms/step - loss: 1.4235 - accuracy: 0.3612 - val_loss: 1.5493 - val_accuracy: 0.3580\n",
      "Epoch 101/250\n",
      "178/178 [==============================] - 4s 20ms/step - loss: 1.4118 - accuracy: 0.3537 - val_loss: 1.5429 - val_accuracy: 0.3578\n",
      "Epoch 102/250\n",
      "178/178 [==============================] - 4s 20ms/step - loss: 1.4172 - accuracy: 0.3544 - val_loss: 1.5593 - val_accuracy: 0.3539\n",
      "Epoch 103/250\n",
      "178/178 [==============================] - 4s 20ms/step - loss: 1.4117 - accuracy: 0.3629 - val_loss: 1.5459 - val_accuracy: 0.3604\n",
      "Epoch 104/250\n",
      "178/178 [==============================] - 3s 20ms/step - loss: 1.3992 - accuracy: 0.3568 - val_loss: 1.5362 - val_accuracy: 0.3608\n",
      "Epoch 105/250\n",
      "178/178 [==============================] - 4s 20ms/step - loss: 1.4078 - accuracy: 0.3564 - val_loss: 1.5259 - val_accuracy: 0.3664\n",
      "Epoch 106/250\n"
     ]
    },
    {
     "name": "stdout",
     "output_type": "stream",
     "text": [
      "178/178 [==============================] - 4s 20ms/step - loss: 1.4069 - accuracy: 0.3570 - val_loss: 1.5488 - val_accuracy: 0.3570\n",
      "Epoch 107/250\n",
      "178/178 [==============================] - 3s 19ms/step - loss: 1.4080 - accuracy: 0.3621 - val_loss: 1.5335 - val_accuracy: 0.3668\n",
      "Epoch 108/250\n",
      "178/178 [==============================] - 4s 20ms/step - loss: 1.3996 - accuracy: 0.3630 - val_loss: 1.5587 - val_accuracy: 0.3596\n",
      "Epoch 109/250\n",
      "178/178 [==============================] - 3s 20ms/step - loss: 1.4021 - accuracy: 0.3636 - val_loss: 1.5606 - val_accuracy: 0.3596\n",
      "Epoch 110/250\n",
      "178/178 [==============================] - 4s 21ms/step - loss: 1.3939 - accuracy: 0.3584 - val_loss: 1.5365 - val_accuracy: 0.3604\n",
      "Epoch 111/250\n",
      "178/178 [==============================] - 4s 21ms/step - loss: 1.3924 - accuracy: 0.3640 - val_loss: 1.5333 - val_accuracy: 0.3634\n",
      "Epoch 112/250\n",
      "178/178 [==============================] - 4s 20ms/step - loss: 1.3877 - accuracy: 0.3660 - val_loss: 1.5448 - val_accuracy: 0.3668\n",
      "Epoch 113/250\n",
      "178/178 [==============================] - 4s 21ms/step - loss: 1.3959 - accuracy: 0.3708 - val_loss: 1.5364 - val_accuracy: 0.3690\n",
      "Epoch 114/250\n",
      "178/178 [==============================] - 4s 20ms/step - loss: 1.3810 - accuracy: 0.3681 - val_loss: 1.5413 - val_accuracy: 0.3584\n",
      "Epoch 115/250\n",
      "178/178 [==============================] - 3s 20ms/step - loss: 1.3765 - accuracy: 0.3699 - val_loss: 1.5630 - val_accuracy: 0.3591\n",
      "Epoch 116/250\n",
      "178/178 [==============================] - 4s 20ms/step - loss: 1.3856 - accuracy: 0.3628 - val_loss: 1.5168 - val_accuracy: 0.3659\n",
      "Epoch 117/250\n",
      "178/178 [==============================] - 4s 22ms/step - loss: 1.3888 - accuracy: 0.3625 - val_loss: 1.5185 - val_accuracy: 0.3675\n",
      "Epoch 118/250\n",
      "178/178 [==============================] - 3s 19ms/step - loss: 1.3679 - accuracy: 0.3588 - val_loss: 1.5477 - val_accuracy: 0.3553\n",
      "Epoch 119/250\n",
      "178/178 [==============================] - 3s 20ms/step - loss: 1.3840 - accuracy: 0.3615 - val_loss: 1.5431 - val_accuracy: 0.3672\n",
      "Epoch 120/250\n",
      "178/178 [==============================] - 3s 20ms/step - loss: 1.3704 - accuracy: 0.3674 - val_loss: 1.5423 - val_accuracy: 0.3579\n",
      "Epoch 121/250\n",
      "178/178 [==============================] - 4s 23ms/step - loss: 1.3743 - accuracy: 0.3647 - val_loss: 1.5508 - val_accuracy: 0.3556\n",
      "Epoch 122/250\n",
      "178/178 [==============================] - 4s 21ms/step - loss: 1.3804 - accuracy: 0.3699 - val_loss: 1.5236 - val_accuracy: 0.3612\n",
      "Epoch 123/250\n",
      "176/178 [============================>.] - ETA: 0s - loss: 1.3748 - accuracy: 0.3647\n",
      "Epoch 00123: ReduceLROnPlateau reducing learning rate to 8.100000122794882e-05.\n",
      "178/178 [==============================] - 4s 20ms/step - loss: 1.3728 - accuracy: 0.3651 - val_loss: 1.5364 - val_accuracy: 0.3645\n",
      "Epoch 124/250\n",
      "178/178 [==============================] - 4s 22ms/step - loss: 1.3659 - accuracy: 0.3676 - val_loss: 1.5470 - val_accuracy: 0.3603\n",
      "Epoch 125/250\n",
      "178/178 [==============================] - 4s 22ms/step - loss: 1.3546 - accuracy: 0.3663 - val_loss: 1.5442 - val_accuracy: 0.3572\n",
      "Epoch 126/250\n",
      "178/178 [==============================] - 4s 22ms/step - loss: 1.3622 - accuracy: 0.3654 - val_loss: 1.5326 - val_accuracy: 0.3652\n",
      "Epoch 127/250\n",
      "178/178 [==============================] - 4s 20ms/step - loss: 1.3617 - accuracy: 0.3709 - val_loss: 1.5372 - val_accuracy: 0.3588\n",
      "Epoch 128/250\n",
      "178/178 [==============================] - 4s 20ms/step - loss: 1.3633 - accuracy: 0.3644 - val_loss: 1.5450 - val_accuracy: 0.3611\n",
      "Epoch 129/250\n",
      "178/178 [==============================] - 4s 20ms/step - loss: 1.3599 - accuracy: 0.3651 - val_loss: 1.5553 - val_accuracy: 0.3560\n",
      "Epoch 130/250\n",
      "178/178 [==============================] - 4s 20ms/step - loss: 1.3457 - accuracy: 0.3602 - val_loss: 1.5349 - val_accuracy: 0.3565\n",
      "Epoch 131/250\n",
      "178/178 [==============================] - 4s 23ms/step - loss: 1.3379 - accuracy: 0.3686 - val_loss: 1.5637 - val_accuracy: 0.3554\n",
      "Epoch 132/250\n",
      "178/178 [==============================] - 4s 25ms/step - loss: 1.3498 - accuracy: 0.3627 - val_loss: 1.5256 - val_accuracy: 0.3650\n",
      "Epoch 133/250\n",
      "178/178 [==============================] - 5s 28ms/step - loss: 1.3565 - accuracy: 0.3678 - val_loss: 1.5580 - val_accuracy: 0.3567\n",
      "Epoch 134/250\n",
      "178/178 [==============================] - 4s 25ms/step - loss: 1.3444 - accuracy: 0.3688 - val_loss: 1.5177 - val_accuracy: 0.3705\n",
      "Epoch 135/250\n",
      "178/178 [==============================] - 4s 24ms/step - loss: 1.3419 - accuracy: 0.3717 - val_loss: 1.5373 - val_accuracy: 0.3650\n",
      "Epoch 136/250\n",
      "178/178 [==============================] - 4s 23ms/step - loss: 1.3412 - accuracy: 0.3687 - val_loss: 1.5239 - val_accuracy: 0.3644\n",
      "Epoch 137/250\n",
      "178/178 [==============================] - 5s 26ms/step - loss: 1.3297 - accuracy: 0.3724 - val_loss: 1.5342 - val_accuracy: 0.3640\n",
      "Epoch 138/250\n",
      "178/178 [==============================] - 4s 24ms/step - loss: 1.3312 - accuracy: 0.3695 - val_loss: 1.5254 - val_accuracy: 0.3707\n",
      "Epoch 139/250\n",
      "178/178 [==============================] - 5s 26ms/step - loss: 1.3425 - accuracy: 0.3688 - val_loss: 1.5283 - val_accuracy: 0.3656\n",
      "Epoch 140/250\n",
      "178/178 [==============================] - 4s 24ms/step - loss: 1.3356 - accuracy: 0.3660 - val_loss: 1.5404 - val_accuracy: 0.3634\n",
      "Epoch 141/250\n",
      "178/178 [==============================] - 3s 19ms/step - loss: 1.3307 - accuracy: 0.3687 - val_loss: 1.5211 - val_accuracy: 0.3678\n",
      "Epoch 142/250\n",
      "178/178 [==============================] - 3s 18ms/step - loss: 1.3338 - accuracy: 0.3717 - val_loss: 1.5079 - val_accuracy: 0.3711\n",
      "Epoch 143/250\n",
      "178/178 [==============================] - 3s 17ms/step - loss: 1.3300 - accuracy: 0.3691 - val_loss: 1.5337 - val_accuracy: 0.3637\n",
      "Epoch 144/250\n",
      "178/178 [==============================] - 3s 17ms/step - loss: 1.3314 - accuracy: 0.3686 - val_loss: 1.5145 - val_accuracy: 0.3706\n",
      "Epoch 145/250\n",
      "178/178 [==============================] - 3s 17ms/step - loss: 1.3345 - accuracy: 0.3643 - val_loss: 1.5596 - val_accuracy: 0.3554\n",
      "Epoch 146/250\n",
      "178/178 [==============================] - 3s 17ms/step - loss: 1.3234 - accuracy: 0.3664 - val_loss: 1.5081 - val_accuracy: 0.3681\n",
      "Epoch 147/250\n",
      "176/178 [============================>.] - ETA: 0s - loss: 1.3137 - accuracy: 0.3657\n",
      "Epoch 00147: ReduceLROnPlateau reducing learning rate to 7.289999848580919e-05.\n",
      "178/178 [==============================] - 3s 17ms/step - loss: 1.3119 - accuracy: 0.3659 - val_loss: 1.5477 - val_accuracy: 0.3620\n",
      "Epoch 148/250\n",
      "178/178 [==============================] - 3s 17ms/step - loss: 1.3199 - accuracy: 0.3738 - val_loss: 1.5100 - val_accuracy: 0.3717\n",
      "Epoch 149/250\n",
      "178/178 [==============================] - 3s 17ms/step - loss: 1.3281 - accuracy: 0.3714 - val_loss: 1.5433 - val_accuracy: 0.3630\n",
      "Epoch 150/250\n",
      "178/178 [==============================] - 3s 17ms/step - loss: 1.3107 - accuracy: 0.3679 - val_loss: 1.5337 - val_accuracy: 0.3628\n",
      "Epoch 151/250\n",
      "178/178 [==============================] - 3s 17ms/step - loss: 1.3053 - accuracy: 0.3684 - val_loss: 1.5241 - val_accuracy: 0.3624\n",
      "Epoch 152/250\n",
      "178/178 [==============================] - 3s 17ms/step - loss: 1.3088 - accuracy: 0.3720 - val_loss: 1.5249 - val_accuracy: 0.3664\n",
      "Epoch 153/250\n",
      "178/178 [==============================] - 3s 17ms/step - loss: 1.3143 - accuracy: 0.3722 - val_loss: 1.5450 - val_accuracy: 0.3586\n",
      "Epoch 154/250\n",
      "178/178 [==============================] - 3s 17ms/step - loss: 1.3120 - accuracy: 0.3752 - val_loss: 1.5186 - val_accuracy: 0.3676\n",
      "Epoch 155/250\n",
      "178/178 [==============================] - 3s 17ms/step - loss: 1.3060 - accuracy: 0.3673 - val_loss: 1.5276 - val_accuracy: 0.3630\n",
      "Epoch 156/250\n",
      "178/178 [==============================] - 3s 17ms/step - loss: 1.2968 - accuracy: 0.3724 - val_loss: 1.5191 - val_accuracy: 0.3694\n",
      "Epoch 157/250\n",
      "178/178 [==============================] - 3s 17ms/step - loss: 1.3044 - accuracy: 0.3747 - val_loss: 1.5208 - val_accuracy: 0.3724\n",
      "Epoch 158/250\n",
      "178/178 [==============================] - 3s 17ms/step - loss: 1.3087 - accuracy: 0.3792 - val_loss: 1.5246 - val_accuracy: 0.3680\n",
      "Epoch 159/250\n",
      "178/178 [==============================] - 3s 17ms/step - loss: 1.2955 - accuracy: 0.3763 - val_loss: 1.4969 - val_accuracy: 0.3746\n"
     ]
    },
    {
     "name": "stdout",
     "output_type": "stream",
     "text": [
      "Epoch 160/250\n",
      "178/178 [==============================] - 3s 17ms/step - loss: 1.3011 - accuracy: 0.3787 - val_loss: 1.5082 - val_accuracy: 0.3726\n",
      "Epoch 161/250\n",
      "178/178 [==============================] - 3s 17ms/step - loss: 1.3070 - accuracy: 0.3750 - val_loss: 1.5186 - val_accuracy: 0.3697\n",
      "Epoch 162/250\n",
      "178/178 [==============================] - 3s 17ms/step - loss: 1.3066 - accuracy: 0.3779 - val_loss: 1.5266 - val_accuracy: 0.3661\n",
      "Epoch 163/250\n",
      "178/178 [==============================] - 3s 17ms/step - loss: 1.2999 - accuracy: 0.3800 - val_loss: 1.5348 - val_accuracy: 0.3669\n",
      "Epoch 164/250\n",
      "178/178 [==============================] - 3s 17ms/step - loss: 1.2978 - accuracy: 0.3737 - val_loss: 1.5249 - val_accuracy: 0.3701\n",
      "Epoch 165/250\n",
      "178/178 [==============================] - 3s 17ms/step - loss: 1.2973 - accuracy: 0.3785 - val_loss: 1.5179 - val_accuracy: 0.3700\n",
      "Epoch 166/250\n",
      "178/178 [==============================] - 3s 17ms/step - loss: 1.3024 - accuracy: 0.3775 - val_loss: 1.5094 - val_accuracy: 0.3741\n",
      "Epoch 167/250\n",
      "178/178 [==============================] - 3s 17ms/step - loss: 1.3082 - accuracy: 0.3806 - val_loss: 1.5108 - val_accuracy: 0.3680\n",
      "Epoch 168/250\n",
      "178/178 [==============================] - 3s 17ms/step - loss: 1.3005 - accuracy: 0.3745 - val_loss: 1.5389 - val_accuracy: 0.3665\n",
      "Epoch 169/250\n",
      "178/178 [==============================] - 3s 17ms/step - loss: 1.2911 - accuracy: 0.3750 - val_loss: 1.5334 - val_accuracy: 0.3661\n",
      "Epoch 170/250\n",
      "178/178 [==============================] - 3s 17ms/step - loss: 1.2910 - accuracy: 0.3790 - val_loss: 1.5347 - val_accuracy: 0.3644\n",
      "Epoch 171/250\n",
      "178/178 [==============================] - 3s 17ms/step - loss: 1.2886 - accuracy: 0.3710 - val_loss: 1.5189 - val_accuracy: 0.3665\n",
      "Epoch 172/250\n",
      "178/178 [==============================] - 3s 17ms/step - loss: 1.3000 - accuracy: 0.3765 - val_loss: 1.5386 - val_accuracy: 0.3632\n",
      "Epoch 173/250\n",
      "178/178 [==============================] - 3s 17ms/step - loss: 1.2888 - accuracy: 0.3759 - val_loss: 1.5232 - val_accuracy: 0.3604\n",
      "Epoch 174/250\n",
      "178/178 [==============================] - 3s 17ms/step - loss: 1.2841 - accuracy: 0.3802 - val_loss: 1.5211 - val_accuracy: 0.3688\n",
      "Epoch 175/250\n",
      "178/178 [==============================] - 3s 17ms/step - loss: 1.2748 - accuracy: 0.3829 - val_loss: 1.5409 - val_accuracy: 0.3654\n",
      "Epoch 176/250\n",
      "178/178 [==============================] - 3s 17ms/step - loss: 1.2915 - accuracy: 0.3730 - val_loss: 1.5166 - val_accuracy: 0.3701\n",
      "Epoch 177/250\n",
      "178/178 [==============================] - 3s 17ms/step - loss: 1.2843 - accuracy: 0.3747 - val_loss: 1.5272 - val_accuracy: 0.3681\n",
      "Epoch 178/250\n",
      "178/178 [==============================] - 3s 17ms/step - loss: 1.2836 - accuracy: 0.3780 - val_loss: 1.5208 - val_accuracy: 0.3682\n",
      "Epoch 179/250\n",
      "178/178 [==============================] - 3s 17ms/step - loss: 1.2749 - accuracy: 0.3795 - val_loss: 1.5311 - val_accuracy: 0.3680\n",
      "Epoch 180/250\n",
      "178/178 [==============================] - 3s 17ms/step - loss: 1.2761 - accuracy: 0.3774 - val_loss: 1.5205 - val_accuracy: 0.3716\n",
      "Epoch 181/250\n",
      "178/178 [==============================] - 3s 17ms/step - loss: 1.2716 - accuracy: 0.3833 - val_loss: 1.5263 - val_accuracy: 0.3699\n",
      "Epoch 182/250\n",
      "178/178 [==============================] - 3s 17ms/step - loss: 1.2671 - accuracy: 0.3843 - val_loss: 1.5124 - val_accuracy: 0.3722\n",
      "Epoch 183/250\n",
      "178/178 [==============================] - 3s 17ms/step - loss: 1.2742 - accuracy: 0.3853 - val_loss: 1.5205 - val_accuracy: 0.3735\n",
      "Epoch 184/250\n",
      "178/178 [==============================] - 3s 17ms/step - loss: 1.2694 - accuracy: 0.3854 - val_loss: 1.5290 - val_accuracy: 0.3688\n",
      "Epoch 185/250\n",
      "178/178 [==============================] - 3s 17ms/step - loss: 1.2607 - accuracy: 0.3812 - val_loss: 1.5206 - val_accuracy: 0.3729\n",
      "Epoch 186/250\n",
      "178/178 [==============================] - 3s 17ms/step - loss: 1.2727 - accuracy: 0.3809 - val_loss: 1.5236 - val_accuracy: 0.3731\n",
      "Epoch 187/250\n",
      "178/178 [==============================] - 3s 17ms/step - loss: 1.2539 - accuracy: 0.3861 - val_loss: 1.5124 - val_accuracy: 0.3758\n",
      "Epoch 188/250\n",
      "178/178 [==============================] - 3s 17ms/step - loss: 1.2755 - accuracy: 0.3831 - val_loss: 1.5292 - val_accuracy: 0.3705\n",
      "Epoch 189/250\n",
      "178/178 [==============================] - 3s 17ms/step - loss: 1.2619 - accuracy: 0.3781 - val_loss: 1.5247 - val_accuracy: 0.3738\n",
      "Epoch 190/250\n",
      "178/178 [==============================] - 3s 17ms/step - loss: 1.2775 - accuracy: 0.3824 - val_loss: 1.5187 - val_accuracy: 0.3725\n",
      "Epoch 191/250\n",
      "178/178 [==============================] - 3s 17ms/step - loss: 1.2783 - accuracy: 0.3805 - val_loss: 1.5244 - val_accuracy: 0.3723\n",
      "Epoch 192/250\n",
      "178/178 [==============================] - 3s 17ms/step - loss: 1.2660 - accuracy: 0.3828 - val_loss: 1.5071 - val_accuracy: 0.3701\n",
      "Epoch 193/250\n",
      "178/178 [==============================] - 3s 17ms/step - loss: 1.2675 - accuracy: 0.3822 - val_loss: 1.5228 - val_accuracy: 0.3691\n",
      "Epoch 194/250\n",
      "178/178 [==============================] - 3s 17ms/step - loss: 1.2688 - accuracy: 0.3816 - val_loss: 1.5406 - val_accuracy: 0.3683\n",
      "Epoch 195/250\n",
      "178/178 [==============================] - 3s 17ms/step - loss: 1.2651 - accuracy: 0.3796 - val_loss: 1.5183 - val_accuracy: 0.3716\n",
      "Epoch 196/250\n",
      "178/178 [==============================] - 3s 17ms/step - loss: 1.2727 - accuracy: 0.3824 - val_loss: 1.5200 - val_accuracy: 0.3741\n",
      "Epoch 197/250\n",
      "175/178 [============================>.] - ETA: 0s - loss: 1.2670 - accuracy: 0.3828\n",
      "Epoch 00197: ReduceLROnPlateau reducing learning rate to 6.56100019114092e-05.\n",
      "178/178 [==============================] - 3s 17ms/step - loss: 1.2679 - accuracy: 0.3827 - val_loss: 1.5315 - val_accuracy: 0.3689\n",
      "Epoch 198/250\n",
      "178/178 [==============================] - 3s 17ms/step - loss: 1.2611 - accuracy: 0.3831 - val_loss: 1.5284 - val_accuracy: 0.3700\n",
      "Epoch 199/250\n",
      "178/178 [==============================] - 3s 17ms/step - loss: 1.2570 - accuracy: 0.3812 - val_loss: 1.5141 - val_accuracy: 0.3754\n",
      "Epoch 200/250\n",
      "178/178 [==============================] - 3s 17ms/step - loss: 1.2537 - accuracy: 0.3881 - val_loss: 1.5111 - val_accuracy: 0.3743\n",
      "Epoch 201/250\n",
      "178/178 [==============================] - 3s 17ms/step - loss: 1.2576 - accuracy: 0.3865 - val_loss: 1.5239 - val_accuracy: 0.3697\n",
      "Epoch 202/250\n",
      "178/178 [==============================] - 3s 17ms/step - loss: 1.2635 - accuracy: 0.3895 - val_loss: 1.5133 - val_accuracy: 0.3702\n",
      "Epoch 203/250\n",
      "178/178 [==============================] - 3s 17ms/step - loss: 1.2531 - accuracy: 0.3871 - val_loss: 1.5211 - val_accuracy: 0.3691\n",
      "Epoch 204/250\n",
      "178/178 [==============================] - 3s 17ms/step - loss: 1.2560 - accuracy: 0.3861 - val_loss: 1.5055 - val_accuracy: 0.3804\n",
      "Epoch 205/250\n",
      "178/178 [==============================] - 3s 17ms/step - loss: 1.2464 - accuracy: 0.3848 - val_loss: 1.5195 - val_accuracy: 0.3735\n",
      "Epoch 206/250\n",
      "178/178 [==============================] - 3s 17ms/step - loss: 1.2569 - accuracy: 0.3840 - val_loss: 1.5215 - val_accuracy: 0.3665\n",
      "Epoch 207/250\n",
      "178/178 [==============================] - 3s 17ms/step - loss: 1.2549 - accuracy: 0.3825 - val_loss: 1.5099 - val_accuracy: 0.3750\n",
      "Epoch 208/250\n",
      "178/178 [==============================] - 3s 17ms/step - loss: 1.2521 - accuracy: 0.3806 - val_loss: 1.5055 - val_accuracy: 0.3729\n",
      "Epoch 209/250\n",
      "178/178 [==============================] - 3s 17ms/step - loss: 1.2548 - accuracy: 0.3818 - val_loss: 1.5222 - val_accuracy: 0.3721\n",
      "Epoch 210/250\n",
      "178/178 [==============================] - 3s 17ms/step - loss: 1.2481 - accuracy: 0.3873 - val_loss: 1.5249 - val_accuracy: 0.3719\n",
      "Epoch 211/250\n",
      "178/178 [==============================] - 3s 17ms/step - loss: 1.2538 - accuracy: 0.3895 - val_loss: 1.5077 - val_accuracy: 0.3767\n",
      "Epoch 212/250\n",
      "178/178 [==============================] - 3s 17ms/step - loss: 1.2493 - accuracy: 0.3903 - val_loss: 1.5332 - val_accuracy: 0.3740\n",
      "Epoch 213/250\n",
      "178/178 [==============================] - 3s 17ms/step - loss: 1.2384 - accuracy: 0.3872 - val_loss: 1.5024 - val_accuracy: 0.3780\n",
      "Epoch 214/250\n",
      "178/178 [==============================] - 3s 17ms/step - loss: 1.2372 - accuracy: 0.3925 - val_loss: 1.5249 - val_accuracy: 0.3708\n"
     ]
    },
    {
     "name": "stdout",
     "output_type": "stream",
     "text": [
      "Epoch 215/250\n",
      "178/178 [==============================] - 3s 17ms/step - loss: 1.2453 - accuracy: 0.3841 - val_loss: 1.5133 - val_accuracy: 0.3738\n",
      "Epoch 216/250\n",
      "178/178 [==============================] - 3s 17ms/step - loss: 1.2442 - accuracy: 0.3831 - val_loss: 1.5198 - val_accuracy: 0.3681\n",
      "Epoch 217/250\n",
      "178/178 [==============================] - 3s 17ms/step - loss: 1.2433 - accuracy: 0.3865 - val_loss: 1.5084 - val_accuracy: 0.3723\n",
      "Epoch 218/250\n",
      "178/178 [==============================] - 3s 17ms/step - loss: 1.2378 - accuracy: 0.3815 - val_loss: 1.5260 - val_accuracy: 0.3677\n",
      "Epoch 219/250\n",
      "178/178 [==============================] - 3s 17ms/step - loss: 1.2455 - accuracy: 0.3837 - val_loss: 1.5091 - val_accuracy: 0.3701\n",
      "Epoch 220/250\n",
      "178/178 [==============================] - 3s 17ms/step - loss: 1.2399 - accuracy: 0.3864 - val_loss: 1.5206 - val_accuracy: 0.3722\n",
      "Epoch 221/250\n",
      "178/178 [==============================] - 3s 17ms/step - loss: 1.2439 - accuracy: 0.3880 - val_loss: 1.5155 - val_accuracy: 0.3753\n",
      "Epoch 222/250\n",
      "178/178 [==============================] - 3s 17ms/step - loss: 1.2390 - accuracy: 0.3835 - val_loss: 1.5274 - val_accuracy: 0.3724\n",
      "Epoch 223/250\n",
      "178/178 [==============================] - 3s 17ms/step - loss: 1.2240 - accuracy: 0.3857 - val_loss: 1.5161 - val_accuracy: 0.3681\n",
      "Epoch 224/250\n",
      "175/178 [============================>.] - ETA: 0s - loss: 1.2370 - accuracy: 0.3911\n",
      "Epoch 00224: ReduceLROnPlateau reducing learning rate to 5.904900172026828e-05.\n",
      "178/178 [==============================] - 3s 17ms/step - loss: 1.2372 - accuracy: 0.3915 - val_loss: 1.5253 - val_accuracy: 0.3691\n",
      "Epoch 225/250\n",
      "178/178 [==============================] - 3s 17ms/step - loss: 1.2332 - accuracy: 0.3904 - val_loss: 1.5116 - val_accuracy: 0.3747\n",
      "Epoch 226/250\n",
      "178/178 [==============================] - 3s 17ms/step - loss: 1.2280 - accuracy: 0.3888 - val_loss: 1.5254 - val_accuracy: 0.3740\n",
      "Epoch 227/250\n",
      "178/178 [==============================] - 3s 17ms/step - loss: 1.2268 - accuracy: 0.3906 - val_loss: 1.5062 - val_accuracy: 0.3763\n",
      "Epoch 228/250\n",
      "178/178 [==============================] - 3s 17ms/step - loss: 1.2323 - accuracy: 0.3877 - val_loss: 1.5074 - val_accuracy: 0.3766\n",
      "Epoch 229/250\n",
      "178/178 [==============================] - 3s 17ms/step - loss: 1.2296 - accuracy: 0.3899 - val_loss: 1.5137 - val_accuracy: 0.3723\n",
      "Epoch 230/250\n",
      "178/178 [==============================] - 3s 17ms/step - loss: 1.2326 - accuracy: 0.3898 - val_loss: 1.5153 - val_accuracy: 0.3765\n",
      "Epoch 231/250\n",
      "178/178 [==============================] - 3s 17ms/step - loss: 1.2283 - accuracy: 0.3921 - val_loss: 1.5242 - val_accuracy: 0.3705\n",
      "Epoch 232/250\n",
      "178/178 [==============================] - 3s 17ms/step - loss: 1.2219 - accuracy: 0.3911 - val_loss: 1.5197 - val_accuracy: 0.3717\n",
      "Epoch 233/250\n",
      "178/178 [==============================] - 3s 17ms/step - loss: 1.2308 - accuracy: 0.3881 - val_loss: 1.5326 - val_accuracy: 0.3673\n",
      "Epoch 234/250\n",
      "178/178 [==============================] - ETA: 0s - loss: 1.2357 - accuracy: 0.3793\n",
      "Epoch 00234: ReduceLROnPlateau reducing learning rate to 5.314410154824145e-05.\n",
      "178/178 [==============================] - 3s 17ms/step - loss: 1.2357 - accuracy: 0.3793 - val_loss: 1.5142 - val_accuracy: 0.3713\n",
      "Epoch 235/250\n",
      "178/178 [==============================] - 3s 17ms/step - loss: 1.2185 - accuracy: 0.3819 - val_loss: 1.5155 - val_accuracy: 0.3700\n",
      "Epoch 236/250\n",
      "178/178 [==============================] - 3s 17ms/step - loss: 1.2298 - accuracy: 0.3940 - val_loss: 1.5204 - val_accuracy: 0.3684\n",
      "Epoch 237/250\n",
      "178/178 [==============================] - 3s 17ms/step - loss: 1.2242 - accuracy: 0.3851 - val_loss: 1.5122 - val_accuracy: 0.3737\n",
      "Epoch 238/250\n",
      "178/178 [==============================] - 3s 17ms/step - loss: 1.2195 - accuracy: 0.3890 - val_loss: 1.5104 - val_accuracy: 0.3753\n",
      "Epoch 239/250\n",
      "178/178 [==============================] - 3s 17ms/step - loss: 1.2296 - accuracy: 0.3921 - val_loss: 1.5147 - val_accuracy: 0.3749\n",
      "Epoch 240/250\n",
      "178/178 [==============================] - 3s 17ms/step - loss: 1.2159 - accuracy: 0.3910 - val_loss: 1.5112 - val_accuracy: 0.3750\n",
      "Epoch 241/250\n",
      "178/178 [==============================] - 3s 17ms/step - loss: 1.2204 - accuracy: 0.3907 - val_loss: 1.5025 - val_accuracy: 0.3743\n",
      "Epoch 242/250\n",
      "178/178 [==============================] - 4s 21ms/step - loss: 1.2056 - accuracy: 0.3924 - val_loss: 1.5240 - val_accuracy: 0.3731\n",
      "Epoch 243/250\n",
      "178/178 [==============================] - 3s 18ms/step - loss: 1.2208 - accuracy: 0.3878 - val_loss: 1.5127 - val_accuracy: 0.3738\n",
      "Epoch 244/250\n",
      "178/178 [==============================] - 3s 17ms/step - loss: 1.2241 - accuracy: 0.3913 - val_loss: 1.5251 - val_accuracy: 0.3697\n",
      "Epoch 245/250\n",
      "178/178 [==============================] - 3s 17ms/step - loss: 1.2276 - accuracy: 0.3884 - val_loss: 1.5100 - val_accuracy: 0.3717\n",
      "Epoch 246/250\n",
      "176/178 [============================>.] - ETA: 0s - loss: 1.2263 - accuracy: 0.3832\n",
      "Epoch 00246: ReduceLROnPlateau reducing learning rate to 4.7829690083744934e-05.\n",
      "178/178 [==============================] - 3s 17ms/step - loss: 1.2266 - accuracy: 0.3840 - val_loss: 1.5015 - val_accuracy: 0.3791\n",
      "Epoch 247/250\n",
      "178/178 [==============================] - 3s 17ms/step - loss: 1.2204 - accuracy: 0.3905 - val_loss: 1.5138 - val_accuracy: 0.3762\n",
      "Epoch 248/250\n",
      "178/178 [==============================] - 3s 17ms/step - loss: 1.2206 - accuracy: 0.3928 - val_loss: 1.5151 - val_accuracy: 0.3741\n",
      "Epoch 249/250\n",
      "178/178 [==============================] - 3s 17ms/step - loss: 1.2101 - accuracy: 0.3928 - val_loss: 1.5104 - val_accuracy: 0.3773\n",
      "Epoch 250/250\n",
      "178/178 [==============================] - 3s 17ms/step - loss: 1.2108 - accuracy: 0.3946 - val_loss: 1.5088 - val_accuracy: 0.3727\n"
     ]
    }
   ],
   "source": [
    "model = Sequential()\n",
    "model.add(Embedding(num_words, embedding_dim, weights=[embedding_matrix], input_length=maxlen, trainable=False))\n",
    "if method == \"simple\":\n",
    "    pass\n",
    "    model.add(Dense(32))\n",
    "    model.add(LeakyReLU(alpha=0.2))\n",
    "    model.add(Dense(14))\n",
    "    model.add(LeakyReLU(alpha=0.2))\n",
    "    model.add(Flatten())\n",
    "if method == \"conv\":\n",
    "    pass\n",
    "    model.add(Conv1D(64, (3)))\n",
    "    model.add(Conv1D(32, (3)))\n",
    "    model.add(BatchNormalization())\n",
    "    model.add(Dense(50))\n",
    "    model.add(Dropout(0.5))\n",
    "    model.add(Flatten())\n",
    "if method == \"lstm\":\n",
    "    pass\n",
    "    model.add(Bidirectional(LSTM(16)))\n",
    "    model.add(Dropout(0.5))\n",
    "\n",
    "model.add(Dense(6, activation='softmax'))\n",
    "\n",
    "#regularizer backup\n",
    "# model.add(Dense(6, activation='softmax', kernel_regularizer=l2(0.01), bias_regularizer=l2(0.01)))\n",
    "# model.add(Conv1D(32, (3), kernel_regularizer=l2(0.01), bias_regularizer=l2(0.01)))\n",
    "# model.add(Bidirectional(LSTM(32)))#, kernel_regularizer=l2(0.01), recurrent_regularizer=l2(0.01), bias_regularizer=l2(0.01))))\n",
    "\n",
    "#optimizer = Adam(learning_rate=0.0005)\n",
    "optimizer = RMSprop(learning_rate=0.0001)\n",
    "model.compile(optimizer=optimizer, loss='categorical_crossentropy', metrics=['accuracy'])\n",
    "\n",
    "print(model.summary())\n",
    "\n",
    "history = model.fit(x_train,\n",
    "                    y_train,\n",
    "                    epochs=250,\n",
    "                    batch_size=100,\n",
    "                    validation_data=(x_test,y_test),\n",
    "                    class_weight=class_weights,\n",
    "                    callbacks=[\n",
    "                        ReduceLROnPlateau(monitor='accuracy',\n",
    "                                          patience=10,\n",
    "                                          verbose=1,\n",
    "                                          factor=0.9,\n",
    "                                          min_lr=0.00001)\n",
    "                    ])"
   ]
  },
  {
   "cell_type": "code",
   "execution_count": 25,
   "metadata": {},
   "outputs": [],
   "source": [
    "def nn_predict_single(text):\n",
    "    seq = tokenizer.texts_to_sequences([text])\n",
    "    padded_seq = sequence.pad_sequences(seq, maxlen, padding=\"post\")\n",
    "    model_output = model.predict(padded_seq)\n",
    "    return np.argmax(model_output)\n",
    "def nn_predict_many(texts):\n",
    "    lst = []\n",
    "    for row in texts:\n",
    "        seq = tokenizer.texts_to_sequences([row])\n",
    "        padded_seq = sequence.pad_sequences(seq, maxlen, padding=\"post\")\n",
    "        lst.append(padded_seq)\n",
    "    model_output = model.predict(np.vstack(lst))\n",
    "    return np.argmax(model_output, axis=1)"
   ]
  },
  {
   "cell_type": "markdown",
   "metadata": {},
   "source": [
    "# history plot"
   ]
  },
  {
   "cell_type": "code",
   "execution_count": 26,
   "metadata": {},
   "outputs": [
    {
     "data": {
      "image/png": "[encoded data removed]",
      "text/plain": [
       "<Figure size 432x288 with 1 Axes>"
      ]
     },
     "metadata": {
      "needs_background": "light"
     },
     "output_type": "display_data"
    },
    {
     "data": {
      "image/png": "[encoded data removed]",
      "text/plain": [
       "<Figure size 432x288 with 1 Axes>"
      ]
     },
     "metadata": {
      "needs_background": "light"
     },
     "output_type": "display_data"
    }
   ],
   "source": [
    "import matplotlib.pyplot as plt\n",
    "\n",
    "# summarize history for accuracy\n",
    "plt.plot(history.history['accuracy'])\n",
    "plt.plot(history.history['val_accuracy'])\n",
    "plt.title('model accuracy')\n",
    "plt.ylabel('accuracy')\n",
    "plt.xlabel('epoch')\n",
    "plt.legend(['train', 'val'], loc='upper left')\n",
    "plt.savefig(method + \"_accuracy.png\", transparent=False, pad_inches=0.1,  dpi=500)\n",
    "plt.show()\n",
    "# summarize history for loss\n",
    "plt.plot(history.history['loss'])\n",
    "plt.plot(history.history['val_loss'])\n",
    "plt.title('model loss')\n",
    "plt.ylabel('loss')\n",
    "plt.xlabel('epoch')\n",
    "plt.legend(['train', 'val'], loc='upper left')\n",
    "plt.savefig(method + \"_loss.png\", transparent=False, pad_inches=0.1,  dpi=500)\n",
    "plt.show()"
   ]
  },
  {
   "cell_type": "markdown",
   "metadata": {},
   "source": [
    "# scores"
   ]
  },
  {
   "cell_type": "code",
   "execution_count": 27,
   "metadata": {},
   "outputs": [
    {
     "name": "stderr",
     "output_type": "stream",
     "text": [
      "<ipython-input-27-bb5f5f47c635>:9: SettingWithCopyWarning: \n",
      "A value is trying to be set on a copy of a slice from a DataFrame.\n",
      "Try using .loc[row_indexer,col_indexer] = value instead\n",
      "\n",
      "See the caveats in the documentation: https://pandas.pydata.org/pandas-docs/stable/user_guide/indexing.html#returning-a-view-versus-a-copy\n",
      "  data_source['text'] = data_source['text'].apply(getLemmText)\n",
      "<ipython-input-27-bb5f5f47c635>:10: SettingWithCopyWarning: \n",
      "A value is trying to be set on a copy of a slice from a DataFrame.\n",
      "Try using .loc[row_indexer,col_indexer] = value instead\n",
      "\n",
      "See the caveats in the documentation: https://pandas.pydata.org/pandas-docs/stable/user_guide/indexing.html#returning-a-view-versus-a-copy\n",
      "  data_source['text'] = data_source['text'].apply(getStemmText)\n"
     ]
    },
    {
     "name": "stdout",
     "output_type": "stream",
     "text": [
      "Distribution of test-classes: \n",
      "{(1.0, 0.0, 0.0, 0.0, 0.0, 0.0): 8237, (0.0, 1.0, 0.0, 0.0, 0.0, 0.0): 1555, (0.0, 0.0, 1.0, 0.0, 0.0, 0.0): 3830, (0.0, 0.0, 0.0, 1.0, 0.0, 0.0): 761, (0.0, 0.0, 0.0, 0.0, 1.0, 0.0): 2816, (0.0, 0.0, 0.0, 0.0, 0.0, 1.0): 3849}\n",
      "[0 5 0 ... 0 0 0]\n"
     ]
    }
   ],
   "source": [
    "from collections import Counter\n",
    "\n",
    "correct = 0\n",
    "\n",
    "#data_source = df\n",
    "data_source = df.loc[(df['source'] == \"tec\")]\n",
    "#data_source = df.loc[(df['source'] == \"crowdflower\")]\n",
    "\n",
    "data_source['text'] = data_source['text'].apply(getLemmText)\n",
    "data_source['text'] = data_source['text'].apply(getStemmText)\n",
    "\n",
    "val_texts = data_source['text']\n",
    "y_true = data_source.loc[:, (data_source.columns != 'text') & (data_source.columns != 'source')].values\n",
    "\n",
    "print(\"Distribution of test-classes: \")\n",
    "_, idx, count = np.unique(y_true.argmax(axis=1), return_counts=1, return_index=1)\n",
    "print({tuple(i):j for i,j in zip(y_true[idx],count)})\n",
    "\n",
    "y_pred = []\n",
    "# convert one-hot to sequence array\n",
    "y_true = y_true.argmax(axis=1)\n",
    "\n",
    "predictions = nn_predict_many(val_texts)\n",
    "print(predictions)\n",
    "for i in range(0,len(val_texts)):\n",
    "    y_pred.append(predictions[i])\n",
    "    if predictions[i] == y_true[i]:\n",
    "        correct += 1\n",
    "y_pred = np.array(y_pred)"
   ]
  },
  {
   "cell_type": "code",
   "execution_count": 28,
   "metadata": {},
   "outputs": [],
   "source": [
    "# convert to strings\n",
    "emotions = ['joy', 'anger', 'sadness', 'disgust', 'fear', 'surprise']\n",
    "y_true = [emotions[x] for x in y_true]\n",
    "y_pred = [emotions[x] for x in y_pred]"
   ]
  },
  {
   "cell_type": "code",
   "execution_count": 29,
   "metadata": {},
   "outputs": [
    {
     "name": "stdout",
     "output_type": "stream",
     "text": [
      "Accuracy:\n",
      "0.3370866590649943\n",
      "F1 score micro\n",
      "0.3370866590649943\n",
      "F1 score macro\n",
      "0.2546910833751695\n",
      "              precision    recall  f1-score   support\n",
      "\n",
      "       anger       0.21      0.26      0.23      1555\n",
      "     disgust       0.03      0.01      0.01       761\n",
      "        fear       0.19      0.22      0.21      2816\n",
      "         joy       0.55      0.44      0.49      8237\n",
      "     sadness       0.27      0.31      0.29      3830\n",
      "    surprise       0.28      0.32      0.30      3849\n",
      "\n",
      "    accuracy                           0.34     21048\n",
      "   macro avg       0.25      0.26      0.25     21048\n",
      "weighted avg       0.36      0.34      0.34     21048\n",
      "\n"
     ]
    }
   ],
   "source": [
    "from sklearn.metrics import classification_report\n",
    "from sklearn.metrics import f1_score\n",
    "\n",
    "print(\"Accuracy:\")\n",
    "print(correct/len(val_texts))\n",
    "print(\"F1 score micro\")\n",
    "print(f1_score(y_true, y_pred, average=\"micro\"))\n",
    "print(\"F1 score macro\")\n",
    "print(f1_score(y_true, y_pred, average=\"macro\"))\n",
    "\n",
    "# Look at class wise score\n",
    "print(classification_report(y_true, y_pred))\n",
    "\n",
    "result = \"\"\n",
    "result += \"Accuracy:\" + str(correct/len(val_texts)) + \"\\n\"\n",
    "result += \"F1 score micro:\" + str(f1_score(y_true, y_pred, average=\"micro\")) + \"\\n\"\n",
    "result += \"F1 score macro:\" + str(f1_score(y_true, y_pred, average=\"macro\")) + \"\\n\"\n",
    "result += classification_report(y_true, y_pred) + \"\\n\"\n",
    "with open(method + \"_result.txt\", \"w\") as text_file:\n",
    "    text_file.write(result)"
   ]
  },
  {
   "cell_type": "markdown",
   "metadata": {},
   "source": [
    "# confusion matrix"
   ]
  },
  {
   "cell_type": "code",
   "execution_count": 30,
   "metadata": {},
   "outputs": [
    {
     "name": "stderr",
     "output_type": "stream",
     "text": [
      "<ipython-input-30-f472bd7ae910>:13: UserWarning: FixedFormatter should only be used together with FixedLocator\n",
      "  ax.set_xticklabels([\"\"]+tags)\n",
      "<ipython-input-30-f472bd7ae910>:14: UserWarning: FixedFormatter should only be used together with FixedLocator\n",
      "  ax.set_yticklabels([\"\"]+tags)\n"
     ]
    },
    {
     "data": {
      "text/plain": [
       "<Figure size 432x288 with 0 Axes>"
      ]
     },
     "metadata": {},
     "output_type": "display_data"
    },
    {
     "data": {
      "image/png": "[encoded data removed]",
      "text/plain": [
       "<Figure size 432x288 with 2 Axes>"
      ]
     },
     "metadata": {
      "needs_background": "light"
     },
     "output_type": "display_data"
    }
   ],
   "source": [
    "import matplotlib.pyplot as plt\n",
    "from sklearn.metrics import confusion_matrix\n",
    "\n",
    "tags = ['joy', 'anger', 'sadness', 'disgust', 'fear', 'surprise']\n",
    "\n",
    "cm = confusion_matrix(y_true,y_pred, labels = tags)\n",
    "\n",
    "def plot_confusion_matrix(cm, title='Confusion matrix', cmap=plt.cm.Blues):\n",
    "    fig, ax = plt.subplots()\n",
    "    im = ax.matshow(cm, cmap=cmap)\n",
    "    fig.colorbar(im)\n",
    "    plt.title(title)\n",
    "    ax.set_xticklabels([\"\"]+tags)\n",
    "    ax.set_yticklabels([\"\"]+tags)\n",
    "    ax.set_xlabel(\"Predicted\")\n",
    "    ax.set_ylabel(\"Actual\")\n",
    "    for (i, j), z in np.ndenumerate(cm):\n",
    "        ax.text(j, i, z, ha='center', va='center')\n",
    "    plt.savefig(method + \"_conf.png\", bbox_inches='tight', transparent=False, pad_inches=0.1,  dpi=500)\n",
    "    plt.show()\n",
    "\n",
    "# Compute confusion matrix\n",
    "np.set_printoptions(precision=2)\n",
    "plt.figure()\n",
    "plot_confusion_matrix(cm)"
   ]
  },
  {
   "cell_type": "code",
   "execution_count": null,
   "metadata": {},
   "outputs": [],
   "source": []
  }
 ],
 "metadata": {
  "kernelspec": {
   "display_name": "Python 3",
   "language": "python",
   "name": "python3"
  },
  "language_info": {
   "codemirror_mode": {
    "name": "ipython",
    "version": 3
   },
   "file_extension": ".py",
   "mimetype": "text/x-python",
   "name": "python",
   "nbconvert_exporter": "python",
   "pygments_lexer": "ipython3",
   "version": "3.8.5"
  }
 },
 "nbformat": 4,
 "nbformat_minor": 4
}
