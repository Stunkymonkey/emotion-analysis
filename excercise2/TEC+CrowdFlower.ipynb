{
 "cells": [
  {
   "cell_type": "code",
   "execution_count": 1,
   "metadata": {},
   "outputs": [
    {
     "name": "stderr",
     "output_type": "stream",
     "text": [
      "WARNING:root:Limited tf.compat.v2.summary API due to missing TensorBoard installation.\n",
      "WARNING:root:Limited tf.compat.v2.summary API due to missing TensorBoard installation.\n",
      "WARNING:root:Limited tf.compat.v2.summary API due to missing TensorBoard installation.\n",
      "WARNING:root:Limited tf.summary API due to missing TensorBoard installation.\n",
      "[nltk_data] Downloading package stopwords to /home/felix/nltk_data...\n",
      "[nltk_data]   Package stopwords is already up-to-date!\n",
      "[nltk_data] Downloading package punkt to /home/felix/nltk_data...\n",
      "[nltk_data]   Package punkt is already up-to-date!\n",
      "[nltk_data] Downloading package wordnet to /home/felix/nltk_data...\n",
      "[nltk_data]   Package wordnet is already up-to-date!\n"
     ]
    },
    {
     "data": {
      "text/plain": [
       "True"
      ]
     },
     "execution_count": 1,
     "metadata": {},
     "output_type": "execute_result"
    }
   ],
   "source": [
    "import pandas as pd\n",
    "import nltk\n",
    "from nltk.corpus import stopwords\n",
    "from nltk.tokenize import word_tokenize\n",
    "from nltk.stem import WordNetLemmatizer\n",
    "from nltk.stem import PorterStemmer\n",
    "import numpy as np\n",
    "from sklearn.model_selection import train_test_split\n",
    "from sklearn.utils import class_weight\n",
    "import keras as ks\n",
    "from keras.preprocessing.text import Tokenizer\n",
    "from keras.preprocessing import sequence\n",
    "from keras.models import Sequential\n",
    "from keras.layers import *\n",
    "from keras.optimizers import *\n",
    "from keras.regularizers import l2\n",
    "from keras.callbacks import ReduceLROnPlateau, Callback\n",
    "nltk.download('stopwords')\n",
    "nltk.download('punkt')\n",
    "nltk.download('wordnet')"
   ]
  },
  {
   "cell_type": "markdown",
   "metadata": {},
   "source": [
    "# read data"
   ]
  },
  {
   "cell_type": "code",
   "execution_count": 2,
   "metadata": {},
   "outputs": [],
   "source": [
    "df = pd.read_json (r'./corpora-DO_NOT_SHARE/unified-dataset.json', lines=True)"
   ]
  },
  {
   "cell_type": "code",
   "execution_count": 3,
   "metadata": {},
   "outputs": [
    {
     "data": {
      "text/plain": [
       "array(['tec', 'ssec', 'dailydialogues', 'fb-valence-arousal-anon',\n",
       "       'affectivetext', 'emotiondata-aman', 'electoraltweets',\n",
       "       'grounded_emotions', 'emotion-cause', 'isear', 'emoint',\n",
       "       'crowdflower', 'tales-emotion'], dtype=object)"
      ]
     },
     "execution_count": 3,
     "metadata": {},
     "output_type": "execute_result"
    }
   ],
   "source": [
    "df['source'].unique()"
   ]
  },
  {
   "cell_type": "code",
   "execution_count": 4,
   "metadata": {},
   "outputs": [],
   "source": [
    "# select only needed sources\n",
    "df = df.loc[(df['source'] == \"tec\") | (df['source'] == \"crowdflower\")]"
   ]
  },
  {
   "cell_type": "code",
   "execution_count": 5,
   "metadata": {},
   "outputs": [],
   "source": [
    "# remove not needed columns\n",
    "df = df.drop(columns=['id', 'VAD', 'split', 'domain', 'labeled', 'optional', 'annotation_procedure', 'emotion_model'])"
   ]
  },
  {
   "cell_type": "code",
   "execution_count": 6,
   "metadata": {},
   "outputs": [],
   "source": [
    "# convert emotions dict to columns\n",
    "df = df.join(df['emotions'].apply(pd.Series))"
   ]
  },
  {
   "cell_type": "code",
   "execution_count": 7,
   "metadata": {},
   "outputs": [],
   "source": [
    "# remove not needed columns\n",
    "df = df.drop(columns=['emotions', 'trust', 'love', 'noemo', 'confusion', 'anticipation', 'shame', 'guilt', 'anticipation'])"
   ]
  },
  {
   "cell_type": "code",
   "execution_count": 8,
   "metadata": {},
   "outputs": [],
   "source": [
    "# remove not annotated texts\n",
    "df = df.loc[(df['joy'] != 0) | (df['anger'] != 0) | (df['sadness'] != 0) | (df['disgust'] != 0) | (df['fear'] != 0) | (df['surprise'] != 0)]"
   ]
  },
  {
   "cell_type": "code",
   "execution_count": 9,
   "metadata": {},
   "outputs": [],
   "source": [
    "# remove stop words except not and but\n",
    "stop_words = set(stopwords.words('english')) - {\"not\", \"but\"}\n",
    "df['text'] = df['text'].apply(lambda x: ' '.join([item for item in x.split() if item not in stop_words]))"
   ]
  },
  {
   "cell_type": "markdown",
   "metadata": {},
   "source": [
    "# preprocessing"
   ]
  },
  {
   "cell_type": "code",
   "execution_count": 10,
   "metadata": {},
   "outputs": [],
   "source": [
    "embeddings_index = {}\n",
    "\n",
    "num_words = 10000\n",
    "maxlen = df.text.str.split().apply(len).max()\n",
    "embedding_dim = 100"
   ]
  },
  {
   "cell_type": "code",
   "execution_count": 11,
   "metadata": {},
   "outputs": [
    {
     "data": {
      "text/plain": [
       "Index(['source', 'text', 'joy', 'anger', 'sadness', 'disgust', 'fear',\n",
       "       'surprise'],\n",
       "      dtype='object')"
      ]
     },
     "execution_count": 11,
     "metadata": {},
     "output_type": "execute_result"
    }
   ],
   "source": [
    "df.columns"
   ]
  },
  {
   "cell_type": "code",
   "execution_count": 12,
   "metadata": {},
   "outputs": [],
   "source": [
    "#data_source = df\n",
    "data_source = df.loc[(df['source'] == \"tec\")]\n",
    "#data_source = df.loc[(df['source'] == \"crowdflower\")]"
   ]
  },
  {
   "cell_type": "markdown",
   "metadata": {},
   "source": [
    "## lemmatize"
   ]
  },
  {
   "cell_type": "code",
   "execution_count": 13,
   "metadata": {},
   "outputs": [
    {
     "name": "stderr",
     "output_type": "stream",
     "text": [
      "<ipython-input-13-cb4ac0dcb796>:6: SettingWithCopyWarning: \n",
      "A value is trying to be set on a copy of a slice from a DataFrame.\n",
      "Try using .loc[row_indexer,col_indexer] = value instead\n",
      "\n",
      "See the caveats in the documentation: https://pandas.pydata.org/pandas-docs/stable/user_guide/indexing.html#returning-a-view-versus-a-copy\n",
      "  data_source['text'] = data_source['text'].apply(getLemmText)\n"
     ]
    }
   ],
   "source": [
    "def getLemmText(text):\n",
    "    tokens = word_tokenize(text)\n",
    "    lemmatizer = WordNetLemmatizer()\n",
    "    tokens=[lemmatizer.lemmatize(word) for word in tokens]\n",
    "    return ' '.join(tokens)\n",
    "data_source['text'] = data_source['text'].apply(getLemmText)"
   ]
  },
  {
   "cell_type": "markdown",
   "metadata": {},
   "source": [
    "## stemming"
   ]
  },
  {
   "cell_type": "code",
   "execution_count": 14,
   "metadata": {},
   "outputs": [
    {
     "name": "stderr",
     "output_type": "stream",
     "text": [
      "<ipython-input-14-0088c70619d3>:6: SettingWithCopyWarning: \n",
      "A value is trying to be set on a copy of a slice from a DataFrame.\n",
      "Try using .loc[row_indexer,col_indexer] = value instead\n",
      "\n",
      "See the caveats in the documentation: https://pandas.pydata.org/pandas-docs/stable/user_guide/indexing.html#returning-a-view-versus-a-copy\n",
      "  data_source['text'] = data_source['text'].apply(getStemmText)\n"
     ]
    }
   ],
   "source": [
    "def getStemmText(text):\n",
    "    tokens = word_tokenize(text)\n",
    "    ps = PorterStemmer()\n",
    "    tokens=[ps.stem(word) for word in tokens]\n",
    "    return ' '.join(tokens)\n",
    "data_source['text'] = data_source['text'].apply(getStemmText)"
   ]
  },
  {
   "cell_type": "markdown",
   "metadata": {},
   "source": [
    "## pading"
   ]
  },
  {
   "cell_type": "code",
   "execution_count": 15,
   "metadata": {},
   "outputs": [],
   "source": [
    "# select x and y\n",
    "samples = data_source['text']\n",
    "labels = data_source.loc[:, (data_source.columns != 'text') & (data_source.columns != 'source')].values\n",
    "\n",
    "tokenizer = Tokenizer(num_words)\n",
    "tokenizer.fit_on_texts(samples)\n",
    "\n",
    "sequences = tokenizer.texts_to_sequences(samples)\n",
    "word_index = tokenizer.word_index\n",
    "\n",
    "padded_sequences = sequence.pad_sequences(sequences, maxlen, padding='post')"
   ]
  },
  {
   "cell_type": "markdown",
   "metadata": {},
   "source": [
    "## embedding"
   ]
  },
  {
   "cell_type": "code",
   "execution_count": 16,
   "metadata": {},
   "outputs": [],
   "source": [
    "f = open(\"glove.6B.100d.txt\")\n",
    "for line in f:\n",
    "    values = line.split()\n",
    "    word = values[0]\n",
    "    coefs = np.asarray(values[1:], dtype='float32')\n",
    "    embeddings_index[word] = coefs\n",
    "f.close()"
   ]
  },
  {
   "cell_type": "code",
   "execution_count": 17,
   "metadata": {},
   "outputs": [
    {
     "name": "stdout",
     "output_type": "stream",
     "text": [
      "Found 400000 word vectors.\n"
     ]
    }
   ],
   "source": [
    "print(\"Found %s word vectors.\" % len(embeddings_index))"
   ]
  },
  {
   "cell_type": "code",
   "execution_count": 18,
   "metadata": {},
   "outputs": [],
   "source": [
    "embedding_matrix = np.zeros((num_words, embedding_dim))\n",
    "for word, i in word_index.items():\n",
    "    if i < num_words:\n",
    "        embedding_vector = embeddings_index.get(word)\n",
    "        if embedding_vector is not None:\n",
    "            embedding_matrix[i] = embedding_vector"
   ]
  },
  {
   "cell_type": "markdown",
   "metadata": {},
   "source": [
    "# data split"
   ]
  },
  {
   "cell_type": "code",
   "execution_count": 19,
   "metadata": {},
   "outputs": [],
   "source": [
    "x_train, x_test, y_train, y_test = train_test_split(padded_sequences, labels, test_size=0.33, random_state=42)"
   ]
  },
  {
   "cell_type": "code",
   "execution_count": 20,
   "metadata": {},
   "outputs": [
    {
     "name": "stderr",
     "output_type": "stream",
     "text": [
      "/nix/store/5kig4h8sfvswwqkmzzq2fvkq31agvhww-python3-3.8.5-env/lib/python3.8/site-packages/sklearn/utils/validation.py:67: FutureWarning: Pass classes=[0 1 2 3 4 5], y=[5 4 2 ... 5 0 2] as keyword args. From version 0.25 passing these as positional arguments will result in an error\n",
      "  warnings.warn(\"Pass {} as keyword args. From version 0.25 \"\n"
     ]
    }
   ],
   "source": [
    "y_integers = np.argmax(y_train, axis=1)\n",
    "class_weights = class_weight.compute_class_weight('balanced', np.unique(y_integers), y_integers)\n",
    "class_weights = dict(enumerate(class_weights))"
   ]
  },
  {
   "cell_type": "code",
   "execution_count": 21,
   "metadata": {},
   "outputs": [
    {
     "name": "stdout",
     "output_type": "stream",
     "text": [
      "Distribution of train-classes: \n",
      "{(1.0, 0.0, 0.0, 0.0, 0.0, 0.0): 5505, (0.0, 1.0, 0.0, 0.0, 0.0, 0.0): 1033, (0.0, 0.0, 1.0, 0.0, 0.0, 0.0): 2625, (0.0, 0.0, 0.0, 1.0, 0.0, 0.0): 502, (0.0, 0.0, 0.0, 0.0, 1.0, 0.0): 1871, (0.0, 0.0, 0.0, 0.0, 0.0, 1.0): 2566}\n"
     ]
    }
   ],
   "source": [
    "print(\"Distribution of train-classes: \")\n",
    "_, idx, count = np.unique(y_train.argmax(axis=1), return_counts=1, return_index=1)\n",
    "print({tuple(i):j for i,j in zip(y_train[idx],count)})"
   ]
  },
  {
   "cell_type": "code",
   "execution_count": 22,
   "metadata": {},
   "outputs": [
    {
     "data": {
      "text/plain": [
       "{0: 0.4269452013321223,\n",
       " 1: 2.275250080671184,\n",
       " 2: 0.8953650793650794,\n",
       " 3: 4.681938911022576,\n",
       " 4: 1.2561909852128987,\n",
       " 5: 0.9159521953754222}"
      ]
     },
     "execution_count": 22,
     "metadata": {},
     "output_type": "execute_result"
    }
   ],
   "source": [
    "class_weights"
   ]
  },
  {
   "cell_type": "markdown",
   "metadata": {},
   "source": [
    "# model training"
   ]
  },
  {
   "cell_type": "code",
   "execution_count": 23,
   "metadata": {},
   "outputs": [],
   "source": [
    "# [\"conv\", \"lstm\", \"simple\"]\n",
    "method = \"lstm\""
   ]
  },
  {
   "cell_type": "code",
   "execution_count": 24,
   "metadata": {},
   "outputs": [
    {
     "name": "stdout",
     "output_type": "stream",
     "text": [
      "Model: \"sequential\"\n",
      "_________________________________________________________________\n",
      "Layer (type)                 Output Shape              Param #   \n",
      "=================================================================\n",
      "embedding (Embedding)        (None, 33, 100)           1000000   \n",
      "_________________________________________________________________\n",
      "bidirectional (Bidirectional (None, 32)                14976     \n",
      "_________________________________________________________________\n",
      "dropout (Dropout)            (None, 32)                0         \n",
      "_________________________________________________________________\n",
      "dense (Dense)                (None, 6)                 198       \n",
      "=================================================================\n",
      "Total params: 1,015,174\n",
      "Trainable params: 15,174\n",
      "Non-trainable params: 1,000,000\n",
      "_________________________________________________________________\n",
      "None\n",
      "Epoch 1/250\n",
      "142/142 [==============================] - 4s 31ms/step - loss: 1.7964 - accuracy: 0.2272 - val_loss: 1.7647 - val_accuracy: 0.2499\n",
      "Epoch 2/250\n",
      "142/142 [==============================] - 3s 21ms/step - loss: 1.7826 - accuracy: 0.2199 - val_loss: 1.7608 - val_accuracy: 0.2698\n",
      "Epoch 3/250\n",
      "142/142 [==============================] - 3s 22ms/step - loss: 1.7698 - accuracy: 0.2437 - val_loss: 1.7446 - val_accuracy: 0.2971\n",
      "Epoch 4/250\n",
      "142/142 [==============================] - 3s 23ms/step - loss: 1.7575 - accuracy: 0.2622 - val_loss: 1.7373 - val_accuracy: 0.3071\n",
      "Epoch 5/250\n",
      "142/142 [==============================] - 4s 26ms/step - loss: 1.7494 - accuracy: 0.2783 - val_loss: 1.7196 - val_accuracy: 0.3314\n",
      "Epoch 6/250\n",
      "142/142 [==============================] - 4s 26ms/step - loss: 1.7399 - accuracy: 0.2896 - val_loss: 1.7065 - val_accuracy: 0.3424\n",
      "Epoch 7/250\n",
      "142/142 [==============================] - 4s 25ms/step - loss: 1.7280 - accuracy: 0.3064 - val_loss: 1.7010 - val_accuracy: 0.3412\n",
      "Epoch 8/250\n",
      "142/142 [==============================] - 4s 26ms/step - loss: 1.7178 - accuracy: 0.3090 - val_loss: 1.6794 - val_accuracy: 0.3569\n",
      "Epoch 9/250\n",
      "142/142 [==============================] - 4s 26ms/step - loss: 1.7125 - accuracy: 0.3184 - val_loss: 1.6708 - val_accuracy: 0.3647\n",
      "Epoch 10/250\n",
      "142/142 [==============================] - 4s 27ms/step - loss: 1.7046 - accuracy: 0.3266 - val_loss: 1.6669 - val_accuracy: 0.3657\n",
      "Epoch 11/250\n",
      "142/142 [==============================] - 3s 24ms/step - loss: 1.6936 - accuracy: 0.3278 - val_loss: 1.6606 - val_accuracy: 0.3696\n",
      "Epoch 12/250\n",
      "142/142 [==============================] - 3s 22ms/step - loss: 1.6884 - accuracy: 0.3329 - val_loss: 1.6514 - val_accuracy: 0.3752\n",
      "Epoch 13/250\n",
      "142/142 [==============================] - 3s 21ms/step - loss: 1.6828 - accuracy: 0.3356 - val_loss: 1.6488 - val_accuracy: 0.3713\n",
      "Epoch 14/250\n",
      "142/142 [==============================] - 3s 22ms/step - loss: 1.6744 - accuracy: 0.3439 - val_loss: 1.6426 - val_accuracy: 0.3753\n",
      "Epoch 15/250\n",
      "142/142 [==============================] - 3s 23ms/step - loss: 1.6760 - accuracy: 0.3428 - val_loss: 1.6264 - val_accuracy: 0.3916\n",
      "Epoch 16/250\n",
      "142/142 [==============================] - 3s 22ms/step - loss: 1.6616 - accuracy: 0.3524 - val_loss: 1.6268 - val_accuracy: 0.3890\n",
      "Epoch 17/250\n",
      "142/142 [==============================] - 3s 22ms/step - loss: 1.6590 - accuracy: 0.3521 - val_loss: 1.6109 - val_accuracy: 0.3997\n",
      "Epoch 18/250\n",
      "142/142 [==============================] - 3s 22ms/step - loss: 1.6499 - accuracy: 0.3528 - val_loss: 1.6158 - val_accuracy: 0.3945\n",
      "Epoch 19/250\n",
      "142/142 [==============================] - 3s 21ms/step - loss: 1.6435 - accuracy: 0.3560 - val_loss: 1.6084 - val_accuracy: 0.3965\n",
      "Epoch 20/250\n",
      "142/142 [==============================] - 3s 23ms/step - loss: 1.6326 - accuracy: 0.3630 - val_loss: 1.5988 - val_accuracy: 0.3981\n",
      "Epoch 21/250\n",
      "142/142 [==============================] - 3s 21ms/step - loss: 1.6271 - accuracy: 0.3657 - val_loss: 1.5790 - val_accuracy: 0.4146\n",
      "Epoch 22/250\n",
      "142/142 [==============================] - 3s 22ms/step - loss: 1.6238 - accuracy: 0.3677 - val_loss: 1.5792 - val_accuracy: 0.4112\n",
      "Epoch 23/250\n",
      "142/142 [==============================] - 3s 22ms/step - loss: 1.6190 - accuracy: 0.3703 - val_loss: 1.5807 - val_accuracy: 0.4061\n",
      "Epoch 24/250\n",
      "142/142 [==============================] - 3s 21ms/step - loss: 1.6096 - accuracy: 0.3780 - val_loss: 1.5659 - val_accuracy: 0.4175\n",
      "Epoch 25/250\n",
      "142/142 [==============================] - 3s 21ms/step - loss: 1.6080 - accuracy: 0.3777 - val_loss: 1.5673 - val_accuracy: 0.4133\n",
      "Epoch 26/250\n",
      "142/142 [==============================] - 3s 21ms/step - loss: 1.6078 - accuracy: 0.3715 - val_loss: 1.5696 - val_accuracy: 0.4109\n",
      "Epoch 27/250\n",
      "142/142 [==============================] - 3s 21ms/step - loss: 1.5974 - accuracy: 0.3751 - val_loss: 1.5669 - val_accuracy: 0.4115\n",
      "Epoch 28/250\n",
      "142/142 [==============================] - 4s 28ms/step - loss: 1.5920 - accuracy: 0.3823 - val_loss: 1.5620 - val_accuracy: 0.4146\n",
      "Epoch 29/250\n",
      "142/142 [==============================] - 4s 26ms/step - loss: 1.5908 - accuracy: 0.3784 - val_loss: 1.5448 - val_accuracy: 0.4238\n",
      "Epoch 30/250\n",
      "142/142 [==============================] - 4s 25ms/step - loss: 1.5854 - accuracy: 0.3845 - val_loss: 1.5409 - val_accuracy: 0.4228\n",
      "Epoch 31/250\n",
      "142/142 [==============================] - 4s 27ms/step - loss: 1.5763 - accuracy: 0.3853 - val_loss: 1.5268 - val_accuracy: 0.4341\n",
      "Epoch 32/250\n",
      "142/142 [==============================] - 4s 27ms/step - loss: 1.5789 - accuracy: 0.3882 - val_loss: 1.5356 - val_accuracy: 0.4277\n",
      "Epoch 33/250\n",
      "142/142 [==============================] - 3s 24ms/step - loss: 1.5745 - accuracy: 0.3924 - val_loss: 1.5396 - val_accuracy: 0.4247\n",
      "Epoch 34/250\n",
      "142/142 [==============================] - 3s 24ms/step - loss: 1.5660 - accuracy: 0.3877 - val_loss: 1.5456 - val_accuracy: 0.4165\n",
      "Epoch 35/250\n",
      "142/142 [==============================] - 4s 25ms/step - loss: 1.5635 - accuracy: 0.3923 - val_loss: 1.5319 - val_accuracy: 0.4280\n",
      "Epoch 36/250\n",
      "142/142 [==============================] - 3s 24ms/step - loss: 1.5649 - accuracy: 0.3905 - val_loss: 1.5543 - val_accuracy: 0.4050\n",
      "Epoch 37/250\n",
      "142/142 [==============================] - 3s 24ms/step - loss: 1.5588 - accuracy: 0.3950 - val_loss: 1.5240 - val_accuracy: 0.4305\n",
      "Epoch 38/250\n",
      "142/142 [==============================] - 4s 25ms/step - loss: 1.5534 - accuracy: 0.3960 - val_loss: 1.5329 - val_accuracy: 0.4191\n",
      "Epoch 39/250\n",
      "142/142 [==============================] - 3s 24ms/step - loss: 1.5511 - accuracy: 0.4001 - val_loss: 1.5086 - val_accuracy: 0.4365\n",
      "Epoch 40/250\n",
      "142/142 [==============================] - 4s 25ms/step - loss: 1.5485 - accuracy: 0.4070 - val_loss: 1.5224 - val_accuracy: 0.4287\n",
      "Epoch 41/250\n",
      "142/142 [==============================] - 3s 24ms/step - loss: 1.5429 - accuracy: 0.3975 - val_loss: 1.5206 - val_accuracy: 0.4254\n",
      "Epoch 42/250\n",
      "142/142 [==============================] - 3s 24ms/step - loss: 1.5453 - accuracy: 0.3961 - val_loss: 1.5165 - val_accuracy: 0.4296\n",
      "Epoch 43/250\n",
      "142/142 [==============================] - 3s 24ms/step - loss: 1.5371 - accuracy: 0.4066 - val_loss: 1.5160 - val_accuracy: 0.4287\n",
      "Epoch 44/250\n",
      "142/142 [==============================] - 3s 24ms/step - loss: 1.5413 - accuracy: 0.4009 - val_loss: 1.5264 - val_accuracy: 0.4133\n",
      "Epoch 45/250\n",
      "142/142 [==============================] - 3s 25ms/step - loss: 1.5327 - accuracy: 0.4077 - val_loss: 1.5130 - val_accuracy: 0.4339\n",
      "Epoch 46/250\n",
      "142/142 [==============================] - 3s 24ms/step - loss: 1.5327 - accuracy: 0.4081 - val_loss: 1.5126 - val_accuracy: 0.4289\n",
      "Epoch 47/250\n",
      "142/142 [==============================] - 3s 24ms/step - loss: 1.5258 - accuracy: 0.4085 - val_loss: 1.5109 - val_accuracy: 0.4305\n",
      "Epoch 48/250\n",
      "142/142 [==============================] - 3s 24ms/step - loss: 1.5250 - accuracy: 0.4132 - val_loss: 1.5182 - val_accuracy: 0.4205\n",
      "Epoch 49/250\n",
      "142/142 [==============================] - 3s 24ms/step - loss: 1.5188 - accuracy: 0.4089 - val_loss: 1.5250 - val_accuracy: 0.4217\n",
      "Epoch 50/250\n",
      "142/142 [==============================] - 3s 24ms/step - loss: 1.5178 - accuracy: 0.4107 - val_loss: 1.4978 - val_accuracy: 0.4284\n",
      "Epoch 51/250\n"
     ]
    },
    {
     "name": "stdout",
     "output_type": "stream",
     "text": [
      "142/142 [==============================] - 4s 25ms/step - loss: 1.5164 - accuracy: 0.4102 - val_loss: 1.5015 - val_accuracy: 0.4351\n",
      "Epoch 52/250\n",
      "142/142 [==============================] - 4s 25ms/step - loss: 1.5099 - accuracy: 0.4097 - val_loss: 1.5263 - val_accuracy: 0.4205\n",
      "Epoch 53/250\n",
      "142/142 [==============================] - 3s 24ms/step - loss: 1.5128 - accuracy: 0.4114 - val_loss: 1.4966 - val_accuracy: 0.4371\n",
      "Epoch 54/250\n",
      "142/142 [==============================] - 6s 43ms/step - loss: 1.5124 - accuracy: 0.4172 - val_loss: 1.4931 - val_accuracy: 0.4362\n",
      "Epoch 55/250\n",
      "142/142 [==============================] - 7s 47ms/step - loss: 1.5098 - accuracy: 0.4136 - val_loss: 1.4855 - val_accuracy: 0.4418\n",
      "Epoch 56/250\n",
      "142/142 [==============================] - 6s 45ms/step - loss: 1.5022 - accuracy: 0.4221 - val_loss: 1.4842 - val_accuracy: 0.4449\n",
      "Epoch 57/250\n",
      "142/142 [==============================] - 5s 32ms/step - loss: 1.5051 - accuracy: 0.4220 - val_loss: 1.4916 - val_accuracy: 0.4387\n",
      "Epoch 58/250\n",
      "142/142 [==============================] - 6s 45ms/step - loss: 1.4979 - accuracy: 0.4169 - val_loss: 1.4933 - val_accuracy: 0.4369\n",
      "Epoch 59/250\n",
      "142/142 [==============================] - 7s 46ms/step - loss: 1.4943 - accuracy: 0.4238 - val_loss: 1.4827 - val_accuracy: 0.4417\n",
      "Epoch 60/250\n",
      "142/142 [==============================] - 6s 43ms/step - loss: 1.4989 - accuracy: 0.4180 - val_loss: 1.5179 - val_accuracy: 0.4218\n",
      "Epoch 61/250\n",
      "142/142 [==============================] - 6s 44ms/step - loss: 1.4962 - accuracy: 0.4229 - val_loss: 1.4954 - val_accuracy: 0.4344\n",
      "Epoch 62/250\n",
      "142/142 [==============================] - 6s 43ms/step - loss: 1.4940 - accuracy: 0.4191 - val_loss: 1.4924 - val_accuracy: 0.4372\n",
      "Epoch 63/250\n",
      "142/142 [==============================] - 6s 43ms/step - loss: 1.4843 - accuracy: 0.4190 - val_loss: 1.4770 - val_accuracy: 0.4388\n",
      "Epoch 64/250\n",
      "142/142 [==============================] - 6s 44ms/step - loss: 1.4885 - accuracy: 0.4267 - val_loss: 1.4858 - val_accuracy: 0.4392\n",
      "Epoch 65/250\n",
      "142/142 [==============================] - 6s 43ms/step - loss: 1.4811 - accuracy: 0.4236 - val_loss: 1.4786 - val_accuracy: 0.4433\n",
      "Epoch 66/250\n",
      "142/142 [==============================] - 5s 35ms/step - loss: 1.4811 - accuracy: 0.4297 - val_loss: 1.4714 - val_accuracy: 0.4437\n",
      "Epoch 67/250\n",
      "142/142 [==============================] - 4s 28ms/step - loss: 1.4777 - accuracy: 0.4250 - val_loss: 1.4861 - val_accuracy: 0.4362\n",
      "Epoch 68/250\n",
      "142/142 [==============================] - 4s 27ms/step - loss: 1.4746 - accuracy: 0.4260 - val_loss: 1.4871 - val_accuracy: 0.4284\n",
      "Epoch 69/250\n",
      "142/142 [==============================] - 4s 31ms/step - loss: 1.4716 - accuracy: 0.4309 - val_loss: 1.4917 - val_accuracy: 0.4306\n",
      "Epoch 70/250\n",
      "142/142 [==============================] - 5s 37ms/step - loss: 1.4686 - accuracy: 0.4266 - val_loss: 1.4827 - val_accuracy: 0.4351\n",
      "Epoch 71/250\n",
      "142/142 [==============================] - 6s 44ms/step - loss: 1.4681 - accuracy: 0.4296 - val_loss: 1.4805 - val_accuracy: 0.4344\n",
      "Epoch 72/250\n",
      "142/142 [==============================] - 6s 44ms/step - loss: 1.4630 - accuracy: 0.4273 - val_loss: 1.4817 - val_accuracy: 0.4315\n",
      "Epoch 73/250\n",
      "142/142 [==============================] - 6s 44ms/step - loss: 1.4646 - accuracy: 0.4332 - val_loss: 1.4953 - val_accuracy: 0.4297\n",
      "Epoch 74/250\n",
      "142/142 [==============================] - 6s 44ms/step - loss: 1.4556 - accuracy: 0.4342 - val_loss: 1.5151 - val_accuracy: 0.4201\n",
      "Epoch 75/250\n",
      "142/142 [==============================] - 6s 44ms/step - loss: 1.4589 - accuracy: 0.4304 - val_loss: 1.4791 - val_accuracy: 0.4388\n",
      "Epoch 76/250\n",
      "142/142 [==============================] - 7s 48ms/step - loss: 1.4578 - accuracy: 0.4317 - val_loss: 1.4682 - val_accuracy: 0.4453\n",
      "Epoch 77/250\n",
      "142/142 [==============================] - 6s 44ms/step - loss: 1.4628 - accuracy: 0.4271 - val_loss: 1.4757 - val_accuracy: 0.4378\n",
      "Epoch 78/250\n",
      "142/142 [==============================] - 6s 43ms/step - loss: 1.4579 - accuracy: 0.4357 - val_loss: 1.4732 - val_accuracy: 0.4381\n",
      "Epoch 79/250\n",
      "142/142 [==============================] - 7s 47ms/step - loss: 1.4502 - accuracy: 0.4354 - val_loss: 1.4850 - val_accuracy: 0.4238\n",
      "Epoch 80/250\n",
      "142/142 [==============================] - 7s 47ms/step - loss: 1.4525 - accuracy: 0.4337 - val_loss: 1.4808 - val_accuracy: 0.4333\n",
      "Epoch 81/250\n",
      "142/142 [==============================] - 6s 42ms/step - loss: 1.4451 - accuracy: 0.4374 - val_loss: 1.4670 - val_accuracy: 0.4447\n",
      "Epoch 82/250\n",
      "142/142 [==============================] - 4s 26ms/step - loss: 1.4424 - accuracy: 0.4399 - val_loss: 1.4729 - val_accuracy: 0.4356\n",
      "Epoch 83/250\n",
      "142/142 [==============================] - 4s 28ms/step - loss: 1.4454 - accuracy: 0.4350 - val_loss: 1.4855 - val_accuracy: 0.4331\n",
      "Epoch 84/250\n",
      "142/142 [==============================] - 4s 25ms/step - loss: 1.4424 - accuracy: 0.4389 - val_loss: 1.4791 - val_accuracy: 0.4403\n",
      "Epoch 85/250\n",
      "142/142 [==============================] - 5s 32ms/step - loss: 1.4358 - accuracy: 0.4360 - val_loss: 1.4635 - val_accuracy: 0.4408\n",
      "Epoch 86/250\n",
      "142/142 [==============================] - 3s 23ms/step - loss: 1.4398 - accuracy: 0.4374 - val_loss: 1.4563 - val_accuracy: 0.4482\n",
      "Epoch 87/250\n",
      "142/142 [==============================] - 3s 24ms/step - loss: 1.4360 - accuracy: 0.4390 - val_loss: 1.4811 - val_accuracy: 0.4320\n",
      "Epoch 88/250\n",
      "142/142 [==============================] - 3s 23ms/step - loss: 1.4332 - accuracy: 0.4360 - val_loss: 1.4886 - val_accuracy: 0.4256\n",
      "Epoch 89/250\n",
      "142/142 [==============================] - 3s 23ms/step - loss: 1.4336 - accuracy: 0.4440 - val_loss: 1.4554 - val_accuracy: 0.4450\n",
      "Epoch 90/250\n",
      "142/142 [==============================] - 3s 23ms/step - loss: 1.4359 - accuracy: 0.4371 - val_loss: 1.4570 - val_accuracy: 0.4434\n",
      "Epoch 91/250\n",
      "142/142 [==============================] - 3s 24ms/step - loss: 1.4280 - accuracy: 0.4445 - val_loss: 1.4696 - val_accuracy: 0.4346\n",
      "Epoch 92/250\n",
      "142/142 [==============================] - 3s 24ms/step - loss: 1.4261 - accuracy: 0.4410 - val_loss: 1.4589 - val_accuracy: 0.4472\n",
      "Epoch 93/250\n",
      "142/142 [==============================] - 3s 24ms/step - loss: 1.4245 - accuracy: 0.4399 - val_loss: 1.4588 - val_accuracy: 0.4456\n",
      "Epoch 94/250\n",
      "142/142 [==============================] - 3s 23ms/step - loss: 1.4283 - accuracy: 0.4404 - val_loss: 1.4541 - val_accuracy: 0.4433\n",
      "Epoch 95/250\n",
      "142/142 [==============================] - 3s 24ms/step - loss: 1.4216 - accuracy: 0.4447 - val_loss: 1.4576 - val_accuracy: 0.4405\n",
      "Epoch 96/250\n",
      "142/142 [==============================] - 3s 22ms/step - loss: 1.4179 - accuracy: 0.4403 - val_loss: 1.4721 - val_accuracy: 0.4379\n",
      "Epoch 97/250\n",
      "142/142 [==============================] - 3s 23ms/step - loss: 1.4190 - accuracy: 0.4427 - val_loss: 1.4798 - val_accuracy: 0.4346\n",
      "Epoch 98/250\n",
      "142/142 [==============================] - 3s 22ms/step - loss: 1.4120 - accuracy: 0.4444 - val_loss: 1.4655 - val_accuracy: 0.4378\n",
      "Epoch 99/250\n",
      "142/142 [==============================] - 3s 23ms/step - loss: 1.4152 - accuracy: 0.4416 - val_loss: 1.4652 - val_accuracy: 0.4348\n",
      "Epoch 100/250\n",
      "142/142 [==============================] - 4s 25ms/step - loss: 1.4136 - accuracy: 0.4469 - val_loss: 1.4577 - val_accuracy: 0.4418\n",
      "Epoch 101/250\n",
      "142/142 [==============================] - 4s 25ms/step - loss: 1.4163 - accuracy: 0.4455 - val_loss: 1.4534 - val_accuracy: 0.4444\n",
      "Epoch 102/250\n",
      "142/142 [==============================] - 3s 24ms/step - loss: 1.4030 - accuracy: 0.4509 - val_loss: 1.4486 - val_accuracy: 0.4417\n",
      "Epoch 103/250\n",
      "142/142 [==============================] - 4s 27ms/step - loss: 1.4077 - accuracy: 0.4484 - val_loss: 1.4826 - val_accuracy: 0.4290\n",
      "Epoch 104/250\n",
      "142/142 [==============================] - 4s 31ms/step - loss: 1.4000 - accuracy: 0.4513 - val_loss: 1.4797 - val_accuracy: 0.4302\n",
      "Epoch 105/250\n",
      "142/142 [==============================] - 4s 30ms/step - loss: 1.4096 - accuracy: 0.4437 - val_loss: 1.4687 - val_accuracy: 0.4385\n",
      "Epoch 106/250\n",
      "142/142 [==============================] - 4s 32ms/step - loss: 1.4075 - accuracy: 0.4450 - val_loss: 1.4432 - val_accuracy: 0.4450\n",
      "Epoch 107/250\n"
     ]
    },
    {
     "name": "stdout",
     "output_type": "stream",
     "text": [
      "142/142 [==============================] - 3s 24ms/step - loss: 1.4025 - accuracy: 0.4486 - val_loss: 1.4547 - val_accuracy: 0.4407\n",
      "Epoch 108/250\n",
      "142/142 [==============================] - 4s 27ms/step - loss: 1.3898 - accuracy: 0.4489 - val_loss: 1.4831 - val_accuracy: 0.4286\n",
      "Epoch 109/250\n",
      "142/142 [==============================] - 5s 34ms/step - loss: 1.3978 - accuracy: 0.4477 - val_loss: 1.4558 - val_accuracy: 0.4443\n",
      "Epoch 110/250\n",
      "142/142 [==============================] - 4s 27ms/step - loss: 1.3892 - accuracy: 0.4528 - val_loss: 1.4521 - val_accuracy: 0.4460\n",
      "Epoch 111/250\n",
      "142/142 [==============================] - 3s 23ms/step - loss: 1.3894 - accuracy: 0.4514 - val_loss: 1.4501 - val_accuracy: 0.4410\n",
      "Epoch 112/250\n",
      "142/142 [==============================] - 3s 24ms/step - loss: 1.3839 - accuracy: 0.4514 - val_loss: 1.4567 - val_accuracy: 0.4405\n",
      "Epoch 113/250\n",
      "142/142 [==============================] - 3s 24ms/step - loss: 1.3926 - accuracy: 0.4480 - val_loss: 1.4678 - val_accuracy: 0.4320\n",
      "Epoch 114/250\n",
      "142/142 [==============================] - 3s 24ms/step - loss: 1.3827 - accuracy: 0.4499 - val_loss: 1.4527 - val_accuracy: 0.4420\n",
      "Epoch 115/250\n",
      "142/142 [==============================] - 3s 25ms/step - loss: 1.3853 - accuracy: 0.4506 - val_loss: 1.4358 - val_accuracy: 0.4528\n",
      "Epoch 116/250\n",
      "142/142 [==============================] - 4s 25ms/step - loss: 1.3781 - accuracy: 0.4543 - val_loss: 1.4814 - val_accuracy: 0.4243\n",
      "Epoch 117/250\n",
      "142/142 [==============================] - 4s 28ms/step - loss: 1.3827 - accuracy: 0.4498 - val_loss: 1.5005 - val_accuracy: 0.4212\n",
      "Epoch 118/250\n",
      "142/142 [==============================] - 3s 23ms/step - loss: 1.3790 - accuracy: 0.4535 - val_loss: 1.4502 - val_accuracy: 0.4441\n",
      "Epoch 119/250\n",
      "142/142 [==============================] - 3s 23ms/step - loss: 1.3761 - accuracy: 0.4535 - val_loss: 1.4649 - val_accuracy: 0.4368\n",
      "Epoch 120/250\n",
      "142/142 [==============================] - 3s 23ms/step - loss: 1.3733 - accuracy: 0.4558 - val_loss: 1.4585 - val_accuracy: 0.4382\n",
      "Epoch 121/250\n",
      "142/142 [==============================] - 3s 23ms/step - loss: 1.3793 - accuracy: 0.4553 - val_loss: 1.4667 - val_accuracy: 0.4320\n",
      "Epoch 122/250\n",
      "142/142 [==============================] - 3s 23ms/step - loss: 1.3698 - accuracy: 0.4539 - val_loss: 1.4381 - val_accuracy: 0.4522\n",
      "Epoch 123/250\n",
      "142/142 [==============================] - 3s 23ms/step - loss: 1.3721 - accuracy: 0.4567 - val_loss: 1.4562 - val_accuracy: 0.4361\n",
      "Epoch 124/250\n",
      "142/142 [==============================] - 3s 23ms/step - loss: 1.3705 - accuracy: 0.4529 - val_loss: 1.4433 - val_accuracy: 0.4413\n",
      "Epoch 125/250\n",
      "142/142 [==============================] - 3s 23ms/step - loss: 1.3689 - accuracy: 0.4572 - val_loss: 1.4670 - val_accuracy: 0.4346\n",
      "Epoch 126/250\n",
      "142/142 [==============================] - 3s 23ms/step - loss: 1.3695 - accuracy: 0.4494 - val_loss: 1.4528 - val_accuracy: 0.4392\n",
      "Epoch 127/250\n",
      "142/142 [==============================] - 3s 23ms/step - loss: 1.3662 - accuracy: 0.4575 - val_loss: 1.4472 - val_accuracy: 0.4453\n",
      "Epoch 128/250\n",
      "142/142 [==============================] - 4s 27ms/step - loss: 1.3578 - accuracy: 0.4601 - val_loss: 1.4397 - val_accuracy: 0.4486\n",
      "Epoch 129/250\n",
      "142/142 [==============================] - 5s 34ms/step - loss: 1.3629 - accuracy: 0.4548 - val_loss: 1.4820 - val_accuracy: 0.4283\n",
      "Epoch 130/250\n",
      "142/142 [==============================] - 4s 30ms/step - loss: 1.3608 - accuracy: 0.4544 - val_loss: 1.4693 - val_accuracy: 0.4318\n",
      "Epoch 131/250\n",
      "142/142 [==============================] - 4s 28ms/step - loss: 1.3616 - accuracy: 0.4577 - val_loss: 1.4556 - val_accuracy: 0.4378\n",
      "Epoch 132/250\n",
      "142/142 [==============================] - 4s 27ms/step - loss: 1.3564 - accuracy: 0.4621 - val_loss: 1.4859 - val_accuracy: 0.4274\n",
      "Epoch 133/250\n",
      "142/142 [==============================] - 4s 29ms/step - loss: 1.3596 - accuracy: 0.4550 - val_loss: 1.4622 - val_accuracy: 0.4354\n",
      "Epoch 134/250\n",
      "142/142 [==============================] - 4s 25ms/step - loss: 1.3555 - accuracy: 0.4581 - val_loss: 1.4870 - val_accuracy: 0.4237\n",
      "Epoch 135/250\n",
      "142/142 [==============================] - 4s 27ms/step - loss: 1.3537 - accuracy: 0.4601 - val_loss: 1.4941 - val_accuracy: 0.4205\n",
      "Epoch 136/250\n",
      "142/142 [==============================] - 3s 23ms/step - loss: 1.3450 - accuracy: 0.4572 - val_loss: 1.4936 - val_accuracy: 0.4214\n",
      "Epoch 137/250\n",
      "142/142 [==============================] - 3s 24ms/step - loss: 1.3511 - accuracy: 0.4577 - val_loss: 1.4572 - val_accuracy: 0.4382\n",
      "Epoch 138/250\n",
      "142/142 [==============================] - 3s 23ms/step - loss: 1.3448 - accuracy: 0.4593 - val_loss: 1.4632 - val_accuracy: 0.4333\n",
      "Epoch 139/250\n",
      "142/142 [==============================] - 3s 24ms/step - loss: 1.3436 - accuracy: 0.4652 - val_loss: 1.5101 - val_accuracy: 0.4161\n",
      "Epoch 140/250\n",
      "142/142 [==============================] - 3s 24ms/step - loss: 1.3521 - accuracy: 0.4587 - val_loss: 1.4721 - val_accuracy: 0.4300\n",
      "Epoch 141/250\n",
      "142/142 [==============================] - 3s 23ms/step - loss: 1.3408 - accuracy: 0.4613 - val_loss: 1.4790 - val_accuracy: 0.4287\n",
      "Epoch 142/250\n",
      "142/142 [==============================] - 3s 24ms/step - loss: 1.3356 - accuracy: 0.4680 - val_loss: 1.4536 - val_accuracy: 0.4388\n",
      "Epoch 143/250\n",
      "142/142 [==============================] - 4s 25ms/step - loss: 1.3373 - accuracy: 0.4573 - val_loss: 1.4380 - val_accuracy: 0.4490\n",
      "Epoch 144/250\n",
      "142/142 [==============================] - 3s 24ms/step - loss: 1.3385 - accuracy: 0.4658 - val_loss: 1.4343 - val_accuracy: 0.4509\n",
      "Epoch 145/250\n",
      "142/142 [==============================] - 3s 24ms/step - loss: 1.3351 - accuracy: 0.4701 - val_loss: 1.4624 - val_accuracy: 0.4341\n",
      "Epoch 146/250\n",
      "142/142 [==============================] - 3s 24ms/step - loss: 1.3377 - accuracy: 0.4649 - val_loss: 1.4561 - val_accuracy: 0.4392\n",
      "Epoch 147/250\n",
      "142/142 [==============================] - 3s 24ms/step - loss: 1.3265 - accuracy: 0.4661 - val_loss: 1.4501 - val_accuracy: 0.4410\n",
      "Epoch 148/250\n",
      "142/142 [==============================] - 4s 25ms/step - loss: 1.3374 - accuracy: 0.4592 - val_loss: 1.4527 - val_accuracy: 0.4421\n",
      "Epoch 149/250\n",
      "142/142 [==============================] - 3s 25ms/step - loss: 1.3309 - accuracy: 0.4626 - val_loss: 1.4546 - val_accuracy: 0.4400\n",
      "Epoch 150/250\n",
      "142/142 [==============================] - 3s 23ms/step - loss: 1.3244 - accuracy: 0.4675 - val_loss: 1.4658 - val_accuracy: 0.4342\n",
      "Epoch 151/250\n",
      "142/142 [==============================] - 3s 23ms/step - loss: 1.3326 - accuracy: 0.4640 - val_loss: 1.5038 - val_accuracy: 0.4182\n",
      "Epoch 152/250\n",
      "142/142 [==============================] - 3s 24ms/step - loss: 1.3266 - accuracy: 0.4637 - val_loss: 1.4718 - val_accuracy: 0.4328\n",
      "Epoch 153/250\n",
      "142/142 [==============================] - 3s 24ms/step - loss: 1.3255 - accuracy: 0.4638 - val_loss: 1.4464 - val_accuracy: 0.4457\n",
      "Epoch 154/250\n",
      "142/142 [==============================] - 3s 24ms/step - loss: 1.3233 - accuracy: 0.4652 - val_loss: 1.4600 - val_accuracy: 0.4354\n",
      "Epoch 155/250\n",
      "142/142 [==============================] - ETA: 0s - loss: 1.3233 - accuracy: 0.4633\n",
      "Epoch 00155: ReduceLROnPlateau reducing learning rate to 8.999999772640876e-05.\n",
      "142/142 [==============================] - 3s 24ms/step - loss: 1.3233 - accuracy: 0.4633 - val_loss: 1.4531 - val_accuracy: 0.4364\n",
      "Epoch 156/250\n",
      "142/142 [==============================] - 4s 26ms/step - loss: 1.3186 - accuracy: 0.4689 - val_loss: 1.4611 - val_accuracy: 0.4355\n",
      "Epoch 157/250\n",
      "142/142 [==============================] - 4s 26ms/step - loss: 1.3136 - accuracy: 0.4704 - val_loss: 1.4587 - val_accuracy: 0.4364\n",
      "Epoch 158/250\n",
      "142/142 [==============================] - 3s 23ms/step - loss: 1.3222 - accuracy: 0.4693 - val_loss: 1.4594 - val_accuracy: 0.4359\n",
      "Epoch 159/250\n",
      "142/142 [==============================] - 3s 23ms/step - loss: 1.3090 - accuracy: 0.4675 - val_loss: 1.4539 - val_accuracy: 0.4453\n",
      "Epoch 160/250\n",
      "142/142 [==============================] - 3s 23ms/step - loss: 1.3196 - accuracy: 0.4657 - val_loss: 1.4576 - val_accuracy: 0.4379\n",
      "Epoch 161/250\n",
      "142/142 [==============================] - 3s 23ms/step - loss: 1.3047 - accuracy: 0.4718 - val_loss: 1.4620 - val_accuracy: 0.4355\n",
      "Epoch 162/250\n"
     ]
    },
    {
     "name": "stdout",
     "output_type": "stream",
     "text": [
      "142/142 [==============================] - 3s 24ms/step - loss: 1.3088 - accuracy: 0.4667 - val_loss: 1.4558 - val_accuracy: 0.4400\n",
      "Epoch 163/250\n",
      "142/142 [==============================] - 3s 23ms/step - loss: 1.3110 - accuracy: 0.4705 - val_loss: 1.4663 - val_accuracy: 0.4361\n",
      "Epoch 164/250\n",
      "142/142 [==============================] - 3s 24ms/step - loss: 1.3163 - accuracy: 0.4672 - val_loss: 1.4575 - val_accuracy: 0.4395\n",
      "Epoch 165/250\n",
      "142/142 [==============================] - 4s 25ms/step - loss: 1.3060 - accuracy: 0.4702 - val_loss: 1.4779 - val_accuracy: 0.4293\n",
      "Epoch 166/250\n",
      "142/142 [==============================] - 4s 25ms/step - loss: 1.3116 - accuracy: 0.4701 - val_loss: 1.4589 - val_accuracy: 0.4369\n",
      "Epoch 167/250\n",
      "142/142 [==============================] - 3s 24ms/step - loss: 1.3041 - accuracy: 0.4705 - val_loss: 1.4400 - val_accuracy: 0.4467\n",
      "Epoch 168/250\n",
      "142/142 [==============================] - 3s 24ms/step - loss: 1.3005 - accuracy: 0.4794 - val_loss: 1.4540 - val_accuracy: 0.4417\n",
      "Epoch 169/250\n",
      "142/142 [==============================] - 3s 23ms/step - loss: 1.2974 - accuracy: 0.4737 - val_loss: 1.4580 - val_accuracy: 0.4375\n",
      "Epoch 170/250\n",
      "142/142 [==============================] - 3s 23ms/step - loss: 1.2971 - accuracy: 0.4706 - val_loss: 1.4740 - val_accuracy: 0.4316\n",
      "Epoch 171/250\n",
      "142/142 [==============================] - 3s 23ms/step - loss: 1.2966 - accuracy: 0.4721 - val_loss: 1.4608 - val_accuracy: 0.4403\n",
      "Epoch 172/250\n",
      "142/142 [==============================] - 3s 24ms/step - loss: 1.2971 - accuracy: 0.4719 - val_loss: 1.4605 - val_accuracy: 0.4405\n",
      "Epoch 173/250\n",
      "142/142 [==============================] - 3s 24ms/step - loss: 1.2968 - accuracy: 0.4787 - val_loss: 1.4616 - val_accuracy: 0.4404\n",
      "Epoch 174/250\n",
      "142/142 [==============================] - 3s 24ms/step - loss: 1.2932 - accuracy: 0.4789 - val_loss: 1.4794 - val_accuracy: 0.4313\n",
      "Epoch 175/250\n",
      "142/142 [==============================] - 3s 24ms/step - loss: 1.2943 - accuracy: 0.4732 - val_loss: 1.4690 - val_accuracy: 0.4391\n",
      "Epoch 176/250\n",
      "142/142 [==============================] - 3s 23ms/step - loss: 1.2898 - accuracy: 0.4756 - val_loss: 1.4796 - val_accuracy: 0.4299\n",
      "Epoch 177/250\n",
      "142/142 [==============================] - 3s 24ms/step - loss: 1.2885 - accuracy: 0.4778 - val_loss: 1.4765 - val_accuracy: 0.4341\n",
      "Epoch 178/250\n",
      "141/142 [============================>.] - ETA: 0s - loss: 1.2887 - accuracy: 0.4736\n",
      "Epoch 00178: ReduceLROnPlateau reducing learning rate to 8.100000122794882e-05.\n",
      "142/142 [==============================] - 3s 23ms/step - loss: 1.2888 - accuracy: 0.4736 - val_loss: 1.4717 - val_accuracy: 0.4325\n",
      "Epoch 179/250\n",
      "142/142 [==============================] - 3s 24ms/step - loss: 1.2911 - accuracy: 0.4740 - val_loss: 1.4838 - val_accuracy: 0.4293\n",
      "Epoch 180/250\n",
      "142/142 [==============================] - 3s 24ms/step - loss: 1.2906 - accuracy: 0.4749 - val_loss: 1.4671 - val_accuracy: 0.4338\n",
      "Epoch 181/250\n",
      "142/142 [==============================] - 4s 26ms/step - loss: 1.2856 - accuracy: 0.4794 - val_loss: 1.4614 - val_accuracy: 0.4385\n",
      "Epoch 182/250\n",
      "142/142 [==============================] - 4s 25ms/step - loss: 1.2794 - accuracy: 0.4754 - val_loss: 1.4782 - val_accuracy: 0.4319\n",
      "Epoch 183/250\n",
      "142/142 [==============================] - 3s 23ms/step - loss: 1.2801 - accuracy: 0.4777 - val_loss: 1.4685 - val_accuracy: 0.4378\n",
      "Epoch 184/250\n",
      "142/142 [==============================] - 3s 23ms/step - loss: 1.2804 - accuracy: 0.4750 - val_loss: 1.4664 - val_accuracy: 0.4371\n",
      "Epoch 185/250\n",
      "142/142 [==============================] - 3s 24ms/step - loss: 1.2811 - accuracy: 0.4771 - val_loss: 1.4774 - val_accuracy: 0.4290\n",
      "Epoch 186/250\n",
      "142/142 [==============================] - 4s 25ms/step - loss: 1.2802 - accuracy: 0.4787 - val_loss: 1.4834 - val_accuracy: 0.4328\n",
      "Epoch 187/250\n",
      "142/142 [==============================] - 4s 25ms/step - loss: 1.2792 - accuracy: 0.4753 - val_loss: 1.4743 - val_accuracy: 0.4346\n",
      "Epoch 188/250\n",
      "142/142 [==============================] - 3s 24ms/step - loss: 1.2683 - accuracy: 0.4818 - val_loss: 1.4383 - val_accuracy: 0.4483\n",
      "Epoch 189/250\n",
      "142/142 [==============================] - 3s 24ms/step - loss: 1.2814 - accuracy: 0.4840 - val_loss: 1.4836 - val_accuracy: 0.4315\n",
      "Epoch 190/250\n",
      "142/142 [==============================] - 4s 26ms/step - loss: 1.2735 - accuracy: 0.4816 - val_loss: 1.5188 - val_accuracy: 0.4141\n",
      "Epoch 191/250\n",
      "142/142 [==============================] - 3s 24ms/step - loss: 1.2781 - accuracy: 0.4784 - val_loss: 1.4715 - val_accuracy: 0.4331\n",
      "Epoch 192/250\n",
      "142/142 [==============================] - 3s 24ms/step - loss: 1.2730 - accuracy: 0.4775 - val_loss: 1.4655 - val_accuracy: 0.4387\n",
      "Epoch 193/250\n",
      "142/142 [==============================] - 3s 22ms/step - loss: 1.2712 - accuracy: 0.4814 - val_loss: 1.4972 - val_accuracy: 0.4263\n",
      "Epoch 194/250\n",
      "142/142 [==============================] - 2s 16ms/step - loss: 1.2684 - accuracy: 0.4804 - val_loss: 1.4439 - val_accuracy: 0.4454\n",
      "Epoch 195/250\n",
      "142/142 [==============================] - 2s 16ms/step - loss: 1.2701 - accuracy: 0.4845 - val_loss: 1.4594 - val_accuracy: 0.4390\n",
      "Epoch 196/250\n",
      "142/142 [==============================] - 2s 15ms/step - loss: 1.2665 - accuracy: 0.4833 - val_loss: 1.4635 - val_accuracy: 0.4397\n",
      "Epoch 197/250\n",
      "142/142 [==============================] - 2s 15ms/step - loss: 1.2617 - accuracy: 0.4796 - val_loss: 1.4548 - val_accuracy: 0.4424\n",
      "Epoch 198/250\n",
      "142/142 [==============================] - 2s 16ms/step - loss: 1.2622 - accuracy: 0.4864 - val_loss: 1.4917 - val_accuracy: 0.4274\n",
      "Epoch 199/250\n",
      "142/142 [==============================] - 2s 16ms/step - loss: 1.2664 - accuracy: 0.4803 - val_loss: 1.4696 - val_accuracy: 0.4352\n",
      "Epoch 200/250\n",
      "142/142 [==============================] - 2s 15ms/step - loss: 1.2579 - accuracy: 0.4809 - val_loss: 1.4664 - val_accuracy: 0.4356\n",
      "Epoch 201/250\n",
      "142/142 [==============================] - 2s 16ms/step - loss: 1.2627 - accuracy: 0.4811 - val_loss: 1.4582 - val_accuracy: 0.4392\n",
      "Epoch 202/250\n",
      "142/142 [==============================] - 2s 16ms/step - loss: 1.2654 - accuracy: 0.4804 - val_loss: 1.4798 - val_accuracy: 0.4306\n",
      "Epoch 203/250\n",
      "142/142 [==============================] - 2s 16ms/step - loss: 1.2558 - accuracy: 0.4872 - val_loss: 1.4542 - val_accuracy: 0.4449\n",
      "Epoch 204/250\n",
      "142/142 [==============================] - 3s 18ms/step - loss: 1.2564 - accuracy: 0.4853 - val_loss: 1.4529 - val_accuracy: 0.4443\n",
      "Epoch 205/250\n",
      "142/142 [==============================] - 3s 18ms/step - loss: 1.2635 - accuracy: 0.4792 - val_loss: 1.4745 - val_accuracy: 0.4368\n",
      "Epoch 206/250\n",
      "142/142 [==============================] - 2s 17ms/step - loss: 1.2596 - accuracy: 0.4855 - val_loss: 1.4780 - val_accuracy: 0.4328\n",
      "Epoch 207/250\n",
      "142/142 [==============================] - 2s 16ms/step - loss: 1.2592 - accuracy: 0.4848 - val_loss: 1.4831 - val_accuracy: 0.4319\n",
      "Epoch 208/250\n",
      "142/142 [==============================] - 3s 18ms/step - loss: 1.2513 - accuracy: 0.4839 - val_loss: 1.4793 - val_accuracy: 0.4349\n",
      "Epoch 209/250\n",
      "142/142 [==============================] - 3s 19ms/step - loss: 1.2529 - accuracy: 0.4882 - val_loss: 1.4740 - val_accuracy: 0.4348\n",
      "Epoch 210/250\n",
      "142/142 [==============================] - 3s 19ms/step - loss: 1.2518 - accuracy: 0.4868 - val_loss: 1.4709 - val_accuracy: 0.4378\n",
      "Epoch 211/250\n",
      "142/142 [==============================] - 3s 19ms/step - loss: 1.2510 - accuracy: 0.4891 - val_loss: 1.4576 - val_accuracy: 0.4421\n",
      "Epoch 212/250\n",
      "142/142 [==============================] - 3s 20ms/step - loss: 1.2492 - accuracy: 0.4846 - val_loss: 1.4817 - val_accuracy: 0.4320\n",
      "Epoch 213/250\n",
      "142/142 [==============================] - 2s 16ms/step - loss: 1.2545 - accuracy: 0.4815 - val_loss: 1.4911 - val_accuracy: 0.4315\n",
      "Epoch 214/250\n",
      "142/142 [==============================] - 2s 16ms/step - loss: 1.2463 - accuracy: 0.4918 - val_loss: 1.4994 - val_accuracy: 0.4217\n",
      "Epoch 215/250\n",
      "142/142 [==============================] - 2s 15ms/step - loss: 1.2434 - accuracy: 0.4892 - val_loss: 1.5207 - val_accuracy: 0.4145\n",
      "Epoch 216/250\n",
      "142/142 [==============================] - 2s 16ms/step - loss: 1.2387 - accuracy: 0.4870 - val_loss: 1.5126 - val_accuracy: 0.4189\n",
      "Epoch 217/250\n"
     ]
    },
    {
     "name": "stdout",
     "output_type": "stream",
     "text": [
      "142/142 [==============================] - 2s 16ms/step - loss: 1.2447 - accuracy: 0.4838 - val_loss: 1.4684 - val_accuracy: 0.4411\n",
      "Epoch 218/250\n",
      "142/142 [==============================] - 2s 16ms/step - loss: 1.2496 - accuracy: 0.4882 - val_loss: 1.4902 - val_accuracy: 0.4312\n",
      "Epoch 219/250\n",
      "142/142 [==============================] - 3s 19ms/step - loss: 1.2404 - accuracy: 0.4903 - val_loss: 1.4784 - val_accuracy: 0.4362\n",
      "Epoch 220/250\n",
      "142/142 [==============================] - 2s 17ms/step - loss: 1.2369 - accuracy: 0.4906 - val_loss: 1.4753 - val_accuracy: 0.4349\n",
      "Epoch 221/250\n",
      "142/142 [==============================] - 2s 15ms/step - loss: 1.2269 - accuracy: 0.4932 - val_loss: 1.4940 - val_accuracy: 0.4282\n",
      "Epoch 222/250\n",
      "142/142 [==============================] - 2s 16ms/step - loss: 1.2384 - accuracy: 0.4893 - val_loss: 1.4982 - val_accuracy: 0.4280\n",
      "Epoch 223/250\n",
      "142/142 [==============================] - 2s 16ms/step - loss: 1.2341 - accuracy: 0.4899 - val_loss: 1.4729 - val_accuracy: 0.4377\n",
      "Epoch 224/250\n",
      "142/142 [==============================] - 2s 17ms/step - loss: 1.2346 - accuracy: 0.4889 - val_loss: 1.4949 - val_accuracy: 0.4273\n",
      "Epoch 225/250\n",
      "142/142 [==============================] - 2s 18ms/step - loss: 1.2346 - accuracy: 0.4922 - val_loss: 1.4636 - val_accuracy: 0.4433\n",
      "Epoch 226/250\n",
      "142/142 [==============================] - 2s 15ms/step - loss: 1.2343 - accuracy: 0.4875 - val_loss: 1.5027 - val_accuracy: 0.4274\n",
      "Epoch 227/250\n",
      "142/142 [==============================] - 2s 16ms/step - loss: 1.2308 - accuracy: 0.4926 - val_loss: 1.4583 - val_accuracy: 0.4467\n",
      "Epoch 228/250\n",
      "142/142 [==============================] - 2s 16ms/step - loss: 1.2355 - accuracy: 0.4887 - val_loss: 1.4734 - val_accuracy: 0.4403\n",
      "Epoch 229/250\n",
      "142/142 [==============================] - 2s 16ms/step - loss: 1.2345 - accuracy: 0.4909 - val_loss: 1.4813 - val_accuracy: 0.4374\n",
      "Epoch 230/250\n",
      "142/142 [==============================] - 2s 15ms/step - loss: 1.2305 - accuracy: 0.4887 - val_loss: 1.5031 - val_accuracy: 0.4289\n",
      "Epoch 231/250\n",
      "138/142 [============================>.] - ETA: 0s - loss: 1.2197 - accuracy: 0.4932\n",
      "Epoch 00231: ReduceLROnPlateau reducing learning rate to 7.289999848580919e-05.\n",
      "142/142 [==============================] - 2s 16ms/step - loss: 1.2223 - accuracy: 0.4921 - val_loss: 1.4739 - val_accuracy: 0.4418\n",
      "Epoch 232/250\n",
      "142/142 [==============================] - 2s 16ms/step - loss: 1.2327 - accuracy: 0.4905 - val_loss: 1.4885 - val_accuracy: 0.4323\n",
      "Epoch 233/250\n",
      "142/142 [==============================] - 2s 16ms/step - loss: 1.2250 - accuracy: 0.4932 - val_loss: 1.5154 - val_accuracy: 0.4212\n",
      "Epoch 234/250\n",
      "142/142 [==============================] - 2s 16ms/step - loss: 1.2250 - accuracy: 0.4896 - val_loss: 1.4897 - val_accuracy: 0.4351\n",
      "Epoch 235/250\n",
      "142/142 [==============================] - 2s 16ms/step - loss: 1.2229 - accuracy: 0.4899 - val_loss: 1.4798 - val_accuracy: 0.4382\n",
      "Epoch 236/250\n",
      "142/142 [==============================] - 2s 16ms/step - loss: 1.2201 - accuracy: 0.4956 - val_loss: 1.4905 - val_accuracy: 0.4326\n",
      "Epoch 237/250\n",
      "142/142 [==============================] - 2s 16ms/step - loss: 1.2173 - accuracy: 0.4955 - val_loss: 1.4704 - val_accuracy: 0.4434\n",
      "Epoch 238/250\n",
      "142/142 [==============================] - 2s 15ms/step - loss: 1.2146 - accuracy: 0.4940 - val_loss: 1.4806 - val_accuracy: 0.4379\n",
      "Epoch 239/250\n",
      "142/142 [==============================] - 2s 16ms/step - loss: 1.2227 - accuracy: 0.4943 - val_loss: 1.4854 - val_accuracy: 0.4367\n",
      "Epoch 240/250\n",
      "142/142 [==============================] - 2s 16ms/step - loss: 1.2205 - accuracy: 0.4883 - val_loss: 1.4745 - val_accuracy: 0.4403\n",
      "Epoch 241/250\n",
      "142/142 [==============================] - 2s 16ms/step - loss: 1.2170 - accuracy: 0.4904 - val_loss: 1.4818 - val_accuracy: 0.4394\n",
      "Epoch 242/250\n",
      "142/142 [==============================] - 2s 15ms/step - loss: 1.2128 - accuracy: 0.4984 - val_loss: 1.4646 - val_accuracy: 0.4456\n",
      "Epoch 243/250\n",
      "142/142 [==============================] - 2s 16ms/step - loss: 1.2160 - accuracy: 0.4941 - val_loss: 1.4842 - val_accuracy: 0.4359\n",
      "Epoch 244/250\n",
      "142/142 [==============================] - 2s 16ms/step - loss: 1.2101 - accuracy: 0.4950 - val_loss: 1.4963 - val_accuracy: 0.4296\n",
      "Epoch 245/250\n",
      "142/142 [==============================] - 2s 16ms/step - loss: 1.2109 - accuracy: 0.4918 - val_loss: 1.4875 - val_accuracy: 0.4349\n",
      "Epoch 246/250\n",
      "142/142 [==============================] - 2s 16ms/step - loss: 1.2170 - accuracy: 0.4918 - val_loss: 1.5083 - val_accuracy: 0.4228\n",
      "Epoch 247/250\n",
      "142/142 [==============================] - 2s 16ms/step - loss: 1.2118 - accuracy: 0.4950 - val_loss: 1.4747 - val_accuracy: 0.4387\n",
      "Epoch 248/250\n",
      "142/142 [==============================] - 2s 16ms/step - loss: 1.2093 - accuracy: 0.5004 - val_loss: 1.4853 - val_accuracy: 0.4382\n",
      "Epoch 249/250\n",
      "142/142 [==============================] - 3s 18ms/step - loss: 1.2060 - accuracy: 0.4970 - val_loss: 1.4965 - val_accuracy: 0.4309\n",
      "Epoch 250/250\n",
      "142/142 [==============================] - 4s 28ms/step - loss: 1.2088 - accuracy: 0.4955 - val_loss: 1.5094 - val_accuracy: 0.4233\n"
     ]
    }
   ],
   "source": [
    "model = Sequential()\n",
    "model.add(Embedding(num_words, embedding_dim, weights=[embedding_matrix], input_length=maxlen, trainable=False))\n",
    "if method == \"simple\":\n",
    "    pass\n",
    "    model.add(Dense(32))\n",
    "    model.add(LeakyReLU(alpha=0.2))\n",
    "    model.add(Dense(14))\n",
    "    model.add(LeakyReLU(alpha=0.2))\n",
    "    model.add(Flatten())\n",
    "if method == \"conv\":\n",
    "    pass\n",
    "    model.add(Conv1D(64, (3)))\n",
    "    model.add(Conv1D(32, (3)))\n",
    "    model.add(BatchNormalization())\n",
    "    model.add(Dense(50))\n",
    "    model.add(Dropout(0.5))\n",
    "    model.add(Flatten())\n",
    "if method == \"lstm\":\n",
    "    pass\n",
    "    model.add(Bidirectional(LSTM(16)))\n",
    "    model.add(Dropout(0.5))\n",
    "\n",
    "model.add(Dense(6, activation='softmax'))\n",
    "\n",
    "#regularizer backup\n",
    "# model.add(Dense(6, activation='softmax', kernel_regularizer=l2(0.01), bias_regularizer=l2(0.01)))\n",
    "# model.add(Conv1D(32, (3), kernel_regularizer=l2(0.01), bias_regularizer=l2(0.01)))\n",
    "# model.add(Bidirectional(LSTM(32)))#, kernel_regularizer=l2(0.01), recurrent_regularizer=l2(0.01), bias_regularizer=l2(0.01))))\n",
    "\n",
    "#optimizer = Adam(learning_rate=0.0005)\n",
    "optimizer = RMSprop(learning_rate=0.0001)\n",
    "model.compile(optimizer=optimizer, loss='categorical_crossentropy', metrics=['accuracy'])\n",
    "\n",
    "print(model.summary())\n",
    "\n",
    "history = model.fit(x_train,\n",
    "                    y_train,\n",
    "                    epochs=250,\n",
    "                    batch_size=100,\n",
    "                    validation_data=(x_test,y_test),\n",
    "                    class_weight=class_weights,\n",
    "                    callbacks=[\n",
    "                        ReduceLROnPlateau(monitor='accuracy',\n",
    "                                          patience=10,\n",
    "                                          verbose=1,\n",
    "                                          factor=0.9,\n",
    "                                          min_lr=0.00001)\n",
    "                    ])"
   ]
  },
  {
   "cell_type": "code",
   "execution_count": 25,
   "metadata": {},
   "outputs": [],
   "source": [
    "def nn_predict_single(text):\n",
    "    seq = tokenizer.texts_to_sequences([text])\n",
    "    padded_seq = sequence.pad_sequences(seq, maxlen, padding=\"post\")\n",
    "    model_output = model.predict(padded_seq)\n",
    "    return np.argmax(model_output)\n",
    "def nn_predict_many(texts):\n",
    "    lst = []\n",
    "    for row in texts:\n",
    "        seq = tokenizer.texts_to_sequences([row])\n",
    "        padded_seq = sequence.pad_sequences(seq, maxlen, padding=\"post\")\n",
    "        lst.append(padded_seq)\n",
    "    model_output = model.predict(np.vstack(lst))\n",
    "    return np.argmax(model_output, axis=1)"
   ]
  },
  {
   "cell_type": "markdown",
   "metadata": {},
   "source": [
    "# history plot"
   ]
  },
  {
   "cell_type": "code",
   "execution_count": 26,
   "metadata": {},
   "outputs": [
    {
     "data": {
      "image/png": "[encoded data removed]",
      "text/plain": [
       "<Figure size 432x288 with 1 Axes>"
      ]
     },
     "metadata": {
      "needs_background": "light"
     },
     "output_type": "display_data"
    },
    {
     "data": {
      "image/png": "[encoded data removed]",
      "text/plain": [
       "<Figure size 432x288 with 1 Axes>"
      ]
     },
     "metadata": {
      "needs_background": "light"
     },
     "output_type": "display_data"
    }
   ],
   "source": [
    "import matplotlib.pyplot as plt\n",
    "\n",
    "# summarize history for accuracy\n",
    "plt.plot(history.history['accuracy'])\n",
    "plt.plot(history.history['val_accuracy'])\n",
    "plt.title('model accuracy')\n",
    "plt.ylabel('accuracy')\n",
    "plt.xlabel('epoch')\n",
    "plt.legend(['train', 'val'], loc='upper left')\n",
    "plt.savefig(method + \"_accuracy.png\", transparent=False, pad_inches=0.1,  dpi=500)\n",
    "plt.show()\n",
    "# summarize history for loss\n",
    "plt.plot(history.history['loss'])\n",
    "plt.plot(history.history['val_loss'])\n",
    "plt.title('model loss')\n",
    "plt.ylabel('loss')\n",
    "plt.xlabel('epoch')\n",
    "plt.legend(['train', 'val'], loc='upper left')\n",
    "plt.savefig(method + \"_loss.png\", transparent=False, pad_inches=0.1,  dpi=500)\n",
    "plt.show()"
   ]
  },
  {
   "cell_type": "markdown",
   "metadata": {},
   "source": [
    "# scores"
   ]
  },
  {
   "cell_type": "code",
   "execution_count": 27,
   "metadata": {},
   "outputs": [
    {
     "name": "stderr",
     "output_type": "stream",
     "text": [
      "<ipython-input-27-38e86787f1bc>:9: SettingWithCopyWarning: \n",
      "A value is trying to be set on a copy of a slice from a DataFrame.\n",
      "Try using .loc[row_indexer,col_indexer] = value instead\n",
      "\n",
      "See the caveats in the documentation: https://pandas.pydata.org/pandas-docs/stable/user_guide/indexing.html#returning-a-view-versus-a-copy\n",
      "  data_source['text'] = data_source['text'].apply(getLemmText)\n",
      "<ipython-input-27-38e86787f1bc>:10: SettingWithCopyWarning: \n",
      "A value is trying to be set on a copy of a slice from a DataFrame.\n",
      "Try using .loc[row_indexer,col_indexer] = value instead\n",
      "\n",
      "See the caveats in the documentation: https://pandas.pydata.org/pandas-docs/stable/user_guide/indexing.html#returning-a-view-versus-a-copy\n",
      "  data_source['text'] = data_source['text'].apply(getStemmText)\n"
     ]
    },
    {
     "name": "stdout",
     "output_type": "stream",
     "text": [
      "Distribution of test-classes: \n",
      "{(1.0, 0.0, 0.0, 0.0, 0.0, 0.0): 9220, (0.0, 1.0, 0.0, 0.0, 0.0, 0.0): 1421, (0.0, 0.0, 1.0, 0.0, 0.0, 0.0): 5123, (0.0, 0.0, 0.0, 1.0, 0.0, 0.0): 179, (0.0, 0.0, 0.0, 0.0, 1.0, 0.0): 8430, (0.0, 0.0, 0.0, 0.0, 0.0, 1.0): 2177}\n",
      "[3 0 2 ... 0 4 1]\n"
     ]
    }
   ],
   "source": [
    "from collections import Counter\n",
    "\n",
    "correct = 0\n",
    "\n",
    "#data_source = df\n",
    "#data_source = df.loc[(df['source'] == \"tec\")]\n",
    "data_source = df.loc[(df['source'] == \"crowdflower\")]\n",
    "\n",
    "data_source['text'] = data_source['text'].apply(getLemmText)\n",
    "data_source['text'] = data_source['text'].apply(getStemmText)\n",
    "\n",
    "val_texts = data_source['text']\n",
    "y_true = data_source.loc[:, (data_source.columns != 'text') & (data_source.columns != 'source')].values\n",
    "\n",
    "print(\"Distribution of test-classes: \")\n",
    "_, idx, count = np.unique(y_true.argmax(axis=1), return_counts=1, return_index=1)\n",
    "print({tuple(i):j for i,j in zip(y_true[idx],count)})\n",
    "\n",
    "y_pred = []\n",
    "# convert one-hot to sequence array\n",
    "y_true = y_true.argmax(axis=1)\n",
    "\n",
    "predictions = nn_predict_many(val_texts)\n",
    "print(predictions)\n",
    "for i in range(0,len(val_texts)):\n",
    "    y_pred.append(predictions[i])\n",
    "    if predictions[i] == y_true[i]:\n",
    "        correct += 1\n",
    "    #print(predictions[i] == y_true[i], \"pred:\", predictions[i], \"true:\", y_true[i], \"text\", data_source['text'].iloc[i])\n",
    "y_pred = np.array(y_pred)"
   ]
  },
  {
   "cell_type": "code",
   "execution_count": 28,
   "metadata": {},
   "outputs": [],
   "source": [
    "# convert to strings\n",
    "emotions = ['joy', 'anger', 'sadness', 'disgust', 'fear', 'surprise']\n",
    "y_true = [emotions[x] for x in y_true]\n",
    "y_pred = [emotions[x] for x in y_pred]"
   ]
  },
  {
   "cell_type": "code",
   "execution_count": 29,
   "metadata": {},
   "outputs": [
    {
     "name": "stdout",
     "output_type": "stream",
     "text": [
      "Accuracy:\n",
      "0.2374764595103578\n",
      "F1 score micro\n",
      "0.2374764595103578\n",
      "F1 score macro\n",
      "0.18515844952355423\n",
      "              precision    recall  f1-score   support\n",
      "\n",
      "       anger       0.11      0.36      0.17      1421\n",
      "     disgust       0.01      0.13      0.01       179\n",
      "        fear       0.36      0.09      0.14      8430\n",
      "         joy       0.50      0.34      0.40      9220\n",
      "     sadness       0.24      0.31      0.27      5123\n",
      "    surprise       0.10      0.14      0.12      2177\n",
      "\n",
      "    accuracy                           0.24     26550\n",
      "   macro avg       0.22      0.23      0.19     26550\n",
      "weighted avg       0.35      0.24      0.26     26550\n",
      "\n"
     ]
    }
   ],
   "source": [
    "from sklearn.metrics import classification_report\n",
    "from sklearn.metrics import f1_score\n",
    "\n",
    "print(\"Accuracy:\")\n",
    "print(correct/len(val_texts))\n",
    "print(\"F1 score micro\")\n",
    "print(f1_score(y_true, y_pred, average=\"micro\"))\n",
    "print(\"F1 score macro\")\n",
    "print(f1_score(y_true, y_pred, average=\"macro\"))\n",
    "\n",
    "# Look at class wise score\n",
    "print(classification_report(y_true, y_pred))\n",
    "\n",
    "result = \"\"\n",
    "result += \"Accuracy:\" + str(correct/len(val_texts)) + \"\\n\"\n",
    "result += \"F1 score micro:\" + str(f1_score(y_true, y_pred, average=\"micro\")) + \"\\n\"\n",
    "result += \"F1 score macro:\" + str(f1_score(y_true, y_pred, average=\"macro\")) + \"\\n\"\n",
    "result += classification_report(y_true, y_pred) + \"\\n\"\n",
    "with open(method + \"_result.txt\", \"w\") as text_file:\n",
    "    text_file.write(result)"
   ]
  },
  {
   "cell_type": "markdown",
   "metadata": {},
   "source": [
    "# confusion matrix"
   ]
  },
  {
   "cell_type": "code",
   "execution_count": 30,
   "metadata": {},
   "outputs": [
    {
     "name": "stderr",
     "output_type": "stream",
     "text": [
      "<ipython-input-30-f472bd7ae910>:13: UserWarning: FixedFormatter should only be used together with FixedLocator\n",
      "  ax.set_xticklabels([\"\"]+tags)\n",
      "<ipython-input-30-f472bd7ae910>:14: UserWarning: FixedFormatter should only be used together with FixedLocator\n",
      "  ax.set_yticklabels([\"\"]+tags)\n"
     ]
    },
    {
     "data": {
      "text/plain": [
       "<Figure size 432x288 with 0 Axes>"
      ]
     },
     "metadata": {},
     "output_type": "display_data"
    },
    {
     "data": {
      "image/png": "[encoded data removed]",
      "text/plain": [
       "<Figure size 432x288 with 2 Axes>"
      ]
     },
     "metadata": {
      "needs_background": "light"
     },
     "output_type": "display_data"
    }
   ],
   "source": [
    "import matplotlib.pyplot as plt\n",
    "from sklearn.metrics import confusion_matrix\n",
    "\n",
    "tags = ['joy', 'anger', 'sadness', 'disgust', 'fear', 'surprise']\n",
    "\n",
    "cm = confusion_matrix(y_true,y_pred, labels = tags)\n",
    "\n",
    "def plot_confusion_matrix(cm, title='Confusion matrix', cmap=plt.cm.Blues):\n",
    "    fig, ax = plt.subplots()\n",
    "    im = ax.matshow(cm, cmap=cmap)\n",
    "    fig.colorbar(im)\n",
    "    plt.title(title)\n",
    "    ax.set_xticklabels([\"\"]+tags)\n",
    "    ax.set_yticklabels([\"\"]+tags)\n",
    "    ax.set_xlabel(\"Predicted\")\n",
    "    ax.set_ylabel(\"Actual\")\n",
    "    for (i, j), z in np.ndenumerate(cm):\n",
    "        ax.text(j, i, z, ha='center', va='center')\n",
    "    plt.savefig(method + \"_conf.png\", bbox_inches='tight', transparent=False, pad_inches=0.1,  dpi=500)\n",
    "    plt.show()\n",
    "\n",
    "# Compute confusion matrix\n",
    "np.set_printoptions(precision=2)\n",
    "plt.figure()\n",
    "plot_confusion_matrix(cm)"
   ]
  },
  {
   "cell_type": "code",
   "execution_count": null,
   "metadata": {},
   "outputs": [],
   "source": []
  }
 ],
 "metadata": {
  "kernelspec": {
   "display_name": "Python 3",
   "language": "python",
   "name": "python3"
  },
  "language_info": {
   "codemirror_mode": {
    "name": "ipython",
    "version": 3
   },
   "file_extension": ".py",
   "mimetype": "text/x-python",
   "name": "python",
   "nbconvert_exporter": "python",
   "pygments_lexer": "ipython3",
   "version": "3.8.5"
  }
 },
 "nbformat": 4,
 "nbformat_minor": 4
}
