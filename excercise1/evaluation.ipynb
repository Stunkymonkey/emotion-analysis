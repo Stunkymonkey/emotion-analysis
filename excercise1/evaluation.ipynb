{
 "cells": [
  {
   "cell_type": "markdown",
   "metadata": {},
   "source": [
    "# Read Data"
   ]
  },
  {
   "cell_type": "code",
   "execution_count": 1,
   "metadata": {},
   "outputs": [],
   "source": [
    "import pandas as pd\n",
    "import sklearn\n",
    "import numpy as np\n",
    "from nltk import agreement"
   ]
  },
  {
   "cell_type": "code",
   "execution_count": 2,
   "metadata": {},
   "outputs": [],
   "source": [
    "emotions = [\"joy\", \"sadness\", \"trust\", \"disgust\", \"fear\", \"anger\", \"surprise\", \"anticipation\"]\n",
    "anotator = [\"Felix\", \"Charlotta\", \"Max\"]"
   ]
  },
  {
   "cell_type": "code",
   "execution_count": 3,
   "metadata": {},
   "outputs": [],
   "source": [
    "df = pd.read_csv(\"EA_assignm1_annotation-environment_combined - Tabellenblatt1.csv\")"
   ]
  },
  {
   "cell_type": "code",
   "execution_count": 4,
   "metadata": {},
   "outputs": [],
   "source": [
    "df = df.drop(columns=['ID', 'comment', 'Unnamed: 26', 'Unnamed: 27'])\n",
    "# df[\"ID\"] = df[\"ID\"].astype(int)\n",
    "df = df.rename(columns={\"joy\": \"joy-Felix\", \"Unnamed: 2\": \"joy-Charlotta\", \"Unnamed: 3\": \"joy-Max\"})\n",
    "df = df.rename(columns={\"sadness\": \"sadness-Felix\", \"Unnamed: 5\": \"sadness-Charlotta\", \"Unnamed: 6\": \"sadness-Max\"})\n",
    "df = df.rename(columns={\"trust\": \"trust-Felix\", \"Unnamed: 8\": \"trust-Charlotta\", \"Unnamed: 9\": \"trust-Max\"})\n",
    "df = df.rename(columns={\"disgust\": \"disgust-Felix\", \"Unnamed: 11\": \"disgust-Charlotta\", \"Unnamed: 12\": \"disgust-Max\"})\n",
    "df = df.rename(columns={\"fear\": \"fear-Felix\", \"Unnamed: 14\": \"fear-Charlotta\", \"Unnamed: 15\": \"fear-Max\"})\n",
    "df = df.rename(columns={\"anger\": \"anger-Felix\", \"Unnamed: 17\": \"anger-Charlotta\", \"Unnamed: 18\": \"anger-Max\"})\n",
    "df = df.rename(columns={\"surprise\": \"surprise-Felix\", \"Unnamed: 20\": \"surprise-Charlotta\", \"Unnamed: 21\": \"surprise-Max\"})\n",
    "df = df.rename(columns={\"anticipation\": \"anticipation-Felix\", \"Unnamed: 23\": \"anticipation-Charlotta\", \"Unnamed: 24\": \"anticipation-Max\"})\n",
    "df = df.dropna()"
   ]
  },
  {
   "cell_type": "code",
   "execution_count": 5,
   "metadata": {},
   "outputs": [],
   "source": [
    "# df.columns"
   ]
  },
  {
   "cell_type": "markdown",
   "metadata": {},
   "source": [
    "# Kappa"
   ]
  },
  {
   "cell_type": "code",
   "execution_count": 6,
   "metadata": {},
   "outputs": [],
   "source": [
    "def equal_distance(label1, label2):\n",
    "    label1, label2 = int(label1), int(label2)\n",
    "    return 0.0 if label1 == label2 else 1.0\n",
    "\n",
    "def zero_other_distance(label1, label2):\n",
    "    label1, label2 = int(label1), int(label2)\n",
    "    if label1 > 0:\n",
    "        label1 = 1\n",
    "    else:\n",
    "        label1 = 0\n",
    "    if label2 > 0:\n",
    "        label2 = 1\n",
    "    else:\n",
    "        label2 = 0\n",
    "    return 0.0 if label1 == label2 else 1.0\n",
    "\n",
    "def one_split_two_distance(label1, label2):\n",
    "    label1, label2 = int(label1), int(label2)\n",
    "    if label1 > 1:\n",
    "        label1 = 1\n",
    "    else:\n",
    "        label1 = 0\n",
    "    if label2 > 1:\n",
    "        label2 = 1\n",
    "    else:\n",
    "        label2 = 0\n",
    "    return 0.0 if label1 == label2 else 1.0"
   ]
  },
  {
   "cell_type": "code",
   "execution_count": 7,
   "metadata": {},
   "outputs": [
    {
     "name": "stdout",
     "output_type": "stream",
     "text": [
      "Fleiss's Kappa: joy 0.7862468931234465\n",
      "Cohens's Kappa (Felix,Charlotta): joy 0.7588141025641025\n",
      "Cohens's Kappa (Felix,Max): joy 0.7261146496815286\n",
      "Cohens's Kappa (Charlotta,Max): joy 0.8845120859444942\n",
      "Fleiss's Kappa: sadness 0.7223567393058916\n",
      "Cohens's Kappa (Felix,Charlotta): sadness 0.7356557377049179\n",
      "Cohens's Kappa (Felix,Max): sadness 0.7427716849451645\n",
      "Cohens's Kappa (Charlotta,Max): sadness 0.6553106212424847\n",
      "Fleiss's Kappa: trust 0.7252396166134185\n",
      "Cohens's Kappa (Felix,Charlotta): trust 0.7881773399014778\n",
      "Cohens's Kappa (Felix,Max): trust 0.6734177215189873\n",
      "Cohens's Kappa (Charlotta,Max): trust 0.7105769230769231\n",
      "Fleiss's Kappa: disgust 0.8430656934306567\n",
      "Cohens's Kappa (Felix,Charlotta): disgust 0.7312500000000002\n",
      "Cohens's Kappa (Felix,Max): disgust 0.7976470588235296\n",
      "Cohens's Kappa (Charlotta,Max): disgust 1.0\n",
      "Fleiss's Kappa: fear 0.738203957382039\n",
      "Cohens's Kappa (Felix,Charlotta): fear 0.6518218623481786\n",
      "Cohens's Kappa (Felix,Max): fear 0.8237704918032784\n",
      "Cohens's Kappa (Charlotta,Max): fear 0.7409638554216861\n",
      "Fleiss's Kappa: anger 0.7697798929208806\n",
      "Cohens's Kappa (Felix,Charlotta): anger 0.7613320999074931\n",
      "Cohens's Kappa (Felix,Max): anger 0.7326820603907639\n",
      "Cohens's Kappa (Charlotta,Max): anger 0.8138528138528139\n",
      "Fleiss's Kappa: surprise 0.4079551249362571\n",
      "Cohens's Kappa (Felix,Charlotta): surprise 0.39571005917159763\n",
      "Cohens's Kappa (Felix,Max): surprise 0.2580392156862744\n",
      "Cohens's Kappa (Charlotta,Max): surprise 0.5683397683397684\n",
      "Fleiss's Kappa: anticipation 0.469135802469136\n",
      "Cohens's Kappa (Felix,Charlotta): anticipation 0.280060882800609\n",
      "Cohens's Kappa (Felix,Max): anticipation 0.5813630041724619\n",
      "Cohens's Kappa (Charlotta,Max): anticipation 0.5287671232876713\n"
     ]
    }
   ],
   "source": [
    "amount = len(df)\n",
    "for emotion in emotions:\n",
    "    formatted_codes = [[1,i,df[emotion +\"-Felix\"].iloc[i]] for i in range(amount)] + [[2,i,df[emotion +\"-Charlotta\"].iloc[i]] for i in range(amount)]  + [[3,i,df[emotion +\"-Max\"].iloc[i]] for i in range(amount)]\n",
    "    # data-input: (coder,item,label)\n",
    "    ratingtask = agreement.AnnotationTask(data=formatted_codes, distance=one_split_two_distance)\n",
    "\n",
    "    print('Fleiss\\'s Kappa:', emotion, ratingtask.multi_kappa())\n",
    "    print('Cohens\\'s Kappa (Felix,Charlotta):', emotion, ratingtask.kappa_pairwise(1,2))\n",
    "    print('Cohens\\'s Kappa (Felix,Max):', emotion, ratingtask.kappa_pairwise(1,3))\n",
    "    print('Cohens\\'s Kappa (Charlotta,Max):', emotion, ratingtask.kappa_pairwise(2,3))\n",
    "    #print('Krippendorff\\'s Alpha:', emotion, ratingtask.alpha())"
   ]
  },
  {
   "cell_type": "markdown",
   "metadata": {},
   "source": [
    "# Spearman"
   ]
  },
  {
   "cell_type": "code",
   "execution_count": 8,
   "metadata": {},
   "outputs": [],
   "source": [
    "from scipy import stats"
   ]
  },
  {
   "cell_type": "code",
   "execution_count": 9,
   "metadata": {},
   "outputs": [
    {
     "name": "stdout",
     "output_type": "stream",
     "text": [
      "Spearman correlation (Felix,Charlotta): joy SpearmanrResult(correlation=0.6780594144126224, pvalue=5.866845889020404e-07)\n",
      "Spearman correlation (Felix,Max): joy SpearmanrResult(correlation=0.61827125390394, pvalue=9.958152852955118e-06)\n",
      "Spearman correlation (Charlotta,Max): joy SpearmanrResult(correlation=0.6954923098527053, pvalue=2.2632303993299397e-07)\n",
      "Spearman correlation (Felix,Charlotta): sadness SpearmanrResult(correlation=0.43586149342630176, pvalue=0.003482929528143291)\n",
      "Spearman correlation (Felix,Max): sadness SpearmanrResult(correlation=0.5926672850869389, pvalue=2.8220562557526246e-05)\n",
      "Spearman correlation (Charlotta,Max): sadness SpearmanrResult(correlation=0.7694248591535434, pvalue=1.6528557811572373e-09)\n",
      "Spearman correlation (Felix,Charlotta): trust SpearmanrResult(correlation=0.684639964280095, pvalue=4.126331680756657e-07)\n",
      "Spearman correlation (Felix,Max): trust SpearmanrResult(correlation=0.6740738957704383, pvalue=7.229408695429473e-07)\n",
      "Spearman correlation (Charlotta,Max): trust SpearmanrResult(correlation=0.7439135383754868, pvalue=1.0883015123776748e-08)\n",
      "Spearman correlation (Felix,Charlotta): disgust SpearmanrResult(correlation=0.2115113614031194, pvalue=0.1733352963239948)\n",
      "Spearman correlation (Felix,Max): disgust SpearmanrResult(correlation=0.6997781053914355, pvalue=1.7724357331275403e-07)\n",
      "Spearman correlation (Charlotta,Max): disgust SpearmanrResult(correlation=0.15316971293620996, pvalue=0.3267868453810935)\n",
      "Spearman correlation (Felix,Charlotta): fear SpearmanrResult(correlation=0.6711709071222659, pvalue=8.400429122468276e-07)\n",
      "Spearman correlation (Felix,Max): fear SpearmanrResult(correlation=0.6713612292321802, pvalue=8.318576564243376e-07)\n",
      "Spearman correlation (Charlotta,Max): fear SpearmanrResult(correlation=0.9997165131055722, pvalue=3.4657462159073014e-68)\n",
      "Spearman correlation (Felix,Charlotta): anger SpearmanrResult(correlation=0.5209997826431204, pvalue=0.0003409331872084604)\n",
      "Spearman correlation (Felix,Max): anger SpearmanrResult(correlation=0.5219321028151633, pvalue=0.0003312130096415517)\n",
      "Spearman correlation (Charlotta,Max): anger SpearmanrResult(correlation=0.7063289022925112, pvalue=1.2097605673224717e-07)\n",
      "Spearman correlation (Felix,Charlotta): surprise SpearmanrResult(correlation=0.19336426284556205, pvalue=0.2140979068025775)\n",
      "Spearman correlation (Felix,Max): surprise SpearmanrResult(correlation=0.1266200606556069, pvalue=0.4184571541751809)\n",
      "Spearman correlation (Charlotta,Max): surprise SpearmanrResult(correlation=0.44523066239693265, pvalue=0.002773879798685162)\n",
      "Spearman correlation (Felix,Charlotta): anticipation SpearmanrResult(correlation=0.15475756742331248, pvalue=0.3217364298299089)\n",
      "Spearman correlation (Felix,Max): anticipation SpearmanrResult(correlation=0.12351376494403418, pvalue=0.43005590792369774)\n",
      "Spearman correlation (Charlotta,Max): anticipation SpearmanrResult(correlation=0.19636614040289285, pvalue=0.20693257027841225)\n"
     ]
    }
   ],
   "source": [
    "for emotion in emotions:\n",
    "    print('Spearman correlation (Felix,Charlotta):', emotion, stats.spearmanr(df[emotion +\"-Felix\"], df[emotion +\"-Charlotta\"]))\n",
    "    print('Spearman correlation (Felix,Max):',emotion, stats.spearmanr(df[emotion +\"-Felix\"], df[emotion +\"-Max\"]))\n",
    "    print('Spearman correlation (Charlotta,Max):', emotion, stats.spearmanr(df[emotion +\"-Charlotta\"], df[emotion +\"-Max\"]))"
   ]
  },
  {
   "cell_type": "code",
   "execution_count": null,
   "metadata": {},
   "outputs": [],
   "source": []
  }
 ],
 "metadata": {
  "kernelspec": {
   "display_name": "Python 3",
   "language": "python",
   "name": "python3"
  },
  "language_info": {
   "codemirror_mode": {
    "name": "ipython",
    "version": 3
   },
   "file_extension": ".py",
   "mimetype": "text/x-python",
   "name": "python",
   "nbconvert_exporter": "python",
   "pygments_lexer": "ipython3",
   "version": "3.8.6"
  }
 },
 "nbformat": 4,
 "nbformat_minor": 4
}
