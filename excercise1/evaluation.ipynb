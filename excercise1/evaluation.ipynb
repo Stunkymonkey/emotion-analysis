{
 "cells": [
  {
   "cell_type": "code",
   "execution_count": 1,
   "metadata": {},
   "outputs": [],
   "source": [
    "import pandas as pd\n",
    "import sklearn\n",
    "import numpy as np\n",
    "from nltk import agreement"
   ]
  },
  {
   "cell_type": "code",
   "execution_count": 2,
   "metadata": {},
   "outputs": [],
   "source": [
    "emotions = [\"joy\", \"sadness\", \"trust\", \"disgust\", \"fear\", \"anger\", \"surprise\", \"anticipation\"]\n",
    "anotator = [\"Felix\", \"Carlotta\", \"Max\"]"
   ]
  },
  {
   "cell_type": "code",
   "execution_count": 3,
   "metadata": {},
   "outputs": [],
   "source": [
    "df = pd.read_csv(\"EA_assignm1_annotation-environment_combined - Tabellenblatt1.csv\")"
   ]
  },
  {
   "cell_type": "code",
   "execution_count": 4,
   "metadata": {},
   "outputs": [],
   "source": [
    "df = df.drop(columns=['ID', 'comment', 'Unnamed: 26', 'Unnamed: 27'])\n",
    "# df[\"ID\"] = df[\"ID\"].astype(int)\n",
    "df = df.rename(columns={\"joy\": \"joy-Felix\", \"Unnamed: 2\": \"joy-Carlotta\", \"Unnamed: 3\": \"joy-Max\"})\n",
    "df = df.rename(columns={\"sadness\": \"sadness-Felix\", \"Unnamed: 5\": \"sadness-Carlotta\", \"Unnamed: 6\": \"sadness-Max\"})\n",
    "df = df.rename(columns={\"trust\": \"trust-Felix\", \"Unnamed: 8\": \"trust-Carlotta\", \"Unnamed: 9\": \"trust-Max\"})\n",
    "df = df.rename(columns={\"disgust\": \"disgust-Felix\", \"Unnamed: 11\": \"disgust-Carlotta\", \"Unnamed: 12\": \"disgust-Max\"})\n",
    "df = df.rename(columns={\"fear\": \"fear-Felix\", \"Unnamed: 14\": \"fear-Carlotta\", \"Unnamed: 15\": \"fear-Max\"})\n",
    "df = df.rename(columns={\"anger\": \"anger-Felix\", \"Unnamed: 17\": \"anger-Carlotta\", \"Unnamed: 18\": \"anger-Max\"})\n",
    "df = df.rename(columns={\"surprise\": \"surprise-Felix\", \"Unnamed: 20\": \"surprise-Carlotta\", \"Unnamed: 21\": \"surprise-Max\"})\n",
    "df = df.rename(columns={\"anticipation\": \"anticipation-Felix\", \"Unnamed: 23\": \"anticipation-Carlotta\", \"Unnamed: 24\": \"anticipation-Max\"})\n",
    "df = df.dropna()"
   ]
  },
  {
   "cell_type": "code",
   "execution_count": 5,
   "metadata": {},
   "outputs": [],
   "source": [
    "def equal_distance(label1, label2):\n",
    "    label1, label2 = int(label1), int(label2)\n",
    "    return 0.0 if label1 == label2 else 1.0\n",
    "\n",
    "def zero_other_distance(label1, label2):\n",
    "    label1, label2 = int(label1), int(label2)\n",
    "    if label1 > 0:\n",
    "        label1 = 1\n",
    "    else:\n",
    "        label1 = 0\n",
    "    if label2 > 0:\n",
    "        label2 = 1\n",
    "    else:\n",
    "        label2 = 0\n",
    "    return 0.0 if label1 == label2 else 1.0\n",
    "\n",
    "def zero_one_other_distance(label1, label2):\n",
    "    label1, label2 = int(label1), int(label2)\n",
    "    if label1 > 1:\n",
    "        label1 = 1\n",
    "    else:\n",
    "        label1 = 0\n",
    "    if label2 > 1:\n",
    "        label2 = 1\n",
    "    else:\n",
    "        label2 = 0\n",
    "    return 0.0 if label1 == label2 else 1.0"
   ]
  },
  {
   "cell_type": "code",
   "execution_count": 6,
   "metadata": {},
   "outputs": [
    {
     "name": "stdout",
     "output_type": "stream",
     "text": [
      "Fleiss's Kappa: joy 0.7862468931234465\n",
      "Fleiss's Kappa: sadness 0.7223567393058916\n",
      "Fleiss's Kappa: trust 0.7252396166134185\n",
      "Fleiss's Kappa: disgust 0.8430656934306567\n",
      "Fleiss's Kappa: fear 0.738203957382039\n",
      "Fleiss's Kappa: anger 0.7697798929208806\n",
      "Fleiss's Kappa: surprise 0.4079551249362571\n",
      "Fleiss's Kappa: anticipation 0.469135802469136\n"
     ]
    }
   ],
   "source": [
    "amount = len(df)\n",
    "for emotion in emotions:\n",
    "    formatted_codes = [[1,i,df[emotion +\"-Felix\"].iloc[i]] for i in range(amount)] + [[2,i,df[emotion +\"-Carlotta\"].iloc[i]] for i in range(amount)]  + [[3,i,df[emotion +\"-Max\"].iloc[i]] for i in range(amount)]\n",
    "    # data-input: (coder,item,label)\n",
    "    ratingtask = agreement.AnnotationTask(data=formatted_codes, distance=zero_one_other_distance)\n",
    "\n",
    "    print('Fleiss\\'s Kappa:', emotion, ratingtask.multi_kappa())"
   ]
  },
  {
   "cell_type": "code",
   "execution_count": null,
   "metadata": {},
   "outputs": [],
   "source": []
  }
 ],
 "metadata": {
  "kernelspec": {
   "display_name": "Python 3",
   "language": "python",
   "name": "python3"
  },
  "language_info": {
   "codemirror_mode": {
    "name": "ipython",
    "version": 3
   },
   "file_extension": ".py",
   "mimetype": "text/x-python",
   "name": "python",
   "nbconvert_exporter": "python",
   "pygments_lexer": "ipython3",
   "version": "3.8.6"
  }
 },
 "nbformat": 4,
 "nbformat_minor": 4
}
