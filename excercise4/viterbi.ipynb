{
 "cells": [
  {
   "cell_type": "markdown",
   "metadata": {
    "collapsed": true,
    "pycharm": {
     "name": "#%% md\n"
    }
   },
   "source": [
    "# Viterbi version of target sequence labelling\n",
    "# Intro\n",
    "The viterbi algorithm for labelling sequences uses the Hidden-Markov-Model and computes the\n",
    "most probable label sequence as the combination of transition and emission probabilities for\n",
    "the given word sequence. It is most often used in POS-tagging but nicely fits our task of\n",
    "labelling emotion target sequences. As it uses not only the observed tokens but also the last\n",
    "(number of) tag, it takes the probability of tags following each other into account. As our tags\n",
    "are rigid in their sequence (Inside only follows Beginning, Beginning only follows Outside), using\n",
    "transition probabilities will improve the output labels by hopefully avoiding illegal tag transitions.\n",
    "# Method\n",
    "The used viterbi algorithm is implemented from scratch and works on the non-preprocessed tokens.\n",
    "To use it, the data has to be prepared first."
   ]
  },
  {
   "cell_type": "code",
   "execution_count": 2,
   "outputs": [],
   "source": [
    "import pandas"
   ],
   "metadata": {
    "collapsed": false,
    "pycharm": {
     "name": "#%%\n"
    }
   }
  },
  {
   "cell_type": "markdown",
   "source": [
    "## Data preparation\n",
    "As seen later, the algorithm is trained by calculating emission and transition probabilities,\n",
    "which are taken from the tokenized training data. First, the file is loaded and all unnecessary\n",
    "parts are dropped."
   ],
   "metadata": {
    "collapsed": false
   }
  },
  {
   "cell_type": "code",
   "execution_count": 4,
   "outputs": [
    {
     "name": "stdout",
     "output_type": "stream",
     "text": [
      "Index(['dataset', 'id', 'emotions', 'text', 'tokens', 'annotations', 'meta',\n",
      "       'steps', 'tags', 'split', 'annotation-offsets', 'extra'],\n",
      "      dtype='object')\n",
      "Index(['dataset', 'id', 'emotions', 'tokens', 'experiencer', 'target',\n",
      "       'cause'],\n",
      "      dtype='object')\n"
     ]
    }
   ],
   "source": [
    "with open('emotion-rl-corpora.jsonl', encoding='utf-8') as f:\n",
    "    data_source = pandas.read_json(f, lines=True)\n",
    "data_source = data_source.loc[\n",
    "    (data_source['dataset']=='reman')|(data_source['dataset']=='electoral_tweets')|(data_source['dataset']=='gne')\n",
    "]\n",
    "\n",
    "data_source = data_source.drop(columns=[\n",
    "    'meta', 'steps', 'tags', 'split', 'annotation-offsets', 'extra'\n",
    "])\n",
    "\n",
    "data_source = data_source.join(data_source['annotations'].apply(pandas.Series))\n",
    "\n",
    "data_source = data_source.drop(columns=['annotations', 'cause', 'cue-joy', 'cue-sadness', 'cue-anger', 'cue-other', 'cue-disgust',\n",
    "    'cue-trust', 'cue-anticipation', 'cue-surprise', 'cue-fear', 'cue', 'experiencer'])"
   ],
   "metadata": {
    "collapsed": false,
    "pycharm": {
     "name": "#%%\n"
    }
   }
  },
  {
   "cell_type": "markdown",
   "source": [
    "After removing every annotation but target and all additional information other than the corpus and text id,\n",
    "the raw text itself and token and label lists, the algorithm can be trained.\n",
    "## Training\n",
    "### HMM\n",
    "The viterbi algorithm is based on a Hidden-Markov model, as the model computes the probability of a token-tag sequence\n",
    "and viterbi is a way to return the tag sequence with the highest probability. Why viterbi is necessary will be explained\n",
    "after implementing a HMM."
   ],
   "metadata": {
    "collapsed": false,
    "pycharm": {
     "name": "#%% md\n"
    }
   }
  },
  {
   "cell_type": "code",
   "execution_count": null,
   "outputs": [],
   "source": [
    "class HiddenMarkovModel:\n",
    "    transitions = dict()\n",
    "    emissions = dict()\n",
    "    prior = dict()\n",
    "    observations = {'transitions': transitions, 'emissions': emissions}\n",
    "\n",
    "    def __init__(self):\n",
    "        self.transitions = {'O': {'O': 0, 'B': 0, 'I': 0}, 'B': {'O': 0, 'B': 0, 'I': 0}, 'I': {'O': 0, 'B': 0, 'I': 0}}\n",
    "        self.prior = {'O': 0, 'B': 0, 'I': 0}\n",
    "\n",
    "    def train_probabilities(self, train_set: pandas.DataFrame):\n",
    "        trans = {'O': {'O': 0, 'B': 0, 'I': 0}, 'B': {'O': 0, 'B': 0, 'I': 0}, 'I': {'O': 0, 'B': 0, 'I': 0}}\n",
    "        emi = dict()\n",
    "        prior = {'O': 0, 'B': 0, 'I': 0}\n",
    "        for text in train_set:\n",
    "            # The current sequence consists of (word, tag) pairs\n",
    "            sequence = list(zip(train_set[text]['tokens'],train_set[text]['target']))\n",
    "\n",
    "            for i in range(len(sequence)):\n",
    "                # First tag: Prior probabilities\n",
    "                if i == 0:\n",
    "                    prior[sequence[i][1]] += 1\n",
    "                else:\n",
    "                    trans[sequence[i][1]][sequence[i-1][1]] += 1\n",
    "                    tok = sequence[i][0]\n",
    "                    tag = sequence[i][1]\n",
    "                    if tok in emi:\n",
    "                        emi[tag][tok] += 1\n",
    "                    else:\n",
    "                        emi[tag] = {'O': 0, 'B': 0, 'I': 0}\n",
    "                        emi[tag][tok] += 1\n",
    "            for tag in {'O', 'B', 'I'}:\n",
    "                freq = sum(trans[tag].values())\n",
    "                for prev_tag in trans[tag]:\n",
    "                    trans[tag][prev_tag] /= freq\n",
    "                prior[tag] /= sum(prior.values())\n",
    "\n",
    "            for tok in emi:\n",
    "                freq = sum(emi[tok].values())\n",
    "                for tag in {'O', 'B', 'I'}:\n",
    "                    emi[type][tag] /= freq\n",
    "\n",
    "            emi['$OOV'] = {tag: sum(trans[tag].values())/sum([sum(trans[tag2].values()) for tag2 in {'O', 'B', 'I'}]) for tag in {'O', 'B', 'I'}}\n",
    "        self.transitions = trans\n",
    "        self.emissions = emi\n",
    "        self.prior = prior"
   ],
   "metadata": {
    "collapsed": false,
    "pycharm": {
     "name": "#%%\n"
    }
   }
  },
  {
   "cell_type": "markdown",
   "source": [
    "### Viterbi\n",
    "The trained HMM includes the emission probabilities as token-tag-pair-frequencies relative to token-frequency and\n",
    "transition probabilities as tag bigram frequencies relative to the frequency of the second tag. As every token in the\n",
    "sequence has three tag possibilities which are also influenced by the previous tag, there are 3<sup>n</sup> tag sequences\n",
    "for a sequence with n tokens, all with differing probabilities. Viterbi keeps track of the maximum probability of a current\n",
    "token and the maximum probability of different histories to compute the best sequence from all HMM-sequences."
   ],
   "metadata": {
    "collapsed": false,
    "pycharm": {
     "name": "#%% md\n"
    }
   }
  },
  {
   "cell_type": "code",
   "execution_count": null,
   "outputs": [],
   "source": [
    "def viterbi(sequence: list[str], hmm: HiddenMarkovModel):\n",
    "    max_labels = list()\n",
    "    for i, token in enumerate(sequence):\n",
    "        if token in hmm.emissions:\n",
    "            e = hmm.emissions[token]\n",
    "        if i == 0:\n",
    "            t = hmm.prior\n",
    "    # TODO: Viterbi maximum ausrechnen\n",
    "\n",
    "    return max_labels"
   ],
   "metadata": {
    "collapsed": false,
    "pycharm": {
     "name": "#%%\n"
    }
   }
  }
 ],
 "metadata": {
  "kernelspec": {
   "display_name": "Python 3",
   "language": "python",
   "name": "python3"
  },
  "language_info": {
   "codemirror_mode": {
    "name": "ipython",
    "version": 2
   },
   "file_extension": ".py",
   "mimetype": "text/x-python",
   "name": "python",
   "nbconvert_exporter": "python",
   "pygments_lexer": "ipython2",
   "version": "2.7.6"
  }
 },
 "nbformat": 4,
 "nbformat_minor": 0
}