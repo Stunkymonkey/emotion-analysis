{
 "cells": [
  {
   "cell_type": "code",
   "execution_count": 1,
   "metadata": {},
   "outputs": [],
   "source": [
    "train_on = ['reman', 'gne', 'electoral_tweets'][1]\n",
    "# set maximum sentence length\n",
    "maxlen = 100"
   ]
  },
  {
   "cell_type": "markdown",
   "metadata": {},
   "source": [
    "# import"
   ]
  },
  {
   "cell_type": "code",
   "execution_count": 2,
   "metadata": {},
   "outputs": [
    {
     "name": "stderr",
     "output_type": "stream",
     "text": [
      "WARNING:root:Limited tf.compat.v2.summary API due to missing TensorBoard installation.\n",
      "WARNING:root:Limited tf.compat.v2.summary API due to missing TensorBoard installation.\n",
      "WARNING:root:Limited tf.compat.v2.summary API due to missing TensorBoard installation.\n",
      "WARNING:root:Limited tf.summary API due to missing TensorBoard installation.\n"
     ]
    }
   ],
   "source": [
    "import pandas as pd\n",
    "import numpy as np\n",
    "import collections\n",
    "from tqdm import tqdm\n",
    "from sklearn.utils import class_weight\n",
    "from sklearn.model_selection import train_test_split\n",
    "from keras.preprocessing.sequence import pad_sequences\n",
    "from keras.utils.np_utils import to_categorical   \n",
    "import tensorflow as tf\n",
    "from keras import backend as K\n",
    "from keras.callbacks import ReduceLROnPlateau, Callback\n",
    "from transformers import  RobertaTokenizer\n",
    "from transformers import RobertaConfig, TFRobertaModel\n",
    "from keras.models import Model, Input\n",
    "from keras.layers.merge import add\n",
    "from keras.layers import *\n",
    "from keras.optimizers import *\n",
    "import json"
   ]
  },
  {
   "cell_type": "markdown",
   "metadata": {},
   "source": [
    "# read data"
   ]
  },
  {
   "cell_type": "code",
   "execution_count": 3,
   "metadata": {},
   "outputs": [],
   "source": [
    "df = pd.read_json(\"emotion-rl-corpora-DO-NOT-SHARE.jsonl\", lines = True)"
   ]
  },
  {
   "cell_type": "code",
   "execution_count": 4,
   "metadata": {},
   "outputs": [],
   "source": [
    "# remove unused columns\n",
    "df = df.drop(columns=['text', 'emotions', 'meta', 'steps', 'tags', 'annotation-offsets', 'split', 'extra'])\n",
    "# make json to column\n",
    "df = df.join(df['annotations'].apply(pd.Series))\n",
    "# remove created unused columns\n",
    "df = df.drop(columns=['cue-joy', 'cue-sadness', 'cue-anger', 'cue-other', 'cue-disgust', 'cue-trust', 'cue-anticipation', 'cue-surprise', 'cue-fear', 'cue'])\n",
    "# remove unused columns\n",
    "df = df.drop(columns=['annotations', 'cause', 'experiencer'])\n",
    "# drop nan-rows\n",
    "df = df.dropna()"
   ]
  },
  {
   "cell_type": "markdown",
   "metadata": {},
   "source": [
    "# preprocessing"
   ]
  },
  {
   "cell_type": "code",
   "execution_count": 5,
   "metadata": {},
   "outputs": [
    {
     "name": "stdout",
     "output_type": "stream",
     "text": [
      "maximum sentence length 121\n"
     ]
    }
   ],
   "source": [
    "print(\"maximum sentence length\", len(max(df[\"tokens\"], key=len)))"
   ]
  },
  {
   "cell_type": "code",
   "execution_count": 6,
   "metadata": {},
   "outputs": [
    {
     "data": {
      "text/plain": [
       "array(['reman', 'gne', 'electoral_tweets'], dtype=object)"
      ]
     },
     "execution_count": 6,
     "metadata": {},
     "output_type": "execute_result"
    }
   ],
   "source": [
    "df['dataset'].unique()"
   ]
  },
  {
   "cell_type": "code",
   "execution_count": 7,
   "metadata": {},
   "outputs": [],
   "source": [
    "data_source = df.loc[(df['dataset'] == train_on)]"
   ]
  },
  {
   "cell_type": "code",
   "execution_count": 8,
   "metadata": {},
   "outputs": [],
   "source": [
    "tag2idx = {t:i for i,t in enumerate(['O', 'B', 'I'])}\n",
    "idx2tag = {i:t for i,t in enumerate(['O', 'B', 'I'])}"
   ]
  },
  {
   "cell_type": "code",
   "execution_count": 9,
   "metadata": {},
   "outputs": [],
   "source": [
    "X = data_source[\"tokens\"].to_numpy()\n",
    "y = data_source[\"target\"].to_numpy()"
   ]
  },
  {
   "cell_type": "code",
   "execution_count": 10,
   "metadata": {},
   "outputs": [],
   "source": [
    "#X = pad_sequences(X, maxlen, value=\"__PADWORD__\", dtype=object, padding='post')"
   ]
  },
  {
   "cell_type": "code",
   "execution_count": 11,
   "metadata": {},
   "outputs": [],
   "source": [
    "# pad labels to same lenght\n",
    "y = pad_sequences(y, maxlen, value='O', dtype=object, padding='post')\n",
    "y = np.array([[tag2idx[w] for w in s] for s in y])"
   ]
  },
  {
   "cell_type": "code",
   "execution_count": 12,
   "metadata": {},
   "outputs": [
    {
     "name": "stdout",
     "output_type": "stream",
     "text": [
      "{0: 128250, 1: 4565, 2: 17185}\n"
     ]
    },
    {
     "data": {
      "text/plain": [
       "{0: 0.3898635477582846, 1: 10.95290251916758, 2: 2.909514111143439}"
      ]
     },
     "execution_count": 12,
     "metadata": {},
     "output_type": "execute_result"
    }
   ],
   "source": [
    "# count class-occurences\n",
    "unique, counts = np.unique(y, return_counts=True)\n",
    "print(dict(zip(unique, counts)))\n",
    "# calculate class imbalances\n",
    "class_weights = class_weight.compute_class_weight('balanced', classes=np.unique(y), y=np.hstack(y))\n",
    "class_weights = dict(enumerate(class_weights))\n",
    "class_weights\n",
    "# can not be used, because of 2d outcome for single doc"
   ]
  },
  {
   "cell_type": "code",
   "execution_count": 13,
   "metadata": {},
   "outputs": [],
   "source": [
    "X_train, X_test, y_train, y_test = train_test_split(X, y, test_size=0.33, random_state=420)"
   ]
  },
  {
   "cell_type": "code",
   "execution_count": 14,
   "metadata": {},
   "outputs": [],
   "source": [
    "# define tokenizer\n",
    "tokenizer = RobertaTokenizer.from_pretrained('roberta-base', do_lower_case=True, is_split_into_words=True,\n",
    "                                              max_length=maxlen, pad_to_max_length=True, add_special_tokens=False)"
   ]
  },
  {
   "cell_type": "code",
   "execution_count": 15,
   "metadata": {},
   "outputs": [],
   "source": [
    "def tokenize(sentences, tokenizer):\n",
    "    input_ids, input_masks, input_segments = [],[],[]\n",
    "    for sentence in sentences:\n",
    "        inputs = tokenizer.encode_plus(sentence, return_attention_mask=True, return_token_type_ids=True, add_special_tokens=False,\n",
    "                                       max_length=maxlen, padding='max_length', is_split_into_words=True, truncation=True)\n",
    "        input_ids.append(inputs['input_ids'])\n",
    "        input_masks.append(inputs['attention_mask'])\n",
    "        input_segments.append(inputs['token_type_ids'])        \n",
    "        \n",
    "    return np.asarray(input_ids, dtype='int32'), np.asarray(input_masks, dtype='int32'), np.asarray(input_segments, dtype='int32')"
   ]
  },
  {
   "cell_type": "code",
   "execution_count": 16,
   "metadata": {},
   "outputs": [],
   "source": [
    "input_ids, input_masks, _ = tokenize(X_train, tokenizer)\n",
    "test_input_ids, test_input_masks, _ = tokenize(X_test, tokenizer)"
   ]
  },
  {
   "cell_type": "code",
   "execution_count": 17,
   "metadata": {},
   "outputs": [],
   "source": [
    "y_train = to_categorical(y_train, num_classes=3)\n",
    "y_test = to_categorical(y_test, num_classes=3)"
   ]
  },
  {
   "cell_type": "markdown",
   "metadata": {},
   "source": [
    "# train"
   ]
  },
  {
   "cell_type": "code",
   "execution_count": 18,
   "metadata": {},
   "outputs": [
    {
     "name": "stderr",
     "output_type": "stream",
     "text": [
      "Some weights of the model checkpoint at roberta-base were not used when initializing TFRobertaModel: ['lm_head']\n",
      "- This IS expected if you are initializing TFRobertaModel from the checkpoint of a model trained on another task or with another architecture (e.g. initializing a BertForSequenceClassification model from a BertForPretraining model).\n",
      "- This IS NOT expected if you are initializing TFRobertaModel from the checkpoint of a model that you expect to be exactly identical (initializing a BertForSequenceClassification model from a BertForSequenceClassification model).\n",
      "All the weights of TFRobertaModel were initialized from the model checkpoint at roberta-base.\n",
      "If your task is similar to the task the model of the checkpoint was trained on, you can already use TFRobertaModel for predictions without further training.\n"
     ]
    },
    {
     "name": "stdout",
     "output_type": "stream",
     "text": [
      "WARNING:tensorflow:AutoGraph could not transform <bound method TFBertMainLayer.call of <transformers.modeling_tf_roberta.TFRobertaMainLayer object at 0x7fe55dd942b0>> and will run it as-is.\n",
      "Please report this to the TensorFlow team. When filing the bug, set the verbosity to 10 (on Linux, `export AUTOGRAPH_VERBOSITY=10`) and attach the full output.\n",
      "Cause: module 'gast' has no attribute 'Index'\n",
      "To silence this warning, decorate the function with @tf.autograph.experimental.do_not_convert\n"
     ]
    },
    {
     "name": "stderr",
     "output_type": "stream",
     "text": [
      "WARNING:tensorflow:AutoGraph could not transform <bound method TFBertMainLayer.call of <transformers.modeling_tf_roberta.TFRobertaMainLayer object at 0x7fe55dd942b0>> and will run it as-is.\n",
      "Please report this to the TensorFlow team. When filing the bug, set the verbosity to 10 (on Linux, `export AUTOGRAPH_VERBOSITY=10`) and attach the full output.\n",
      "Cause: module 'gast' has no attribute 'Index'\n",
      "To silence this warning, decorate the function with @tf.autograph.experimental.do_not_convert\n"
     ]
    },
    {
     "name": "stdout",
     "output_type": "stream",
     "text": [
      "WARNING: AutoGraph could not transform <bound method TFBertMainLayer.call of <transformers.modeling_tf_roberta.TFRobertaMainLayer object at 0x7fe55dd942b0>> and will run it as-is.\n",
      "Please report this to the TensorFlow team. When filing the bug, set the verbosity to 10 (on Linux, `export AUTOGRAPH_VERBOSITY=10`) and attach the full output.\n",
      "Cause: module 'gast' has no attribute 'Index'\n",
      "To silence this warning, decorate the function with @tf.autograph.experimental.do_not_convert\n",
      "WARNING:tensorflow:AutoGraph could not transform <bound method TFBertEmbeddings._embedding of <transformers.modeling_tf_roberta.TFRobertaEmbeddings object at 0x7fe554532430>> and will run it as-is.\n",
      "Please report this to the TensorFlow team. When filing the bug, set the verbosity to 10 (on Linux, `export AUTOGRAPH_VERBOSITY=10`) and attach the full output.\n",
      "Cause: module 'gast' has no attribute 'Index'\n",
      "To silence this warning, decorate the function with @tf.autograph.experimental.do_not_convert\n"
     ]
    },
    {
     "name": "stderr",
     "output_type": "stream",
     "text": [
      "WARNING:tensorflow:AutoGraph could not transform <bound method TFBertEmbeddings._embedding of <transformers.modeling_tf_roberta.TFRobertaEmbeddings object at 0x7fe554532430>> and will run it as-is.\n",
      "Please report this to the TensorFlow team. When filing the bug, set the verbosity to 10 (on Linux, `export AUTOGRAPH_VERBOSITY=10`) and attach the full output.\n",
      "Cause: module 'gast' has no attribute 'Index'\n",
      "To silence this warning, decorate the function with @tf.autograph.experimental.do_not_convert\n"
     ]
    },
    {
     "name": "stdout",
     "output_type": "stream",
     "text": [
      "WARNING: AutoGraph could not transform <bound method TFBertEmbeddings._embedding of <transformers.modeling_tf_roberta.TFRobertaEmbeddings object at 0x7fe554532430>> and will run it as-is.\n",
      "Please report this to the TensorFlow team. When filing the bug, set the verbosity to 10 (on Linux, `export AUTOGRAPH_VERBOSITY=10`) and attach the full output.\n",
      "Cause: module 'gast' has no attribute 'Index'\n",
      "To silence this warning, decorate the function with @tf.autograph.experimental.do_not_convert\n",
      "WARNING:tensorflow:AutoGraph could not transform <bound method TFBertEncoder.call of <transformers.modeling_tf_bert.TFBertEncoder object at 0x7fe554031550>> and will run it as-is.\n",
      "Please report this to the TensorFlow team. When filing the bug, set the verbosity to 10 (on Linux, `export AUTOGRAPH_VERBOSITY=10`) and attach the full output.\n",
      "Cause: module 'gast' has no attribute 'Index'\n",
      "To silence this warning, decorate the function with @tf.autograph.experimental.do_not_convert\n"
     ]
    },
    {
     "name": "stderr",
     "output_type": "stream",
     "text": [
      "WARNING:tensorflow:AutoGraph could not transform <bound method TFBertEncoder.call of <transformers.modeling_tf_bert.TFBertEncoder object at 0x7fe554031550>> and will run it as-is.\n",
      "Please report this to the TensorFlow team. When filing the bug, set the verbosity to 10 (on Linux, `export AUTOGRAPH_VERBOSITY=10`) and attach the full output.\n",
      "Cause: module 'gast' has no attribute 'Index'\n",
      "To silence this warning, decorate the function with @tf.autograph.experimental.do_not_convert\n"
     ]
    },
    {
     "name": "stdout",
     "output_type": "stream",
     "text": [
      "WARNING: AutoGraph could not transform <bound method TFBertEncoder.call of <transformers.modeling_tf_bert.TFBertEncoder object at 0x7fe554031550>> and will run it as-is.\n",
      "Please report this to the TensorFlow team. When filing the bug, set the verbosity to 10 (on Linux, `export AUTOGRAPH_VERBOSITY=10`) and attach the full output.\n",
      "Cause: module 'gast' has no attribute 'Index'\n",
      "To silence this warning, decorate the function with @tf.autograph.experimental.do_not_convert\n",
      "WARNING:tensorflow:AutoGraph could not transform <bound method TFBertLayer.call of <transformers.modeling_tf_bert.TFBertLayer object at 0x7fe55ddeec10>> and will run it as-is.\n",
      "Please report this to the TensorFlow team. When filing the bug, set the verbosity to 10 (on Linux, `export AUTOGRAPH_VERBOSITY=10`) and attach the full output.\n",
      "Cause: module 'gast' has no attribute 'Index'\n",
      "To silence this warning, decorate the function with @tf.autograph.experimental.do_not_convert\n"
     ]
    },
    {
     "name": "stderr",
     "output_type": "stream",
     "text": [
      "WARNING:tensorflow:AutoGraph could not transform <bound method TFBertLayer.call of <transformers.modeling_tf_bert.TFBertLayer object at 0x7fe55ddeec10>> and will run it as-is.\n",
      "Please report this to the TensorFlow team. When filing the bug, set the verbosity to 10 (on Linux, `export AUTOGRAPH_VERBOSITY=10`) and attach the full output.\n",
      "Cause: module 'gast' has no attribute 'Index'\n",
      "To silence this warning, decorate the function with @tf.autograph.experimental.do_not_convert\n"
     ]
    },
    {
     "name": "stdout",
     "output_type": "stream",
     "text": [
      "WARNING: AutoGraph could not transform <bound method TFBertLayer.call of <transformers.modeling_tf_bert.TFBertLayer object at 0x7fe55ddeec10>> and will run it as-is.\n",
      "Please report this to the TensorFlow team. When filing the bug, set the verbosity to 10 (on Linux, `export AUTOGRAPH_VERBOSITY=10`) and attach the full output.\n",
      "Cause: module 'gast' has no attribute 'Index'\n",
      "To silence this warning, decorate the function with @tf.autograph.experimental.do_not_convert\n",
      "WARNING:tensorflow:AutoGraph could not transform <bound method TFBertAttention.call of <transformers.modeling_tf_bert.TFBertAttention object at 0x7fe55ddee8b0>> and will run it as-is.\n",
      "Please report this to the TensorFlow team. When filing the bug, set the verbosity to 10 (on Linux, `export AUTOGRAPH_VERBOSITY=10`) and attach the full output.\n",
      "Cause: module 'gast' has no attribute 'Index'\n",
      "To silence this warning, decorate the function with @tf.autograph.experimental.do_not_convert\n"
     ]
    },
    {
     "name": "stderr",
     "output_type": "stream",
     "text": [
      "WARNING:tensorflow:AutoGraph could not transform <bound method TFBertAttention.call of <transformers.modeling_tf_bert.TFBertAttention object at 0x7fe55ddee8b0>> and will run it as-is.\n",
      "Please report this to the TensorFlow team. When filing the bug, set the verbosity to 10 (on Linux, `export AUTOGRAPH_VERBOSITY=10`) and attach the full output.\n",
      "Cause: module 'gast' has no attribute 'Index'\n",
      "To silence this warning, decorate the function with @tf.autograph.experimental.do_not_convert\n"
     ]
    },
    {
     "name": "stdout",
     "output_type": "stream",
     "text": [
      "WARNING: AutoGraph could not transform <bound method TFBertAttention.call of <transformers.modeling_tf_bert.TFBertAttention object at 0x7fe55ddee8b0>> and will run it as-is.\n",
      "Please report this to the TensorFlow team. When filing the bug, set the verbosity to 10 (on Linux, `export AUTOGRAPH_VERBOSITY=10`) and attach the full output.\n",
      "Cause: module 'gast' has no attribute 'Index'\n",
      "To silence this warning, decorate the function with @tf.autograph.experimental.do_not_convert\n",
      "WARNING:tensorflow:AutoGraph could not transform <bound method TFBertSelfAttention.call of <transformers.modeling_tf_bert.TFBertSelfAttention object at 0x7fe55ddee490>> and will run it as-is.\n",
      "Please report this to the TensorFlow team. When filing the bug, set the verbosity to 10 (on Linux, `export AUTOGRAPH_VERBOSITY=10`) and attach the full output.\n",
      "Cause: module 'gast' has no attribute 'Index'\n",
      "To silence this warning, decorate the function with @tf.autograph.experimental.do_not_convert\n"
     ]
    },
    {
     "name": "stderr",
     "output_type": "stream",
     "text": [
      "WARNING:tensorflow:AutoGraph could not transform <bound method TFBertSelfAttention.call of <transformers.modeling_tf_bert.TFBertSelfAttention object at 0x7fe55ddee490>> and will run it as-is.\n",
      "Please report this to the TensorFlow team. When filing the bug, set the verbosity to 10 (on Linux, `export AUTOGRAPH_VERBOSITY=10`) and attach the full output.\n",
      "Cause: module 'gast' has no attribute 'Index'\n",
      "To silence this warning, decorate the function with @tf.autograph.experimental.do_not_convert\n"
     ]
    },
    {
     "name": "stdout",
     "output_type": "stream",
     "text": [
      "WARNING: AutoGraph could not transform <bound method TFBertSelfAttention.call of <transformers.modeling_tf_bert.TFBertSelfAttention object at 0x7fe55ddee490>> and will run it as-is.\n",
      "Please report this to the TensorFlow team. When filing the bug, set the verbosity to 10 (on Linux, `export AUTOGRAPH_VERBOSITY=10`) and attach the full output.\n",
      "Cause: module 'gast' has no attribute 'Index'\n",
      "To silence this warning, decorate the function with @tf.autograph.experimental.do_not_convert\n",
      "WARNING:tensorflow:AutoGraph could not transform <bound method TFBertPooler.call of <transformers.modeling_tf_bert.TFBertPooler object at 0x7fe554031e80>> and will run it as-is.\n",
      "Please report this to the TensorFlow team. When filing the bug, set the verbosity to 10 (on Linux, `export AUTOGRAPH_VERBOSITY=10`) and attach the full output.\n",
      "Cause: module 'gast' has no attribute 'Index'\n",
      "To silence this warning, decorate the function with @tf.autograph.experimental.do_not_convert\n"
     ]
    },
    {
     "name": "stderr",
     "output_type": "stream",
     "text": [
      "WARNING:tensorflow:AutoGraph could not transform <bound method TFBertPooler.call of <transformers.modeling_tf_bert.TFBertPooler object at 0x7fe554031e80>> and will run it as-is.\n",
      "Please report this to the TensorFlow team. When filing the bug, set the verbosity to 10 (on Linux, `export AUTOGRAPH_VERBOSITY=10`) and attach the full output.\n",
      "Cause: module 'gast' has no attribute 'Index'\n",
      "To silence this warning, decorate the function with @tf.autograph.experimental.do_not_convert\n"
     ]
    },
    {
     "name": "stdout",
     "output_type": "stream",
     "text": [
      "WARNING: AutoGraph could not transform <bound method TFBertPooler.call of <transformers.modeling_tf_bert.TFBertPooler object at 0x7fe554031e80>> and will run it as-is.\n",
      "Please report this to the TensorFlow team. When filing the bug, set the verbosity to 10 (on Linux, `export AUTOGRAPH_VERBOSITY=10`) and attach the full output.\n",
      "Cause: module 'gast' has no attribute 'Index'\n",
      "To silence this warning, decorate the function with @tf.autograph.experimental.do_not_convert\n",
      "Model: \"functional_1\"\n",
      "__________________________________________________________________________________________________\n",
      "Layer (type)                    Output Shape         Param #     Connected to                     \n",
      "==================================================================================================\n",
      "input_token (InputLayer)        [(None, 30)]         0                                            \n",
      "__________________________________________________________________________________________________\n",
      "masked_token (InputLayer)       [(None, 30)]         0                                            \n",
      "__________________________________________________________________________________________________\n",
      "tf_roberta_model (TFRobertaMode ((None, 30, 768), (N 124645632   input_token[0][0]                \n",
      "                                                                 masked_token[0][0]               \n",
      "__________________________________________________________________________________________________\n",
      "bidirectional (Bidirectional)   (None, 30, 128)      426496      tf_roberta_model[0][14]          \n",
      "__________________________________________________________________________________________________\n",
      "bidirectional_1 (Bidirectional) (None, 30, 128)      98816       bidirectional[0][0]              \n",
      "__________________________________________________________________________________________________\n",
      "add (Add)                       (None, 30, 128)      0           bidirectional[0][0]              \n",
      "                                                                 bidirectional_1[0][0]            \n",
      "__________________________________________________________________________________________________\n",
      "time_distributed (TimeDistribut (None, 30, 3)        387         add[0][0]                        \n",
      "==================================================================================================\n",
      "Total params: 125,171,331\n",
      "Trainable params: 525,699\n",
      "Non-trainable params: 124,645,632\n",
      "__________________________________________________________________________________________________\n",
      "None\n",
      "Epoch 1/10\n",
      "105/105 [==============================] - 240s 2s/step - loss: 0.3906 - accuracy: 0.8527 - val_loss: 0.3342 - val_accuracy: 0.8528\n",
      "Epoch 2/10\n",
      "105/105 [==============================] - 236s 2s/step - loss: 0.3341 - accuracy: 0.8534 - val_loss: 0.3217 - val_accuracy: 0.8565\n",
      "Epoch 3/10\n",
      "105/105 [==============================] - 232s 2s/step - loss: 0.3250 - accuracy: 0.8556 - val_loss: 0.3220 - val_accuracy: 0.8498\n",
      "Epoch 4/10\n",
      "105/105 [==============================] - 246s 2s/step - loss: 0.3193 - accuracy: 0.8571 - val_loss: 0.3157 - val_accuracy: 0.8536\n",
      "Epoch 5/10\n",
      "105/105 [==============================] - 268s 3s/step - loss: 0.3149 - accuracy: 0.8595 - val_loss: 0.3160 - val_accuracy: 0.8522\n",
      "Epoch 6/10\n",
      "105/105 [==============================] - 228s 2s/step - loss: 0.3127 - accuracy: 0.8599 - val_loss: 0.3107 - val_accuracy: 0.8580\n",
      "Epoch 7/10\n",
      "105/105 [==============================] - 222s 2s/step - loss: 0.3106 - accuracy: 0.8599 - val_loss: 0.3112 - val_accuracy: 0.8580\n",
      "Epoch 8/10\n",
      "105/105 [==============================] - 250s 2s/step - loss: 0.3110 - accuracy: 0.8609 - val_loss: 0.3098 - val_accuracy: 0.8560\n",
      "Epoch 9/10\n",
      "105/105 [==============================] - 287s 3s/step - loss: 0.3067 - accuracy: 0.8612 - val_loss: 0.3076 - val_accuracy: 0.8587\n",
      "Epoch 10/10\n",
      "105/105 [==============================] - 303s 3s/step - loss: 0.3031 - accuracy: 0.8629 - val_loss: 0.3079 - val_accuracy: 0.8560\n"
     ]
    }
   ],
   "source": [
    "config = RobertaConfig.from_pretrained(\"roberta-base\", dropout=0.2, attention_dropout=0.2, output_hidden_states=True)\n",
    "transformer_model = TFRobertaModel.from_pretrained('roberta-base', config = config)\n",
    "transformer_model.trainable = False\n",
    "\n",
    "input_ids_in = Input(shape=(maxlen,), name='input_token', dtype='int32')\n",
    "input_masks_in = Input(shape=(maxlen,), name='masked_token', dtype='int32') \n",
    "\n",
    "embedding_layer = transformer_model(input_ids_in, attention_mask=input_masks_in)[0]\n",
    "x = Bidirectional(LSTM(units=64, return_sequences=True, recurrent_dropout=0.2, dropout=0.2))(embedding_layer)\n",
    "x_rnn = Bidirectional(LSTM(units=64, return_sequences=True, recurrent_dropout=0.2, dropout=0.2))(x)\n",
    "x = add([x, x_rnn]) # residual connection to the first biLSTM\n",
    "out = TimeDistributed(Dense(3, activation=\"softmax\"))(x)\n",
    "\n",
    "model = Model(inputs=[input_ids_in, input_masks_in], outputs = out)\n",
    "optimizer = Adam(learning_rate=0.0005)\n",
    "model.compile(optimizer=optimizer, loss=\"categorical_crossentropy\", metrics=[\"accuracy\"])\n",
    "\n",
    "print(model.summary())\n",
    "\n",
    "history = model.fit((input_ids, input_masks),\n",
    "                    y_train,\n",
    "                    epochs=10,\n",
    "                    batch_size=32,\n",
    "                    validation_data=((test_input_ids, test_input_masks),y_test),\n",
    "                    callbacks=[\n",
    "                        ReduceLROnPlateau(monitor='accuracy',\n",
    "                                          patience=3,\n",
    "                                          verbose=1,\n",
    "                                          factor=0.9,\n",
    "                                          min_lr=0.00001)\n",
    "                    ])"
   ]
  },
  {
   "cell_type": "markdown",
   "metadata": {},
   "source": [
    "# history"
   ]
  },
  {
   "cell_type": "code",
   "execution_count": 19,
   "metadata": {},
   "outputs": [
    {
     "data": {
      "image/png": "[encoded data removed]",
      "text/plain": [
       "<Figure size 432x288 with 1 Axes>"
      ]
     },
     "metadata": {
      "needs_background": "light"
     },
     "output_type": "display_data"
    },
    {
     "data": {
      "image/png": "[encoded data removed]",
      "text/plain": [
       "<Figure size 432x288 with 1 Axes>"
      ]
     },
     "metadata": {
      "needs_background": "light"
     },
     "output_type": "display_data"
    }
   ],
   "source": [
    "import matplotlib.pyplot as plt\n",
    "\n",
    "# summarize history for accuracy\n",
    "plt.plot(history.history['accuracy'])\n",
    "plt.plot(history.history['val_accuracy'])\n",
    "plt.title('model accuracy')\n",
    "plt.ylabel('accuracy')\n",
    "plt.xlabel('epoch')\n",
    "plt.legend(['train', 'val'], loc='upper left')\n",
    "plt.savefig(\"roberta-\" + train_on + \"-\" + str(maxlen) +\"-history-acc.png\", transparent=False, pad_inches=0.1,  dpi=500)\n",
    "plt.show()\n",
    "# summarize history for loss\n",
    "plt.plot(history.history['loss'])\n",
    "plt.plot(history.history['val_loss'])\n",
    "plt.title('model loss')\n",
    "plt.ylabel('loss')\n",
    "plt.xlabel('epoch')\n",
    "plt.legend(['train', 'val'], loc='upper left')\n",
    "plt.savefig(\"roberta-\" + train_on + \"-\" + str(maxlen) + \"-history-loss.png\", transparent=False, pad_inches=0.1,  dpi=500)\n",
    "plt.show()"
   ]
  },
  {
   "cell_type": "markdown",
   "metadata": {},
   "source": [
    "# export"
   ]
  },
  {
   "cell_type": "code",
   "execution_count": 20,
   "metadata": {},
   "outputs": [],
   "source": [
    "# select correct dataset\n",
    "data_source = df.loc[(df['dataset'] != train_on)]\n",
    "eval_on = data_source['dataset'].unique()"
   ]
  },
  {
   "cell_type": "code",
   "execution_count": 21,
   "metadata": {},
   "outputs": [],
   "source": [
    "def convertIdToTag(x):\n",
    "    return idx2tag[x]"
   ]
  },
  {
   "cell_type": "code",
   "execution_count": 22,
   "metadata": {},
   "outputs": [
    {
     "name": "stdout",
     "output_type": "stream",
     "text": [
      "reman\n",
      "23/23 [==============================] - 38s 2s/step\n",
      "electoral_tweets\n",
      "127/127 [==============================] - 218s 2s/step\n"
     ]
    }
   ],
   "source": [
    "# make evaluation on data and save everything to graphs\n",
    "result = dict()\n",
    "for data_set in eval_on:\n",
    "    print(data_set)\n",
    "    tmp = df.loc[(df['dataset'] == data_set)]\n",
    "    \n",
    "    ids = tmp[\"id\"].to_numpy()\n",
    "    X_pred = tmp[\"tokens\"].to_numpy()\n",
    "    y_true = tmp[\"target\"].to_numpy()\n",
    "    \n",
    "    val_input_ids, val_input_masks, _ = tokenize(X_pred, tokenizer)\n",
    "\n",
    "    y_pred = model.predict((val_input_ids, val_input_masks), verbose=1)\n",
    "\n",
    "    for (y_p, y_t, mask, d_id) in zip(y_pred, y_true, val_input_masks, ids):\n",
    "        prediction = np.argmax(y_p, axis=-1)\n",
    "        values = np.array(list(map(convertIdToTag, prediction)))\n",
    "        \n",
    "        mask = list(map(bool,mask))\n",
    "        final_prediction = values[mask]\n",
    "        \n",
    "        if len(final_prediction) == len(y_t):\n",
    "            result[d_id] = {\"predicted\": final_prediction,\"gold\": y_t}\n",
    "\n",
    "        #if np.count_nonzero(prediction) != 0:\n",
    "        #    print(list(map(lambda x, y:(x,y), X_pred[i], values[mask])))"
   ]
  },
  {
   "cell_type": "code",
   "execution_count": 23,
   "metadata": {},
   "outputs": [],
   "source": [
    "class NumpyEncoder(json.JSONEncoder):\n",
    "    def default(self, obj):\n",
    "        if isinstance(obj, np.ndarray):\n",
    "            return obj.tolist()\n",
    "        return json.JSONEncoder.default(self, obj)\n",
    "\n",
    "json_object = json.dumps(result, cls=NumpyEncoder)\n",
    "with open(\"roberta-\" + train_on + \"-\" + str(maxlen) + \".json\", \"w\") as outfile:\n",
    "    outfile.write(json_object)"
   ]
  },
  {
   "cell_type": "code",
   "execution_count": null,
   "metadata": {},
   "outputs": [],
   "source": []
  }
 ],
 "metadata": {
  "kernelspec": {
   "display_name": "Python 3",
   "language": "python",
   "name": "python3"
  },
  "language_info": {
   "codemirror_mode": {
    "name": "ipython",
    "version": 3
   },
   "file_extension": ".py",
   "mimetype": "text/x-python",
   "name": "python",
   "nbconvert_exporter": "python",
   "pygments_lexer": "ipython3",
   "version": "3.8.5"
  }
 },
 "nbformat": 4,
 "nbformat_minor": 4
}
